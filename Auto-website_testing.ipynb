{
 "cells": [
  {
   "cell_type": "code",
   "execution_count": 1,
   "id": "c51dd5d1-3b23-4492-82b1-40c89a5133d6",
   "metadata": {},
   "outputs": [],
   "source": [
    "from playwright.async_api import async_playwright\n",
    "\n",
    "playwright = await async_playwright().start()\n",
    "\n",
    "browser = await playwright.chromium.launch(headless=False)\n",
    "\n",
    "page = await browser.new_page()"
   ]
  },
  {
   "cell_type": "code",
   "execution_count": 21,
   "id": "632c7cb3-ebce-4e32-a9ad-e0a0d78cca3f",
   "metadata": {},
   "outputs": [],
   "source": [
    "RL_url = \"https://www.ralphlauren.com/women-clothing\" \n",
    "await page.goto(RL_url)\n",
    "rl= await page.eval_on_selector_all(\n",
    "    \"[srcset]\",\n",
    "    \"elements => elements.map(el => el.getAttribute('srcset'))\"\n",
    ")\n"
   ]
  },
  {
   "cell_type": "code",
   "execution_count": 40,
   "id": "fd909477-d5e3-4652-b87e-d4a75b8711b1",
   "metadata": {},
   "outputs": [],
   "source": [
    "Links=[]\n",
    "d={}\n",
    "d['Ralph Lauren']=rl\n",
    "Links.append(d)\n",
    "df = pd.concat([pd.DataFrame(d) for l in Links], ignore_index=True)\n",
    "df.to_csv('Image_Sources.csv',index=False)"
   ]
  },
  {
   "cell_type": "code",
   "execution_count": 22,
   "id": "cb06d326-8147-41e6-b5c4-a6d511f18864",
   "metadata": {},
   "outputs": [
    {
     "data": {
      "text/plain": [
       "<Response url='https://www.zara.com/us/en/woman-best-sellers-l5912.html?v1=2491343&regionGroupId=41' request=<Request url='https://www.zara.com/us/en/woman-best-sellers-l5912.html?v1=2491343&regionGroupId=41' method='GET'>>"
      ]
     },
     "execution_count": 22,
     "metadata": {},
     "output_type": "execute_result"
    }
   ],
   "source": [
    "# # zara\n",
    "# zara_url='https://www.zara.com/us/en/woman-best-sellers-l5912.html?v1=2491343&regionGroupId=41'\n",
    "# await page.goto(zara_url)"
   ]
  },
  {
   "cell_type": "code",
   "execution_count": 24,
   "id": "91abe2f9-b772-4b83-af8f-bd7c94fe123e",
   "metadata": {},
   "outputs": [
    {
     "data": {
      "text/plain": [
       "['https://static.zara.net/assets/public/bf87/c7ce/e425474595c6/516eb0984a66/09396130800-p/09396130800-p.jpg?ts=1732701280428&w=1095',\n",
       " 'https://static.zara.net/assets/public/5d4c/0421/0662435abcf8/9bd5915566da/09587541065-e1/09587541065-e1.jpg?ts=1732022253463&w=548',\n",
       " 'https://static.zara.net/assets/public/cdc4/7690/4e9843a4bc67/20d59a276567/09394712741-p/09394712741-p.jpg?ts=1732701663015&w=548',\n",
       " 'https://static.zara.net/stdstatic/6.40.2/images/transparent-background.png',\n",
       " 'https://static.zara.net/stdstatic/6.40.2/images/transparent-background.png',\n",
       " 'https://static.zara.net/stdstatic/6.40.2/images/transparent-background.png',\n",
       " 'https://static.zara.net/stdstatic/6.40.2/images/transparent-background.png',\n",
       " 'https://static.zara.net/stdstatic/6.40.2/images/transparent-background.png',\n",
       " 'https://static.zara.net/stdstatic/6.40.2/images/transparent-background.png',\n",
       " 'https://static.zara.net/stdstatic/6.40.2/images/transparent-background.png',\n",
       " 'https://static.zara.net/stdstatic/6.40.2/images/transparent-background.png',\n",
       " 'https://static.zara.net/stdstatic/6.40.2/images/transparent-background.png',\n",
       " 'https://static.zara.net/stdstatic/6.40.2/images/transparent-background.png',\n",
       " 'https://static.zara.net/stdstatic/6.40.2/images/transparent-background.png',\n",
       " 'https://static.zara.net/stdstatic/6.40.2/images/transparent-background.png',\n",
       " 'https://static.zara.net/stdstatic/6.40.2/images/transparent-background.png',\n",
       " 'https://static.zara.net/stdstatic/6.40.2/images/transparent-background.png',\n",
       " 'https://static.zara.net/stdstatic/6.40.2/images/transparent-background.png',\n",
       " 'https://static.zara.net/stdstatic/6.40.2/images/transparent-background.png',\n",
       " 'https://static.zara.net/stdstatic/6.40.2/images/transparent-background.png',\n",
       " 'https://static.zara.net/stdstatic/6.40.2/images/transparent-background.png',\n",
       " 'https://static.zara.net/stdstatic/6.40.2/images/transparent-background.png',\n",
       " 'https://static.zara.net/stdstatic/6.40.2/images/transparent-background.png',\n",
       " 'https://static.zara.net/stdstatic/6.40.2/images/transparent-background.png',\n",
       " 'https://static.zara.net/stdstatic/6.40.2/images/transparent-background.png',\n",
       " 'https://static.zara.net/stdstatic/6.40.2/images/transparent-background.png',\n",
       " 'https://static.zara.net/stdstatic/6.40.2/images/transparent-background.png',\n",
       " 'https://static.zara.net/stdstatic/6.40.2/images/transparent-background.png',\n",
       " 'https://static.zara.net/stdstatic/6.40.2/images/transparent-background.png',\n",
       " 'https://static.zara.net/stdstatic/6.40.2/images/transparent-background.png',\n",
       " 'https://static.zara.net/stdstatic/6.40.2/images/transparent-background.png',\n",
       " 'https://static.zara.net/stdstatic/6.40.2/images/transparent-background.png',\n",
       " 'https://static.zara.net/stdstatic/6.40.2/images/transparent-background.png',\n",
       " 'https://static.zara.net/stdstatic/6.40.2/images/transparent-background.png',\n",
       " 'https://static.zara.net/stdstatic/6.40.2/images/transparent-background.png']"
      ]
     },
     "execution_count": 24,
     "metadata": {},
     "output_type": "execute_result"
    }
   ],
   "source": [
    "# await page.eval_on_selector_all(\n",
    "#     'img.media-image__image.media__wrapper--media', \n",
    "#     'elements => elements.map(img => img.src)'\n",
    "#         )"
   ]
  },
  {
   "cell_type": "code",
   "execution_count": 28,
   "id": "7c717be3-8bcc-49e1-bf0f-46b7ae418fc2",
   "metadata": {},
   "outputs": [],
   "source": [
    "await page.get_attribute('img.media-image__image.media__wrapper--media','scr')"
   ]
  },
  {
   "cell_type": "code",
   "execution_count": 42,
   "id": "11d05b99-6fdd-42e5-87e4-5a0ae7080f34",
   "metadata": {},
   "outputs": [],
   "source": [
    "url='https://www.ralphlauren.com/sale?utm_source=PaidSearch&utm_medium=GooglePLA&utm_source=PaidSearch&utm_medium=GooglePLA&pkwid=Brand_Google_RLE_US_BR_X_Core_Exact_ralph+lauren&gad_source=1&gclid=Cj0KCQiAr7C6BhDRARIsAOUKifilEhUKwErfrkHDlooCfagpKY53auIIEI8M59OIGb9zZx8vdfHOc8MaAu1HEALw_wcB&gclsrc=aw.ds'"
   ]
  },
  {
   "cell_type": "code",
   "execution_count": 43,
   "id": "8eb1e0bd-ade6-42c2-8904-1e45f8e1e9fa",
   "metadata": {},
   "outputs": [
    {
     "data": {
      "text/plain": [
       "<Response url='https://www.ralphlauren.com/sale?utm_source=PaidSearch&utm_medium=GooglePLA&utm_source=PaidSearch&utm_medium=GooglePLA&pkwid=Brand_Google_RLE_US_BR_X_Core_Exact_ralph+lauren&gad_source=1&gclid=Cj0KCQiAr7C6BhDRARIsAOUKifilEhUKwErfrkHDlooCfagpKY53auIIEI8M59OIGb9zZx8vdfHOc8MaAu1HEALw_wcB&gclsrc=aw.ds' request=<Request url='https://www.ralphlauren.com/sale?utm_source=PaidSearch&utm_medium=GooglePLA&utm_source=PaidSearch&utm_medium=GooglePLA&pkwid=Brand_Google_RLE_US_BR_X_Core_Exact_ralph+lauren&gad_source=1&gclid=Cj0KCQiAr7C6BhDRARIsAOUKifilEhUKwErfrkHDlooCfagpKY53auIIEI8M59OIGb9zZx8vdfHOc8MaAu1HEALw_wcB&gclsrc=aw.ds' method='GET'>>"
      ]
     },
     "execution_count": 43,
     "metadata": {},
     "output_type": "execute_result"
    }
   ],
   "source": [
    "await page.goto(url)"
   ]
  },
  {
   "cell_type": "code",
   "execution_count": 2,
   "id": "b0a2a38a-4607-474a-8b26-4ccbdc9786a0",
   "metadata": {},
   "outputs": [],
   "source": [
    "uniqlo='https://www.uniqlo.com/us/en/spl/ranking/women'\n",
    "await page.goto(uniqlo)\n",
    "unq= await page.eval_on_selector_all(\n",
    "    \"div.fr-ec-product-tile-resize-wrapper img.fr-ec-image__img\",\n",
    "    \"elements => elements.map(e => e.src)\"\n",
    ")"
   ]
  },
  {
   "cell_type": "code",
   "execution_count": 3,
   "id": "8eead214-c048-4dff-9d25-5ac03c4ffe87",
   "metadata": {},
   "outputs": [
    {
     "data": {
      "text/plain": [
       "<Response url='https://www.uniqlo.com/us/en/spl/ranking/women' request=<Request url='https://www.uniqlo.com/us/en/spl/ranking/women' method='GET'>>"
      ]
     },
     "execution_count": 3,
     "metadata": {},
     "output_type": "execute_result"
    }
   ],
   "source": []
  },
  {
   "cell_type": "code",
   "execution_count": 9,
   "id": "8dc6217f-2637-4a6b-9e12-d662d6a5f7d3",
   "metadata": {},
   "outputs": [],
   "source": []
  },
  {
   "cell_type": "code",
   "execution_count": 10,
   "id": "536956ac-4594-4d1b-a392-481369f73bd8",
   "metadata": {},
   "outputs": [
    {
     "data": {
      "text/plain": [
       "['https://image.uniqlo.com/UQ/ST3/us/imagesgoods/469756/item/usgoods_09_469756_3x4.jpg?width=300',\n",
       " 'https://image.uniqlo.com/UQ/ST3/us/imagesgoods/469896/item/usgoods_67_469896_3x4.jpg?width=300',\n",
       " 'https://image.uniqlo.com/UQ/ST3/us/imagesgoods/465185/item/usgoods_00_465185_3x4.jpg?width=300',\n",
       " 'https://image.uniqlo.com/UQ/ST3/us/imagesgoods/469844/item/usgoods_03_469844_3x4.jpg?width=300',\n",
       " 'https://image.uniqlo.com/UQ/ST3/us/imagesgoods/449753/item/usgoods_34_449753_3x4.jpg?width=300',\n",
       " 'https://image.uniqlo.com/UQ/ST3/us/imagesgoods/465734/item/usgoods_09_465734_3x4.jpg?width=300',\n",
       " 'https://image.uniqlo.com/UQ/ST3/us/imagesgoods/469869/item/usgoods_04_469869_3x4.jpg?width=300',\n",
       " 'https://image.uniqlo.com/UQ/ST3/us/imagesgoods/424873/item/usgoods_31_424873_3x4.jpg?width=300',\n",
       " 'https://image.uniqlo.com/UQ/ST3/us/imagesgoods/470173/item/usgoods_52_470173_3x4.jpg?width=300',\n",
       " 'https://image.uniqlo.com/UQ/ST3/us/imagesgoods/469870/item/usgoods_59_469870_3x4.jpg?width=300',\n",
       " 'https://image.uniqlo.com/UQ/ST3/us/imagesgoods/470145/item/usgoods_57_470145_3x4.jpg?width=300',\n",
       " 'https://image.uniqlo.com/UQ/ST3/us/imagesgoods/459792/item/usgoods_03_459792_3x4.jpg?width=300',\n",
       " 'https://image.uniqlo.com/UQ/ST3/us/imagesgoods/444967/item/usgoods_05_444967_3x4.jpg?width=300',\n",
       " 'https://image.uniqlo.com/UQ/ST3/us/imagesgoods/469897/item/usgoods_18_469897_3x4.jpg?width=300',\n",
       " 'https://image.uniqlo.com/UQ/ST3/us/imagesgoods/469898/item/usgoods_69_469898_3x4.jpg?width=300',\n",
       " 'https://image.uniqlo.com/UQ/ST3/us/imagesgoods/470143/item/usgoods_10_470143_3x4.jpg?width=300',\n",
       " 'https://image.uniqlo.com/UQ/ST3/WesternCommon/imagesgoods/470015/item/goods_25_470015_3x4.jpg?width=300',\n",
       " 'https://image.uniqlo.com/UQ/ST3/us/imagesgoods/469872/item/usgoods_31_469872_3x4.jpg?width=300',\n",
       " 'https://image.uniqlo.com/UQ/ST3/WesternCommon/imagesgoods/470736/item/goods_15_470736_3x4.jpg?width=300',\n",
       " 'https://image.uniqlo.com/UQ/ST3/us/imagesgoods/450195/item/usgoods_32_450195_3x4.jpg?width=300',\n",
       " 'https://image.uniqlo.com/UQ/ST3/us/imagesgoods/442063/item/usgoods_32_442063_3x4.jpg?width=300',\n",
       " 'https://image.uniqlo.com/UQ/ST3/us/imagesgoods/469428/item/usgoods_73_469428_3x4.jpg?width=300',\n",
       " 'https://image.uniqlo.com/UQ/ST3/us/imagesgoods/469864/item/usgoods_30_469864_3x4.jpg?width=300',\n",
       " 'https://image.uniqlo.com/UQ/ST3/us/imagesgoods/471601/item/usgoods_30_471601_3x4.jpg?width=300',\n",
       " 'https://image.uniqlo.com/UQ/ST3/us/imagesgoods/469903/item/usgoods_57_469903_3x4.jpg?width=300',\n",
       " 'https://image.uniqlo.com/UQ/ST3/us/imagesgoods/460407/item/usgoods_09_460407_3x4.jpg?width=300',\n",
       " 'https://image.uniqlo.com/UQ/ST3/us/imagesgoods/444966/item/usgoods_53_444966_3x4.jpg?width=300',\n",
       " 'https://image.uniqlo.com/UQ/ST3/WesternCommon/imagesgoods/461053/item/goods_58_461053_3x4.jpg?width=300',\n",
       " 'https://image.uniqlo.com/UQ/ST3/us/imagesgoods/469862/item/usgoods_32_469862_3x4.jpg?width=300',\n",
       " 'https://image.uniqlo.com/UQ/ST3/us/imagesgoods/471279/item/usgoods_35_471279_3x4.jpg?width=300']"
      ]
     },
     "execution_count": 10,
     "metadata": {},
     "output_type": "execute_result"
    }
   ],
   "source": [
    "unq"
   ]
  },
  {
   "cell_type": "code",
   "execution_count": 12,
   "id": "56a58f95-5200-43a7-bb6a-d15f6c0156a0",
   "metadata": {},
   "outputs": [],
   "source": [
    "import pandas as pd"
   ]
  },
  {
   "cell_type": "code",
   "execution_count": 13,
   "id": "83e7f740-7167-45b0-bb4a-15eb72924db2",
   "metadata": {},
   "outputs": [
    {
     "data": {
      "text/html": [
       "<div>\n",
       "<style scoped>\n",
       "    .dataframe tbody tr th:only-of-type {\n",
       "        vertical-align: middle;\n",
       "    }\n",
       "\n",
       "    .dataframe tbody tr th {\n",
       "        vertical-align: top;\n",
       "    }\n",
       "\n",
       "    .dataframe thead th {\n",
       "        text-align: right;\n",
       "    }\n",
       "</style>\n",
       "<table border=\"1\" class=\"dataframe\">\n",
       "  <thead>\n",
       "    <tr style=\"text-align: right;\">\n",
       "      <th></th>\n",
       "      <th>Ralph_Lauren</th>\n",
       "    </tr>\n",
       "  </thead>\n",
       "  <tbody>\n",
       "    <tr>\n",
       "      <th>0</th>\n",
       "      <td>https://dtcralphlauren.scene7.com/is/image/Pol...</td>\n",
       "    </tr>\n",
       "    <tr>\n",
       "      <th>1</th>\n",
       "      <td>https://dtcralphlauren.scene7.com/is/image/Pol...</td>\n",
       "    </tr>\n",
       "    <tr>\n",
       "      <th>2</th>\n",
       "      <td>https://dtcralphlauren.scene7.com/is/image/Pol...</td>\n",
       "    </tr>\n",
       "    <tr>\n",
       "      <th>3</th>\n",
       "      <td>https://dtcralphlauren.scene7.com/is/image/Pol...</td>\n",
       "    </tr>\n",
       "    <tr>\n",
       "      <th>4</th>\n",
       "      <td>https://dtcralphlauren.scene7.com/is/image/Pol...</td>\n",
       "    </tr>\n",
       "  </tbody>\n",
       "</table>\n",
       "</div>"
      ],
      "text/plain": [
       "                                        Ralph_Lauren\n",
       "0  https://dtcralphlauren.scene7.com/is/image/Pol...\n",
       "1  https://dtcralphlauren.scene7.com/is/image/Pol...\n",
       "2  https://dtcralphlauren.scene7.com/is/image/Pol...\n",
       "3  https://dtcralphlauren.scene7.com/is/image/Pol...\n",
       "4  https://dtcralphlauren.scene7.com/is/image/Pol..."
      ]
     },
     "execution_count": 13,
     "metadata": {},
     "output_type": "execute_result"
    }
   ],
   "source": [
    "df=pd.read_csv('Image_Sources.csv')\n",
    "df.head()"
   ]
  },
  {
   "cell_type": "code",
   "execution_count": 19,
   "id": "7fa25628-5482-4e28-9407-cfb8f65fc381",
   "metadata": {},
   "outputs": [
    {
     "ename": "ValueError",
     "evalue": "Length of values (30) does not match length of index (92)",
     "output_type": "error",
     "traceback": [
      "\u001b[0;31m---------------------------------------------------------------------------\u001b[0m",
      "\u001b[0;31mValueError\u001b[0m                                Traceback (most recent call last)",
      "Cell \u001b[0;32mIn[19], line 1\u001b[0m\n\u001b[0;32m----> 1\u001b[0m df[\u001b[38;5;124m'\u001b[39m\u001b[38;5;124mUniqlo\u001b[39m\u001b[38;5;124m'\u001b[39m] \u001b[38;5;241m=\u001b[39m \u001b[43mpd\u001b[49m\u001b[38;5;241;43m.\u001b[39;49m\u001b[43mSeries\u001b[49m\u001b[43m(\u001b[49m\u001b[43munq\u001b[49m\u001b[43m,\u001b[49m\u001b[43mindex\u001b[49m\u001b[38;5;241;43m=\u001b[39;49m\u001b[43mdf\u001b[49m\u001b[38;5;241;43m.\u001b[39;49m\u001b[43mindex\u001b[49m\u001b[43m)\u001b[49m\n",
      "File \u001b[0;32m~/.pyenv/versions/3.12.7/lib/python3.12/site-packages/pandas/core/series.py:575\u001b[0m, in \u001b[0;36mSeries.__init__\u001b[0;34m(self, data, index, dtype, name, copy, fastpath)\u001b[0m\n\u001b[1;32m    573\u001b[0m     index \u001b[38;5;241m=\u001b[39m default_index(\u001b[38;5;28mlen\u001b[39m(data))\n\u001b[1;32m    574\u001b[0m \u001b[38;5;28;01melif\u001b[39;00m is_list_like(data):\n\u001b[0;32m--> 575\u001b[0m     \u001b[43mcom\u001b[49m\u001b[38;5;241;43m.\u001b[39;49m\u001b[43mrequire_length_match\u001b[49m\u001b[43m(\u001b[49m\u001b[43mdata\u001b[49m\u001b[43m,\u001b[49m\u001b[43m \u001b[49m\u001b[43mindex\u001b[49m\u001b[43m)\u001b[49m\n\u001b[1;32m    577\u001b[0m \u001b[38;5;66;03m# create/copy the manager\u001b[39;00m\n\u001b[1;32m    578\u001b[0m \u001b[38;5;28;01mif\u001b[39;00m \u001b[38;5;28misinstance\u001b[39m(data, (SingleBlockManager, SingleArrayManager)):\n",
      "File \u001b[0;32m~/.pyenv/versions/3.12.7/lib/python3.12/site-packages/pandas/core/common.py:573\u001b[0m, in \u001b[0;36mrequire_length_match\u001b[0;34m(data, index)\u001b[0m\n\u001b[1;32m    569\u001b[0m \u001b[38;5;250m\u001b[39m\u001b[38;5;124;03m\"\"\"\u001b[39;00m\n\u001b[1;32m    570\u001b[0m \u001b[38;5;124;03mCheck the length of data matches the length of the index.\u001b[39;00m\n\u001b[1;32m    571\u001b[0m \u001b[38;5;124;03m\"\"\"\u001b[39;00m\n\u001b[1;32m    572\u001b[0m \u001b[38;5;28;01mif\u001b[39;00m \u001b[38;5;28mlen\u001b[39m(data) \u001b[38;5;241m!=\u001b[39m \u001b[38;5;28mlen\u001b[39m(index):\n\u001b[0;32m--> 573\u001b[0m     \u001b[38;5;28;01mraise\u001b[39;00m \u001b[38;5;167;01mValueError\u001b[39;00m(\n\u001b[1;32m    574\u001b[0m         \u001b[38;5;124m\"\u001b[39m\u001b[38;5;124mLength of values \u001b[39m\u001b[38;5;124m\"\u001b[39m\n\u001b[1;32m    575\u001b[0m         \u001b[38;5;124mf\u001b[39m\u001b[38;5;124m\"\u001b[39m\u001b[38;5;124m(\u001b[39m\u001b[38;5;132;01m{\u001b[39;00m\u001b[38;5;28mlen\u001b[39m(data)\u001b[38;5;132;01m}\u001b[39;00m\u001b[38;5;124m) \u001b[39m\u001b[38;5;124m\"\u001b[39m\n\u001b[1;32m    576\u001b[0m         \u001b[38;5;124m\"\u001b[39m\u001b[38;5;124mdoes not match length of index \u001b[39m\u001b[38;5;124m\"\u001b[39m\n\u001b[1;32m    577\u001b[0m         \u001b[38;5;124mf\u001b[39m\u001b[38;5;124m\"\u001b[39m\u001b[38;5;124m(\u001b[39m\u001b[38;5;132;01m{\u001b[39;00m\u001b[38;5;28mlen\u001b[39m(index)\u001b[38;5;132;01m}\u001b[39;00m\u001b[38;5;124m)\u001b[39m\u001b[38;5;124m\"\u001b[39m\n\u001b[1;32m    578\u001b[0m     )\n",
      "\u001b[0;31mValueError\u001b[0m: Length of values (30) does not match length of index (92)"
     ]
    }
   ],
   "source": [
    "df['Uniqlo'] = pd.Series(unq,index=df.index)"
   ]
  },
  {
   "cell_type": "code",
   "execution_count": 35,
   "id": "1271f0e4-7c7c-4332-823d-cbcdca13ed67",
   "metadata": {},
   "outputs": [],
   "source": [
    "links=[]\n",
    "d = pd.DataFrame({'ExistingColumn': range(92)})"
   ]
  },
  {
   "cell_type": "code",
   "execution_count": 36,
   "id": "a95f1a07-6074-4976-9351-dd068c33d4ff",
   "metadata": {},
   "outputs": [],
   "source": [
    "rl_extended = rl + ['N/A'] * (len(d) - len(rl))\n",
    "unq_extended = unq + ['N/A'] * (len(d) - len(unq))\n",
    "d['Ralph_Lauren'] = rl_extended\n",
    "d['Uniqlo'] = unq_extended\n",
    "links.append(d)"
   ]
  },
  {
   "cell_type": "code",
   "execution_count": 37,
   "id": "e3d46f5e-c5e3-4460-b11f-3f6b5c2d3a80",
   "metadata": {},
   "outputs": [
    {
     "data": {
      "text/plain": [
       "[    ExistingColumn                                       Ralph_Lauren  \\\n",
       " 0                0  https://dtcralphlauren.scene7.com/is/image/Pol...   \n",
       " 1                1  https://dtcralphlauren.scene7.com/is/image/Pol...   \n",
       " 2                2  https://dtcralphlauren.scene7.com/is/image/Pol...   \n",
       " 3                3  https://dtcralphlauren.scene7.com/is/image/Pol...   \n",
       " 4                4  https://dtcralphlauren.scene7.com/is/image/Pol...   \n",
       " ..             ...                                                ...   \n",
       " 87              87  https://dtcralphlauren.scene7.com/is/image/Pol...   \n",
       " 88              88  https://dtcralphlauren.scene7.com/is/image/Pol...   \n",
       " 89              89  https://dtcralphlauren.scene7.com/is/image/Pol...   \n",
       " 90              90  https://dtcralphlauren.scene7.com/is/image/Pol...   \n",
       " 91              91  https://dtcralphlauren.scene7.com/is/image/Pol...   \n",
       " \n",
       "                                                Uniqlo  \n",
       " 0   https://image.uniqlo.com/UQ/ST3/us/imagesgoods...  \n",
       " 1   https://image.uniqlo.com/UQ/ST3/us/imagesgoods...  \n",
       " 2   https://image.uniqlo.com/UQ/ST3/us/imagesgoods...  \n",
       " 3   https://image.uniqlo.com/UQ/ST3/us/imagesgoods...  \n",
       " 4   https://image.uniqlo.com/UQ/ST3/us/imagesgoods...  \n",
       " ..                                                ...  \n",
       " 87                                                N/A  \n",
       " 88                                                N/A  \n",
       " 89                                                N/A  \n",
       " 90                                                N/A  \n",
       " 91                                                N/A  \n",
       " \n",
       " [92 rows x 3 columns]]"
      ]
     },
     "execution_count": 37,
     "metadata": {},
     "output_type": "execute_result"
    }
   ],
   "source": [
    "links"
   ]
  },
  {
   "cell_type": "code",
   "execution_count": 40,
   "id": "a4745dfe-bb12-42f4-9833-4e3547798252",
   "metadata": {},
   "outputs": [],
   "source": [
    "d.to_csv('Image_Sources.csv')"
   ]
  },
  {
   "cell_type": "code",
   "execution_count": 2,
   "id": "086261e8-c6a5-4e8e-8705-08b5636923a6",
   "metadata": {},
   "outputs": [
    {
     "data": {
      "text/plain": [
       "<Response url='https://www.zara.com/us/en/woman-best-sellers-l5912.html?v1=2491343&regionGroupId=41' request=<Request url='https://www.zara.com/us/en/woman-best-sellers-l5912.html?v1=2491343&regionGroupId=41' method='GET'>>"
      ]
     },
     "execution_count": 2,
     "metadata": {},
     "output_type": "execute_result"
    }
   ],
   "source": []
  },
  {
   "cell_type": "code",
   "execution_count": 13,
   "id": "ee011885-036d-44fd-aee0-daf846835535",
   "metadata": {},
   "outputs": [],
   "source": [
    "zara = await page.eval_on_selector_all(\n",
    "    'img[data-qa-qualifier=\"media-image\"]',\n",
    "    \"elements => elements.map(e => e.src)\"\n",
    ")\n",
    "zara = [e for e in zara if 'background' not in e]\n",
    "Zara=\"https://www.zara.com/us/en/woman-best-sellers-l5912.html?v1=2491343&regionGroupId=41\"\n",
    "await page.goto(Zara)"
   ]
  },
  {
   "cell_type": "code",
   "execution_count": 14,
   "id": "f5b774bc-d102-444f-bc7b-2ed77aaf4ae3",
   "metadata": {},
   "outputs": [],
   "source": []
  },
  {
   "cell_type": "code",
   "execution_count": 15,
   "id": "19840510-74f0-4c16-b6cb-4b264c68568a",
   "metadata": {},
   "outputs": [
    {
     "data": {
      "text/plain": [
       "['https://static.zara.net/assets/public/ddc7/ca0e/50624162b7f3/e79865d30814/IMAGE-woman-683a53ec-8f2d-4466-9d7c-c48fc9d55a9d-default/IMAGE-woman-683a53ec-8f2d-4466-9d7c-c48fc9d55a9d-default.jpg?ts=1732884255913&w=1095',\n",
       " 'https://static.zara.net/assets/public/96bc/656b/0ebc43218f1a/1e02ca563d7f/03920556800-p/03920556800-p.jpg?ts=1732811256496&w=548',\n",
       " 'https://static.zara.net/assets/public/c461/1b9f/ce0741ca857c/b47f95ee0543/02069399700-e1/02069399700-e1.jpg?ts=1732871278707&w=548',\n",
       " 'https://static.zara.net/assets/public/a8a0/3653/17564a2aba34/f6e2ed2fb8b1/01255783052-p/01255783052-p.jpg?ts=1732798166046&w=548',\n",
       " 'https://static.zara.net/assets/public/fdd4/9f5c/01f440618659/7dafddf1e691/01473102800-p/01473102800-p.jpg?ts=1733140440846&w=548',\n",
       " 'https://static.zara.net/assets/public/e55c/a988/cc49413ab794/a336f332baf7/IMAGE-dsk-cd664486-36db-4aa6-aad5-d78cf07736c1-default/IMAGE-dsk-cd664486-36db-4aa6-aad5-d78cf07736c1-default.jpg?ts=1733144517919&w=548',\n",
       " 'https://static.zara.net/assets/public/3211/fa9b/71654b6a8caf/b99d02cb69b4/06045322438-p/06045322438-p.jpg?ts=1732554271509&w=548',\n",
       " 'https://static.zara.net/assets/public/3fc9/b8ee/6dc346f58f18/730d50476d85/09873185800-p/09873185800-p.jpg?ts=1732614880000&w=1095',\n",
       " 'https://static.zara.net/assets/public/d89e/3435/98c84a50afe9/a9afb5ef3b14/04341772800-p/04341772800-p.jpg?ts=1732554273160&w=548',\n",
       " 'https://static.zara.net/assets/public/cc84/cec2/85484ac596bf/d0ba70ab2af0/00053185800-p/00053185800-p.jpg?ts=1732611803720&w=548',\n",
       " 'https://static.zara.net/assets/public/32c9/b5db/66df4aba96d4/a11818ccb4cb/06045422400-p/06045422400-p.jpg?ts=1732807889208&w=548',\n",
       " 'https://static.zara.net/assets/public/2430/51d1/d8254411b6d4/9cd2ebfffcda/03859127084-015-p/03859127084-015-p.jpg?ts=1732881507745&w=548',\n",
       " 'https://static.zara.net/assets/public/3fd8/c70d/63fd43faae0d/c3c90a97ef6a/06929400800-015-p/06929400800-015-p.jpg?ts=1732796874191&w=548',\n",
       " 'https://static.zara.net/assets/public/4c3b/2234/430c4801b7f2/bdbb5102c5e5/00006185401-p/00006185401-p.jpg?ts=1732201414236&w=548',\n",
       " 'https://static.zara.net/assets/public/b310/dbf0/628549e88d8d/9a5906e1f0f8/02136493070-p/02136493070-p.jpg?ts=1732811238864&w=1095',\n",
       " 'https://static.zara.net/assets/public/3751/b0ed/c69049ef962d/9949e61056df/04661371716-p/04661371716-p.jpg?ts=1732554338063&w=548',\n",
       " 'https://static.zara.net/assets/public/0610/3959/140f4d619da5/89e7c5c8244f/09598231812-p/09598231812-p.jpg?ts=1732786835967&w=548',\n",
       " 'https://static.zara.net/assets/public/a10f/c2a4/322d407cb5b5/aacfdd39c999/09881185800-p/09881185800-p.jpg?ts=1732611806500&w=548',\n",
       " 'https://static.zara.net/assets/public/f49d/1228/563d49b1b288/615daafff591/02010707800-p/02010707800-p.jpg?ts=1732554338365&w=548',\n",
       " 'https://static.zara.net/assets/public/c736/3ec4/c4fd48e29e74/3e7e20595f49/00036185600-p/00036185600-p.jpg?ts=1732611811816&w=548',\n",
       " 'https://static.zara.net/assets/public/96a2/cb76/1f734576963f/d04345fa7ed0/02046168802-p/02046168802-p.jpg?ts=1732811240723&w=548',\n",
       " 'https://static.zara.net/assets/public/e336/0570/75fb42849495/54ca27a9da5c/05644997824-p/05644997824-p.jpg?ts=1732807919099&w=1095',\n",
       " 'https://static.zara.net/assets/public/7a3d/fa99/6dd041afb4e7/fa89ae3489aa/02298051700-e1/02298051700-e1.jpg?ts=1732871274669&w=548',\n",
       " 'https://static.zara.net/assets/public/2896/c76f/a1134ac4aa4f/5c24f7d0a00e/03859112800-p/03859112800-p.jpg?ts=1733150597765&w=548',\n",
       " 'https://static.zara.net/assets/public/13fb/1c0a/87bb4b29b2ef/62ddff191fba/09964108700-p/09964108700-p.jpg?ts=1732611804923&w=548',\n",
       " 'https://static.zara.net/assets/public/8ed8/4eec/49a444989cc0/4007f30dfd51/04786297800-p/04786297800-p.jpg?ts=1732611804625&w=548',\n",
       " 'https://static.zara.net/assets/public/5e89/3ff4/28c84f648b8f/23c6f88d000e/05030117800-p/05030117800-p.jpg?ts=1732798163044&w=548',\n",
       " 'https://static.zara.net/assets/public/1e24/882b/75ca4b2e9fba/79b623658c0b/09844610808-p/09844610808-p.jpg?ts=1732811269057&w=548',\n",
       " 'https://static.zara.net/assets/public/75c4/4fa6/38e84438ad0d/a50306fbec03/02756002737-p/02756002737-p.jpg?ts=1732210496580&w=1095',\n",
       " 'https://static.zara.net/assets/public/9fa1/e2e5/c82e4b639d23/063d1fa2ab31/IMAGE-dsk-6216eba7-4919-4cf8-9094-7dcd43998c7a-default/IMAGE-dsk-6216eba7-4919-4cf8-9094-7dcd43998c7a-default.jpg?ts=1733144511781&w=548',\n",
       " 'https://static.zara.net/assets/public/d1f2/6a55/0d924815be6a/df7a33669c49/08073226800-p/08073226800-p.jpg?ts=1732811255202&w=548',\n",
       " 'https://static.zara.net/assets/public/b64d/9494/f4484a07b534/17fb4647be1f/09842610808-p/09842610808-p.jpg?ts=1732811269403&w=548',\n",
       " 'https://static.zara.net/assets/public/8f84/702a/c96c4d978df4/a3f8a2676de5/09992185800-p/09992185800-p.jpg?ts=1732611804264&w=548',\n",
       " 'https://static.zara.net/assets/public/49cd/54f4/73d049f18f36/7695452d217a/03067380684-p/03067380684-p.jpg?ts=1732616565051&w=548',\n",
       " 'https://static.zara.net/assets/public/507c/1c39/32b6401fa327/15d0023c8327/03067391529-p/03067391529-p.jpg?ts=1732616614553&w=548',\n",
       " 'https://static.zara.net/assets/public/1f0f/415f/9e104bd9bf7c/feb7e5500a04/01509107105-p/01509107105-p.jpg?ts=1733150600462&w=1095',\n",
       " 'https://static.zara.net/assets/public/d98e/3e55/14ea4e988b50/4cc8c2ec83c7/05644997700-p/05644997700-p.jpg?ts=1732807918607&w=548',\n",
       " 'https://static.zara.net/assets/public/8a2a/66e7/7c9f40378da7/1c5f1cbcad57/02138748800-p/02138748800-p.jpg?ts=1732811240120&w=548',\n",
       " 'https://static.zara.net/assets/public/db43/d712/75d647d8ad35/06009ac8c28a/05644997803-p/05644997803-p.jpg?ts=1732809513750&w=548',\n",
       " 'https://static.zara.net/assets/public/e542/f21b/31e043b980fa/6d2f520332f9/00089617800-p/00089617800-p.jpg?ts=1732811229268&w=548',\n",
       " 'https://static.zara.net/assets/public/a4bb/0cce/9b4d4c3392bb/921704424c05/02063066712-p/02063066712-p.jpg?ts=1732786769723&w=548',\n",
       " 'https://static.zara.net/assets/public/a291/b040/4176495fb9da/4274b7080b12/06929401700-p/06929401700-p.jpg?ts=1732554338011&w=548',\n",
       " 'https://static.zara.net/assets/public/0538/7dce/827a414aaa00/61b596a06a84/02070442407-p/02070442407-p.jpg?ts=1732786768100&w=1095',\n",
       " 'https://static.zara.net/assets/public/5849/e4b3/37334ba684f5/dfbaa763356b/04772241800-p/04772241800-p.jpg?ts=1732798154863&w=548',\n",
       " 'https://static.zara.net/assets/public/1b7a/2ded/7a57412aabd8/a66297719e3b/00106620800-p/00106620800-p.jpg?ts=1732811229631&w=548',\n",
       " 'https://static.zara.net/assets/public/89ea/7dc4/e2494f34a5d3/0d99364725ec/01255770800-p/01255770800-p.jpg?ts=1732801724893&w=548',\n",
       " 'https://static.zara.net/assets/public/a291/b040/4176495fb9da/4274b7080b12/06929401700-p/06929401700-p.jpg?ts=1732554338011&w=548',\n",
       " 'https://static.zara.net/assets/public/f1c8/dd2a/e5764546913a/e6cd407768b0/06045522717-p/06045522717-p.jpg?ts=1732554272801&w=548',\n",
       " 'https://static.zara.net/assets/public/c3ba/3d3d/8e48440db0ae/7b14ac1a33e3/09991121401-p/09991121401-p.jpg?ts=1732797626301&w=548',\n",
       " 'https://static.zara.net/assets/public/624d/ce9b/df5d44bbb916/7cac74313723/06318030800-p/06318030800-p.jpg?ts=1732811256141&w=1095',\n",
       " 'https://static.zara.net/assets/public/7c4b/c3cc/3f6848d7bc5b/f31c5e061d2c/13359410624-e1/13359410624-e1.jpg?ts=1732635589965&w=548',\n",
       " 'https://static.zara.net/assets/public/f168/2b42/f36343ac8dca/ea58d03e2187/13220410700-e1/13220410700-e1.jpg?ts=1732783637962&w=548',\n",
       " 'https://static.zara.net/assets/public/c928/3004/abe7490489eb/d2454a18e940/04772243800-p/04772243800-p.jpg?ts=1732798167060&w=548',\n",
       " 'https://static.zara.net/assets/public/8f54/b91a/5bd541238062/ed82499612d1/13059410700-e1/13059410700-e1.jpg?ts=1732796771394&w=548',\n",
       " 'https://static.zara.net/assets/public/6846/6560/f85c402e81fa/295bd6a8047e/06895268800-p/06895268800-p.jpg?ts=1732795389250&w=548',\n",
       " 'https://static.zara.net/assets/public/893b/5181/66204c19abc9/477fefc20377/06318271800-p/06318271800-p.jpg?ts=1732811256077&w=548',\n",
       " 'https://static.zara.net/assets/public/a2aa/3f97/1e2f40329842/6c628f190446/13144410800-e1/13144410800-e1.jpg?ts=1732783486444&w=1095',\n",
       " 'https://static.zara.net/assets/public/d093/5594/c0bb4b3b8269/0fcb8ce00896/IMAGE-dsk-3db62544-5eb5-4577-8917-df1878c3307a-default/IMAGE-dsk-3db62544-5eb5-4577-8917-df1878c3307a-default.jpg?ts=1733144543573&w=548',\n",
       " 'https://static.zara.net/assets/public/0ef1/4bcf/30af43aaabe9/82da85b44d68/07179240800-p/07179240800-p.jpg?ts=1732786799641&w=548',\n",
       " 'https://static.zara.net/assets/public/4dcd/1292/c1d041218233/cc00e6502feb/03067220800-p/03067220800-p.jpg?ts=1732620075645&w=548',\n",
       " 'https://static.zara.net/assets/public/a86f/5103/f6fc4a189151/ddce5c595ddf/06929510096-p/06929510096-p.jpg?ts=1732611443072&w=548',\n",
       " 'https://static.zara.net/assets/public/b288/dcce/71c04ed097c8/51956b65ff0e/05536183811-p/05536183811-p.jpg?ts=1733150599908&w=548',\n",
       " 'https://static.zara.net/assets/public/7314/3a8a/f6694606a750/a23132b4916a/07522263700-p/07522263700-p.jpg?ts=1732795386706&w=548',\n",
       " 'https://static.zara.net/assets/public/daa6/1b10/1d7b4336b74f/08ddbae80035/13237410700-e1/13237410700-e1.jpg?ts=1732796585187&w=1095',\n",
       " 'https://static.zara.net/assets/public/88e3/5ff3/81bd4b928e95/524d8cbee0a1/04043128800-p/04043128800-p.jpg?ts=1732795724178&w=548',\n",
       " 'https://static.zara.net/assets/public/24ce/ebf5/cd104d148127/21b34fee8289/05536184811-p/05536184811-p.jpg?ts=1733150600836&w=548',\n",
       " 'https://static.zara.net/assets/public/53af/ffd1/3c0d4a2ebb27/80193e8f0d0f/13096410800-e1/13096410800-e1.jpg?ts=1732793007510&w=548',\n",
       " 'https://static.zara.net/assets/public/a4f8/8190/c42e4880b296/240e68b2ac1a/07223042800-p/07223042800-p.jpg?ts=1732786807878&w=548',\n",
       " 'https://static.zara.net/assets/public/2941/252d/d82342a3a2f8/90143955300f/05755143800-p/05755143800-p.jpg?ts=1733140426922&w=548',\n",
       " 'https://static.zara.net/assets/public/6ba4/1445/879445ceb72e/9fbe7dbc2cb5/04043128800-p/04043128800-p.jpg?ts=1732611804159&w=548',\n",
       " 'https://static.zara.net/assets/public/da84/e16e/2e6944748d01/cdb1be006c95/16213510800-e1/16213510800-e1.jpg?ts=1732710880313&w=1095']"
      ]
     },
     "execution_count": 15,
     "metadata": {},
     "output_type": "execute_result"
    }
   ],
   "source": [
    "zara"
   ]
  },
  {
   "cell_type": "code",
   "execution_count": null,
   "id": "f7d4bfc2-511c-4978-bab8-9345dedcc21c",
   "metadata": {},
   "outputs": [],
   "source": []
  }
 ],
 "metadata": {
  "kernelspec": {
   "display_name": "Python 3 (ipykernel)",
   "language": "python",
   "name": "python3"
  },
  "language_info": {
   "codemirror_mode": {
    "name": "ipython",
    "version": 3
   },
   "file_extension": ".py",
   "mimetype": "text/x-python",
   "name": "python",
   "nbconvert_exporter": "python",
   "pygments_lexer": "ipython3",
   "version": "3.12.7"
  }
 },
 "nbformat": 4,
 "nbformat_minor": 5
}
