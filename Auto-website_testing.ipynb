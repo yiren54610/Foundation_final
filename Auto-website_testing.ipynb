{
 "cells": [
  {
   "cell_type": "code",
   "execution_count": null,
   "id": "a6ee3b65-1e97-4da6-a09b-8b88f5fb1bb2",
   "metadata": {},
   "outputs": [],
   "source": [
    "# steps\n",
    "-- scrape the data\n",
    "--"
   ]
  },
  {
   "cell_type": "code",
   "execution_count": 4,
   "id": "e0d18b7a-cb3a-412a-9a96-e56505e7fd1b",
   "metadata": {},
   "outputs": [
    {
     "name": "stdout",
     "output_type": "stream",
     "text": [
      "Failed to fetch the page. Status code: 307\n"
     ]
    }
   ],
   "source": [
    "# using pandas to scrape the data\n",
    "import pandas as pd\n",
    "import requests\n",
    "\n",
    "url = \"https://www.ralphlauren.com/women-clothing\"  \n",
    "headers = {\n",
    "    'User-Agent': 'Mozilla/5.0 (Windows NT 10.0; Win64; x64) AppleWebKit/537.36 (KHTML, like Gecko) Chrome/91.0.4472.124 Safari/537.36'\n",
    "}\n",
    "\n",
    "# Fetch the page with proper headers\n",
    "response = requests.get(url, headers=headers)\n",
    "\n",
    "# Check if the request was successful\n",
    "if response.status_code == 200:\n",
    "    # Pass the content to pandas\n",
    "    tables = pd.read_html(response.text)\n",
    "    print(\"Tables found:\", len(tables))\n",
    "    print(tables[0])  # Print the first table as an example\n",
    "else:\n",
    "    print(f\"Failed to fetch the page. Status code: {response.status_code}\")\n"
   ]
  },
  {
   "cell_type": "code",
   "execution_count": null,
   "id": "1630482a-fb7e-4665-b4f8-16d9797bfd78",
   "metadata": {},
   "outputs": [],
   "source": []
  }
 ],
 "metadata": {
  "kernelspec": {
   "display_name": "Python 3 (ipykernel)",
   "language": "python",
   "name": "python3"
  },
  "language_info": {
   "codemirror_mode": {
    "name": "ipython",
    "version": 3
   },
   "file_extension": ".py",
   "mimetype": "text/x-python",
   "name": "python",
   "nbconvert_exporter": "python",
   "pygments_lexer": "ipython3",
   "version": "3.12.7"
  }
 },
 "nbformat": 4,
 "nbformat_minor": 5
}
