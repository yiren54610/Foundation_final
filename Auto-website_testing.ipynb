{
 "cells": [
  {
   "cell_type": "code",
   "execution_count": null,
   "id": "a6ee3b65-1e97-4da6-a09b-8b88f5fb1bb2",
   "metadata": {},
   "outputs": [],
   "source": [
    "# steps\n",
    "-- scrape the data\n",
    "--"
   ]
  },
  {
   "cell_type": "code",
   "execution_count": 15,
   "id": "e0d18b7a-cb3a-412a-9a96-e56505e7fd1b",
   "metadata": {},
   "outputs": [],
   "source": [
    "# to scrape the data\n",
    "from bs4 import BeautifulSoup\n",
    "import pandas as pd\n",
    "import requests"
   ]
  },
  {
   "cell_type": "code",
   "execution_count": 21,
   "id": "c51dd5d1-3b23-4492-82b1-40c89a5133d6",
   "metadata": {},
   "outputs": [],
   "source": [
    "from playwright.async_api import async_playwright\n",
    "\n",
    "playwright = await async_playwright().start()\n",
    "\n",
    "browser = await playwright.chromium.launch(headless=False)\n",
    "\n",
    "page = await browser.new_page()"
   ]
  },
  {
   "cell_type": "code",
   "execution_count": 30,
   "id": "632c7cb3-ebce-4e32-a9ad-e0a0d78cca3f",
   "metadata": {},
   "outputs": [],
   "source": [
    "RL_url = \"https://www.ralphlauren.com/women-clothing\" \n",
    "await page.goto(RL_url)\n",
    "rl= await page.eval_on_selector_all(\n",
    "    \"[srcset]\",\n",
    "    \"elements => elements.map(el => el.getAttribute('srcset'))\"\n",
    ")\n"
   ]
  },
  {
   "cell_type": "code",
   "execution_count": 40,
   "id": "fd909477-d5e3-4652-b87e-d4a75b8711b1",
   "metadata": {},
   "outputs": [],
   "source": [
    "Links=[]\n",
    "d={}\n",
    "d['Ralph Lauren']=rl\n",
    "Links.append(d)\n",
    "df = pd.concat([pd.DataFrame(d) for l in Links], ignore_index=True)\n",
    "df.to_csv('Image_Sources.csv',index=False)"
   ]
  },
  {
   "cell_type": "code",
   "execution_count": 22,
   "id": "cb06d326-8147-41e6-b5c4-a6d511f18864",
   "metadata": {},
   "outputs": [
    {
     "data": {
      "text/plain": [
       "<Response url='https://www.zara.com/us/en/woman-best-sellers-l5912.html?v1=2491343&regionGroupId=41' request=<Request url='https://www.zara.com/us/en/woman-best-sellers-l5912.html?v1=2491343&regionGroupId=41' method='GET'>>"
      ]
     },
     "execution_count": 22,
     "metadata": {},
     "output_type": "execute_result"
    }
   ],
   "source": [
    "# # zara\n",
    "# zara_url='https://www.zara.com/us/en/woman-best-sellers-l5912.html?v1=2491343&regionGroupId=41'\n",
    "# await page.goto(zara_url)"
   ]
  },
  {
   "cell_type": "code",
   "execution_count": 24,
   "id": "91abe2f9-b772-4b83-af8f-bd7c94fe123e",
   "metadata": {},
   "outputs": [
    {
     "data": {
      "text/plain": [
       "['https://static.zara.net/assets/public/bf87/c7ce/e425474595c6/516eb0984a66/09396130800-p/09396130800-p.jpg?ts=1732701280428&w=1095',\n",
       " 'https://static.zara.net/assets/public/5d4c/0421/0662435abcf8/9bd5915566da/09587541065-e1/09587541065-e1.jpg?ts=1732022253463&w=548',\n",
       " 'https://static.zara.net/assets/public/cdc4/7690/4e9843a4bc67/20d59a276567/09394712741-p/09394712741-p.jpg?ts=1732701663015&w=548',\n",
       " 'https://static.zara.net/stdstatic/6.40.2/images/transparent-background.png',\n",
       " 'https://static.zara.net/stdstatic/6.40.2/images/transparent-background.png',\n",
       " 'https://static.zara.net/stdstatic/6.40.2/images/transparent-background.png',\n",
       " 'https://static.zara.net/stdstatic/6.40.2/images/transparent-background.png',\n",
       " 'https://static.zara.net/stdstatic/6.40.2/images/transparent-background.png',\n",
       " 'https://static.zara.net/stdstatic/6.40.2/images/transparent-background.png',\n",
       " 'https://static.zara.net/stdstatic/6.40.2/images/transparent-background.png',\n",
       " 'https://static.zara.net/stdstatic/6.40.2/images/transparent-background.png',\n",
       " 'https://static.zara.net/stdstatic/6.40.2/images/transparent-background.png',\n",
       " 'https://static.zara.net/stdstatic/6.40.2/images/transparent-background.png',\n",
       " 'https://static.zara.net/stdstatic/6.40.2/images/transparent-background.png',\n",
       " 'https://static.zara.net/stdstatic/6.40.2/images/transparent-background.png',\n",
       " 'https://static.zara.net/stdstatic/6.40.2/images/transparent-background.png',\n",
       " 'https://static.zara.net/stdstatic/6.40.2/images/transparent-background.png',\n",
       " 'https://static.zara.net/stdstatic/6.40.2/images/transparent-background.png',\n",
       " 'https://static.zara.net/stdstatic/6.40.2/images/transparent-background.png',\n",
       " 'https://static.zara.net/stdstatic/6.40.2/images/transparent-background.png',\n",
       " 'https://static.zara.net/stdstatic/6.40.2/images/transparent-background.png',\n",
       " 'https://static.zara.net/stdstatic/6.40.2/images/transparent-background.png',\n",
       " 'https://static.zara.net/stdstatic/6.40.2/images/transparent-background.png',\n",
       " 'https://static.zara.net/stdstatic/6.40.2/images/transparent-background.png',\n",
       " 'https://static.zara.net/stdstatic/6.40.2/images/transparent-background.png',\n",
       " 'https://static.zara.net/stdstatic/6.40.2/images/transparent-background.png',\n",
       " 'https://static.zara.net/stdstatic/6.40.2/images/transparent-background.png',\n",
       " 'https://static.zara.net/stdstatic/6.40.2/images/transparent-background.png',\n",
       " 'https://static.zara.net/stdstatic/6.40.2/images/transparent-background.png',\n",
       " 'https://static.zara.net/stdstatic/6.40.2/images/transparent-background.png',\n",
       " 'https://static.zara.net/stdstatic/6.40.2/images/transparent-background.png',\n",
       " 'https://static.zara.net/stdstatic/6.40.2/images/transparent-background.png',\n",
       " 'https://static.zara.net/stdstatic/6.40.2/images/transparent-background.png',\n",
       " 'https://static.zara.net/stdstatic/6.40.2/images/transparent-background.png',\n",
       " 'https://static.zara.net/stdstatic/6.40.2/images/transparent-background.png']"
      ]
     },
     "execution_count": 24,
     "metadata": {},
     "output_type": "execute_result"
    }
   ],
   "source": [
    "# await page.eval_on_selector_all(\n",
    "#     'img.media-image__image.media__wrapper--media', \n",
    "#     'elements => elements.map(img => img.src)'\n",
    "#         )"
   ]
  },
  {
   "cell_type": "code",
   "execution_count": 28,
   "id": "7c717be3-8bcc-49e1-bf0f-46b7ae418fc2",
   "metadata": {},
   "outputs": [],
   "source": [
    "await page.get_attribute('img.media-image__image.media__wrapper--media','scr')"
   ]
  },
  {
   "cell_type": "code",
   "execution_count": null,
   "id": "11d05b99-6fdd-42e5-87e4-5a0ae7080f34",
   "metadata": {},
   "outputs": [],
   "source": []
  }
 ],
 "metadata": {
  "kernelspec": {
   "display_name": "Python 3 (ipykernel)",
   "language": "python",
   "name": "python3"
  },
  "language_info": {
   "codemirror_mode": {
    "name": "ipython",
    "version": 3
   },
   "file_extension": ".py",
   "mimetype": "text/x-python",
   "name": "python",
   "nbconvert_exporter": "python",
   "pygments_lexer": "ipython3",
   "version": "3.12.7"
  }
 },
 "nbformat": 4,
 "nbformat_minor": 5
}
