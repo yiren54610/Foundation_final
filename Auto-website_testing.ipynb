{
 "cells": [
  {
   "cell_type": "code",
   "execution_count": 1,
   "id": "c51dd5d1-3b23-4492-82b1-40c89a5133d6",
   "metadata": {},
   "outputs": [],
   "source": [
    "from playwright.async_api import async_playwright\n",
    "\n",
    "playwright = await async_playwright().start()\n",
    "\n",
    "browser = await playwright.chromium.launch(headless=False)\n",
    "\n",
    "page = await browser.new_page()"
   ]
  },
  {
   "cell_type": "code",
   "execution_count": 21,
   "id": "632c7cb3-ebce-4e32-a9ad-e0a0d78cca3f",
   "metadata": {},
   "outputs": [],
   "source": [
    "RL_url = \"https://www.ralphlauren.com/women-clothing\" \n",
    "await page.goto(RL_url)\n",
    "rl= await page.eval_on_selector_all(\n",
    "    \"[srcset]\",\n",
    "    \"elements => elements.map(el => el.getAttribute('srcset'))\"\n",
    ")\n"
   ]
  },
  {
   "cell_type": "code",
   "execution_count": 40,
   "id": "fd909477-d5e3-4652-b87e-d4a75b8711b1",
   "metadata": {},
   "outputs": [],
   "source": [
    "Links=[]\n",
    "d={}\n",
    "d['Ralph Lauren']=rl\n",
    "Links.append(d)\n",
    "df = pd.concat([pd.DataFrame(d) for l in Links], ignore_index=True)\n",
    "df.to_csv('Image_Sources.csv',index=False)"
   ]
  },
  {
   "cell_type": "code",
   "execution_count": 22,
   "id": "cb06d326-8147-41e6-b5c4-a6d511f18864",
   "metadata": {},
   "outputs": [
    {
     "data": {
      "text/plain": [
       "<Response url='https://www.zara.com/us/en/woman-best-sellers-l5912.html?v1=2491343&regionGroupId=41' request=<Request url='https://www.zara.com/us/en/woman-best-sellers-l5912.html?v1=2491343&regionGroupId=41' method='GET'>>"
      ]
     },
     "execution_count": 22,
     "metadata": {},
     "output_type": "execute_result"
    }
   ],
   "source": [
    "# # zara\n",
    "# zara_url='https://www.zara.com/us/en/woman-best-sellers-l5912.html?v1=2491343&regionGroupId=41'\n",
    "# await page.goto(zara_url)"
   ]
  },
  {
   "cell_type": "code",
   "execution_count": 24,
   "id": "91abe2f9-b772-4b83-af8f-bd7c94fe123e",
   "metadata": {},
   "outputs": [
    {
     "data": {
      "text/plain": [
       "['https://static.zara.net/assets/public/bf87/c7ce/e425474595c6/516eb0984a66/09396130800-p/09396130800-p.jpg?ts=1732701280428&w=1095',\n",
       " 'https://static.zara.net/assets/public/5d4c/0421/0662435abcf8/9bd5915566da/09587541065-e1/09587541065-e1.jpg?ts=1732022253463&w=548',\n",
       " 'https://static.zara.net/assets/public/cdc4/7690/4e9843a4bc67/20d59a276567/09394712741-p/09394712741-p.jpg?ts=1732701663015&w=548',\n",
       " 'https://static.zara.net/stdstatic/6.40.2/images/transparent-background.png',\n",
       " 'https://static.zara.net/stdstatic/6.40.2/images/transparent-background.png',\n",
       " 'https://static.zara.net/stdstatic/6.40.2/images/transparent-background.png',\n",
       " 'https://static.zara.net/stdstatic/6.40.2/images/transparent-background.png',\n",
       " 'https://static.zara.net/stdstatic/6.40.2/images/transparent-background.png',\n",
       " 'https://static.zara.net/stdstatic/6.40.2/images/transparent-background.png',\n",
       " 'https://static.zara.net/stdstatic/6.40.2/images/transparent-background.png',\n",
       " 'https://static.zara.net/stdstatic/6.40.2/images/transparent-background.png',\n",
       " 'https://static.zara.net/stdstatic/6.40.2/images/transparent-background.png',\n",
       " 'https://static.zara.net/stdstatic/6.40.2/images/transparent-background.png',\n",
       " 'https://static.zara.net/stdstatic/6.40.2/images/transparent-background.png',\n",
       " 'https://static.zara.net/stdstatic/6.40.2/images/transparent-background.png',\n",
       " 'https://static.zara.net/stdstatic/6.40.2/images/transparent-background.png',\n",
       " 'https://static.zara.net/stdstatic/6.40.2/images/transparent-background.png',\n",
       " 'https://static.zara.net/stdstatic/6.40.2/images/transparent-background.png',\n",
       " 'https://static.zara.net/stdstatic/6.40.2/images/transparent-background.png',\n",
       " 'https://static.zara.net/stdstatic/6.40.2/images/transparent-background.png',\n",
       " 'https://static.zara.net/stdstatic/6.40.2/images/transparent-background.png',\n",
       " 'https://static.zara.net/stdstatic/6.40.2/images/transparent-background.png',\n",
       " 'https://static.zara.net/stdstatic/6.40.2/images/transparent-background.png',\n",
       " 'https://static.zara.net/stdstatic/6.40.2/images/transparent-background.png',\n",
       " 'https://static.zara.net/stdstatic/6.40.2/images/transparent-background.png',\n",
       " 'https://static.zara.net/stdstatic/6.40.2/images/transparent-background.png',\n",
       " 'https://static.zara.net/stdstatic/6.40.2/images/transparent-background.png',\n",
       " 'https://static.zara.net/stdstatic/6.40.2/images/transparent-background.png',\n",
       " 'https://static.zara.net/stdstatic/6.40.2/images/transparent-background.png',\n",
       " 'https://static.zara.net/stdstatic/6.40.2/images/transparent-background.png',\n",
       " 'https://static.zara.net/stdstatic/6.40.2/images/transparent-background.png',\n",
       " 'https://static.zara.net/stdstatic/6.40.2/images/transparent-background.png',\n",
       " 'https://static.zara.net/stdstatic/6.40.2/images/transparent-background.png',\n",
       " 'https://static.zara.net/stdstatic/6.40.2/images/transparent-background.png',\n",
       " 'https://static.zara.net/stdstatic/6.40.2/images/transparent-background.png']"
      ]
     },
     "execution_count": 24,
     "metadata": {},
     "output_type": "execute_result"
    }
   ],
   "source": [
    "# await page.eval_on_selector_all(\n",
    "#     'img.media-image__image.media__wrapper--media', \n",
    "#     'elements => elements.map(img => img.src)'\n",
    "#         )"
   ]
  },
  {
   "cell_type": "code",
   "execution_count": 28,
   "id": "7c717be3-8bcc-49e1-bf0f-46b7ae418fc2",
   "metadata": {},
   "outputs": [],
   "source": [
    "await page.get_attribute('img.media-image__image.media__wrapper--media','scr')"
   ]
  },
  {
   "cell_type": "code",
   "execution_count": 42,
   "id": "11d05b99-6fdd-42e5-87e4-5a0ae7080f34",
   "metadata": {},
   "outputs": [],
   "source": [
    "url='https://www.ralphlauren.com/sale?utm_source=PaidSearch&utm_medium=GooglePLA&utm_source=PaidSearch&utm_medium=GooglePLA&pkwid=Brand_Google_RLE_US_BR_X_Core_Exact_ralph+lauren&gad_source=1&gclid=Cj0KCQiAr7C6BhDRARIsAOUKifilEhUKwErfrkHDlooCfagpKY53auIIEI8M59OIGb9zZx8vdfHOc8MaAu1HEALw_wcB&gclsrc=aw.ds'"
   ]
  },
  {
   "cell_type": "code",
   "execution_count": 43,
   "id": "8eb1e0bd-ade6-42c2-8904-1e45f8e1e9fa",
   "metadata": {},
   "outputs": [
    {
     "data": {
      "text/plain": [
       "<Response url='https://www.ralphlauren.com/sale?utm_source=PaidSearch&utm_medium=GooglePLA&utm_source=PaidSearch&utm_medium=GooglePLA&pkwid=Brand_Google_RLE_US_BR_X_Core_Exact_ralph+lauren&gad_source=1&gclid=Cj0KCQiAr7C6BhDRARIsAOUKifilEhUKwErfrkHDlooCfagpKY53auIIEI8M59OIGb9zZx8vdfHOc8MaAu1HEALw_wcB&gclsrc=aw.ds' request=<Request url='https://www.ralphlauren.com/sale?utm_source=PaidSearch&utm_medium=GooglePLA&utm_source=PaidSearch&utm_medium=GooglePLA&pkwid=Brand_Google_RLE_US_BR_X_Core_Exact_ralph+lauren&gad_source=1&gclid=Cj0KCQiAr7C6BhDRARIsAOUKifilEhUKwErfrkHDlooCfagpKY53auIIEI8M59OIGb9zZx8vdfHOc8MaAu1HEALw_wcB&gclsrc=aw.ds' method='GET'>>"
      ]
     },
     "execution_count": 43,
     "metadata": {},
     "output_type": "execute_result"
    }
   ],
   "source": [
    "await page.goto(url)"
   ]
  },
  {
   "cell_type": "code",
   "execution_count": 2,
   "id": "b0a2a38a-4607-474a-8b26-4ccbdc9786a0",
   "metadata": {},
   "outputs": [],
   "source": [
    "uniqlo='https://www.uniqlo.com/us/en/spl/ranking/women'\n",
    "await page.goto(uniqlo)\n",
    "unq= await page.eval_on_selector_all(\n",
    "    \"div.fr-ec-product-tile-resize-wrapper img.fr-ec-image__img\",\n",
    "    \"elements => elements.map(e => e.src)\"\n",
    ")"
   ]
  },
  {
   "cell_type": "code",
   "execution_count": 3,
   "id": "8eead214-c048-4dff-9d25-5ac03c4ffe87",
   "metadata": {},
   "outputs": [
    {
     "data": {
      "text/plain": [
       "<Response url='https://www.uniqlo.com/us/en/spl/ranking/women' request=<Request url='https://www.uniqlo.com/us/en/spl/ranking/women' method='GET'>>"
      ]
     },
     "execution_count": 3,
     "metadata": {},
     "output_type": "execute_result"
    }
   ],
   "source": []
  },
  {
   "cell_type": "code",
   "execution_count": 9,
   "id": "8dc6217f-2637-4a6b-9e12-d662d6a5f7d3",
   "metadata": {},
   "outputs": [],
   "source": []
  },
  {
   "cell_type": "code",
   "execution_count": 10,
   "id": "536956ac-4594-4d1b-a392-481369f73bd8",
   "metadata": {},
   "outputs": [
    {
     "data": {
      "text/plain": [
       "['https://image.uniqlo.com/UQ/ST3/us/imagesgoods/469756/item/usgoods_09_469756_3x4.jpg?width=300',\n",
       " 'https://image.uniqlo.com/UQ/ST3/us/imagesgoods/469896/item/usgoods_67_469896_3x4.jpg?width=300',\n",
       " 'https://image.uniqlo.com/UQ/ST3/us/imagesgoods/465185/item/usgoods_00_465185_3x4.jpg?width=300',\n",
       " 'https://image.uniqlo.com/UQ/ST3/us/imagesgoods/469844/item/usgoods_03_469844_3x4.jpg?width=300',\n",
       " 'https://image.uniqlo.com/UQ/ST3/us/imagesgoods/449753/item/usgoods_34_449753_3x4.jpg?width=300',\n",
       " 'https://image.uniqlo.com/UQ/ST3/us/imagesgoods/465734/item/usgoods_09_465734_3x4.jpg?width=300',\n",
       " 'https://image.uniqlo.com/UQ/ST3/us/imagesgoods/469869/item/usgoods_04_469869_3x4.jpg?width=300',\n",
       " 'https://image.uniqlo.com/UQ/ST3/us/imagesgoods/424873/item/usgoods_31_424873_3x4.jpg?width=300',\n",
       " 'https://image.uniqlo.com/UQ/ST3/us/imagesgoods/470173/item/usgoods_52_470173_3x4.jpg?width=300',\n",
       " 'https://image.uniqlo.com/UQ/ST3/us/imagesgoods/469870/item/usgoods_59_469870_3x4.jpg?width=300',\n",
       " 'https://image.uniqlo.com/UQ/ST3/us/imagesgoods/470145/item/usgoods_57_470145_3x4.jpg?width=300',\n",
       " 'https://image.uniqlo.com/UQ/ST3/us/imagesgoods/459792/item/usgoods_03_459792_3x4.jpg?width=300',\n",
       " 'https://image.uniqlo.com/UQ/ST3/us/imagesgoods/444967/item/usgoods_05_444967_3x4.jpg?width=300',\n",
       " 'https://image.uniqlo.com/UQ/ST3/us/imagesgoods/469897/item/usgoods_18_469897_3x4.jpg?width=300',\n",
       " 'https://image.uniqlo.com/UQ/ST3/us/imagesgoods/469898/item/usgoods_69_469898_3x4.jpg?width=300',\n",
       " 'https://image.uniqlo.com/UQ/ST3/us/imagesgoods/470143/item/usgoods_10_470143_3x4.jpg?width=300',\n",
       " 'https://image.uniqlo.com/UQ/ST3/WesternCommon/imagesgoods/470015/item/goods_25_470015_3x4.jpg?width=300',\n",
       " 'https://image.uniqlo.com/UQ/ST3/us/imagesgoods/469872/item/usgoods_31_469872_3x4.jpg?width=300',\n",
       " 'https://image.uniqlo.com/UQ/ST3/WesternCommon/imagesgoods/470736/item/goods_15_470736_3x4.jpg?width=300',\n",
       " 'https://image.uniqlo.com/UQ/ST3/us/imagesgoods/450195/item/usgoods_32_450195_3x4.jpg?width=300',\n",
       " 'https://image.uniqlo.com/UQ/ST3/us/imagesgoods/442063/item/usgoods_32_442063_3x4.jpg?width=300',\n",
       " 'https://image.uniqlo.com/UQ/ST3/us/imagesgoods/469428/item/usgoods_73_469428_3x4.jpg?width=300',\n",
       " 'https://image.uniqlo.com/UQ/ST3/us/imagesgoods/469864/item/usgoods_30_469864_3x4.jpg?width=300',\n",
       " 'https://image.uniqlo.com/UQ/ST3/us/imagesgoods/471601/item/usgoods_30_471601_3x4.jpg?width=300',\n",
       " 'https://image.uniqlo.com/UQ/ST3/us/imagesgoods/469903/item/usgoods_57_469903_3x4.jpg?width=300',\n",
       " 'https://image.uniqlo.com/UQ/ST3/us/imagesgoods/460407/item/usgoods_09_460407_3x4.jpg?width=300',\n",
       " 'https://image.uniqlo.com/UQ/ST3/us/imagesgoods/444966/item/usgoods_53_444966_3x4.jpg?width=300',\n",
       " 'https://image.uniqlo.com/UQ/ST3/WesternCommon/imagesgoods/461053/item/goods_58_461053_3x4.jpg?width=300',\n",
       " 'https://image.uniqlo.com/UQ/ST3/us/imagesgoods/469862/item/usgoods_32_469862_3x4.jpg?width=300',\n",
       " 'https://image.uniqlo.com/UQ/ST3/us/imagesgoods/471279/item/usgoods_35_471279_3x4.jpg?width=300']"
      ]
     },
     "execution_count": 10,
     "metadata": {},
     "output_type": "execute_result"
    }
   ],
   "source": [
    "unq"
   ]
  },
  {
   "cell_type": "code",
   "execution_count": 12,
   "id": "56a58f95-5200-43a7-bb6a-d15f6c0156a0",
   "metadata": {},
   "outputs": [],
   "source": [
    "import pandas as pd"
   ]
  },
  {
   "cell_type": "code",
   "execution_count": 13,
   "id": "83e7f740-7167-45b0-bb4a-15eb72924db2",
   "metadata": {},
   "outputs": [
    {
     "data": {
      "text/html": [
       "<div>\n",
       "<style scoped>\n",
       "    .dataframe tbody tr th:only-of-type {\n",
       "        vertical-align: middle;\n",
       "    }\n",
       "\n",
       "    .dataframe tbody tr th {\n",
       "        vertical-align: top;\n",
       "    }\n",
       "\n",
       "    .dataframe thead th {\n",
       "        text-align: right;\n",
       "    }\n",
       "</style>\n",
       "<table border=\"1\" class=\"dataframe\">\n",
       "  <thead>\n",
       "    <tr style=\"text-align: right;\">\n",
       "      <th></th>\n",
       "      <th>Ralph_Lauren</th>\n",
       "    </tr>\n",
       "  </thead>\n",
       "  <tbody>\n",
       "    <tr>\n",
       "      <th>0</th>\n",
       "      <td>https://dtcralphlauren.scene7.com/is/image/Pol...</td>\n",
       "    </tr>\n",
       "    <tr>\n",
       "      <th>1</th>\n",
       "      <td>https://dtcralphlauren.scene7.com/is/image/Pol...</td>\n",
       "    </tr>\n",
       "    <tr>\n",
       "      <th>2</th>\n",
       "      <td>https://dtcralphlauren.scene7.com/is/image/Pol...</td>\n",
       "    </tr>\n",
       "    <tr>\n",
       "      <th>3</th>\n",
       "      <td>https://dtcralphlauren.scene7.com/is/image/Pol...</td>\n",
       "    </tr>\n",
       "    <tr>\n",
       "      <th>4</th>\n",
       "      <td>https://dtcralphlauren.scene7.com/is/image/Pol...</td>\n",
       "    </tr>\n",
       "  </tbody>\n",
       "</table>\n",
       "</div>"
      ],
      "text/plain": [
       "                                        Ralph_Lauren\n",
       "0  https://dtcralphlauren.scene7.com/is/image/Pol...\n",
       "1  https://dtcralphlauren.scene7.com/is/image/Pol...\n",
       "2  https://dtcralphlauren.scene7.com/is/image/Pol...\n",
       "3  https://dtcralphlauren.scene7.com/is/image/Pol...\n",
       "4  https://dtcralphlauren.scene7.com/is/image/Pol..."
      ]
     },
     "execution_count": 13,
     "metadata": {},
     "output_type": "execute_result"
    }
   ],
   "source": [
    "df=pd.read_csv('Image_Sources.csv')\n",
    "df.head()"
   ]
  },
  {
   "cell_type": "code",
   "execution_count": 19,
   "id": "7fa25628-5482-4e28-9407-cfb8f65fc381",
   "metadata": {},
   "outputs": [
    {
     "ename": "ValueError",
     "evalue": "Length of values (30) does not match length of index (92)",
     "output_type": "error",
     "traceback": [
      "\u001b[0;31m---------------------------------------------------------------------------\u001b[0m",
      "\u001b[0;31mValueError\u001b[0m                                Traceback (most recent call last)",
      "Cell \u001b[0;32mIn[19], line 1\u001b[0m\n\u001b[0;32m----> 1\u001b[0m df[\u001b[38;5;124m'\u001b[39m\u001b[38;5;124mUniqlo\u001b[39m\u001b[38;5;124m'\u001b[39m] \u001b[38;5;241m=\u001b[39m \u001b[43mpd\u001b[49m\u001b[38;5;241;43m.\u001b[39;49m\u001b[43mSeries\u001b[49m\u001b[43m(\u001b[49m\u001b[43munq\u001b[49m\u001b[43m,\u001b[49m\u001b[43mindex\u001b[49m\u001b[38;5;241;43m=\u001b[39;49m\u001b[43mdf\u001b[49m\u001b[38;5;241;43m.\u001b[39;49m\u001b[43mindex\u001b[49m\u001b[43m)\u001b[49m\n",
      "File \u001b[0;32m~/.pyenv/versions/3.12.7/lib/python3.12/site-packages/pandas/core/series.py:575\u001b[0m, in \u001b[0;36mSeries.__init__\u001b[0;34m(self, data, index, dtype, name, copy, fastpath)\u001b[0m\n\u001b[1;32m    573\u001b[0m     index \u001b[38;5;241m=\u001b[39m default_index(\u001b[38;5;28mlen\u001b[39m(data))\n\u001b[1;32m    574\u001b[0m \u001b[38;5;28;01melif\u001b[39;00m is_list_like(data):\n\u001b[0;32m--> 575\u001b[0m     \u001b[43mcom\u001b[49m\u001b[38;5;241;43m.\u001b[39;49m\u001b[43mrequire_length_match\u001b[49m\u001b[43m(\u001b[49m\u001b[43mdata\u001b[49m\u001b[43m,\u001b[49m\u001b[43m \u001b[49m\u001b[43mindex\u001b[49m\u001b[43m)\u001b[49m\n\u001b[1;32m    577\u001b[0m \u001b[38;5;66;03m# create/copy the manager\u001b[39;00m\n\u001b[1;32m    578\u001b[0m \u001b[38;5;28;01mif\u001b[39;00m \u001b[38;5;28misinstance\u001b[39m(data, (SingleBlockManager, SingleArrayManager)):\n",
      "File \u001b[0;32m~/.pyenv/versions/3.12.7/lib/python3.12/site-packages/pandas/core/common.py:573\u001b[0m, in \u001b[0;36mrequire_length_match\u001b[0;34m(data, index)\u001b[0m\n\u001b[1;32m    569\u001b[0m \u001b[38;5;250m\u001b[39m\u001b[38;5;124;03m\"\"\"\u001b[39;00m\n\u001b[1;32m    570\u001b[0m \u001b[38;5;124;03mCheck the length of data matches the length of the index.\u001b[39;00m\n\u001b[1;32m    571\u001b[0m \u001b[38;5;124;03m\"\"\"\u001b[39;00m\n\u001b[1;32m    572\u001b[0m \u001b[38;5;28;01mif\u001b[39;00m \u001b[38;5;28mlen\u001b[39m(data) \u001b[38;5;241m!=\u001b[39m \u001b[38;5;28mlen\u001b[39m(index):\n\u001b[0;32m--> 573\u001b[0m     \u001b[38;5;28;01mraise\u001b[39;00m \u001b[38;5;167;01mValueError\u001b[39;00m(\n\u001b[1;32m    574\u001b[0m         \u001b[38;5;124m\"\u001b[39m\u001b[38;5;124mLength of values \u001b[39m\u001b[38;5;124m\"\u001b[39m\n\u001b[1;32m    575\u001b[0m         \u001b[38;5;124mf\u001b[39m\u001b[38;5;124m\"\u001b[39m\u001b[38;5;124m(\u001b[39m\u001b[38;5;132;01m{\u001b[39;00m\u001b[38;5;28mlen\u001b[39m(data)\u001b[38;5;132;01m}\u001b[39;00m\u001b[38;5;124m) \u001b[39m\u001b[38;5;124m\"\u001b[39m\n\u001b[1;32m    576\u001b[0m         \u001b[38;5;124m\"\u001b[39m\u001b[38;5;124mdoes not match length of index \u001b[39m\u001b[38;5;124m\"\u001b[39m\n\u001b[1;32m    577\u001b[0m         \u001b[38;5;124mf\u001b[39m\u001b[38;5;124m\"\u001b[39m\u001b[38;5;124m(\u001b[39m\u001b[38;5;132;01m{\u001b[39;00m\u001b[38;5;28mlen\u001b[39m(index)\u001b[38;5;132;01m}\u001b[39;00m\u001b[38;5;124m)\u001b[39m\u001b[38;5;124m\"\u001b[39m\n\u001b[1;32m    578\u001b[0m     )\n",
      "\u001b[0;31mValueError\u001b[0m: Length of values (30) does not match length of index (92)"
     ]
    }
   ],
   "source": [
    "df['Uniqlo'] = pd.Series(unq,index=df.index)"
   ]
  },
  {
   "cell_type": "code",
   "execution_count": 35,
   "id": "1271f0e4-7c7c-4332-823d-cbcdca13ed67",
   "metadata": {},
   "outputs": [],
   "source": [
    "links=[]\n",
    "d = pd.DataFrame({'ExistingColumn': range(92)})"
   ]
  },
  {
   "cell_type": "code",
   "execution_count": 36,
   "id": "a95f1a07-6074-4976-9351-dd068c33d4ff",
   "metadata": {},
   "outputs": [],
   "source": [
    "rl_extended = rl + ['N/A'] * (len(d) - len(rl))\n",
    "unq_extended = unq + ['N/A'] * (len(d) - len(unq))\n",
    "d['Ralph_Lauren'] = rl_extended\n",
    "d['Uniqlo'] = unq_extended\n",
    "links.append(d)"
   ]
  },
  {
   "cell_type": "code",
   "execution_count": 37,
   "id": "e3d46f5e-c5e3-4460-b11f-3f6b5c2d3a80",
   "metadata": {},
   "outputs": [
    {
     "data": {
      "text/plain": [
       "[    ExistingColumn                                       Ralph_Lauren  \\\n",
       " 0                0  https://dtcralphlauren.scene7.com/is/image/Pol...   \n",
       " 1                1  https://dtcralphlauren.scene7.com/is/image/Pol...   \n",
       " 2                2  https://dtcralphlauren.scene7.com/is/image/Pol...   \n",
       " 3                3  https://dtcralphlauren.scene7.com/is/image/Pol...   \n",
       " 4                4  https://dtcralphlauren.scene7.com/is/image/Pol...   \n",
       " ..             ...                                                ...   \n",
       " 87              87  https://dtcralphlauren.scene7.com/is/image/Pol...   \n",
       " 88              88  https://dtcralphlauren.scene7.com/is/image/Pol...   \n",
       " 89              89  https://dtcralphlauren.scene7.com/is/image/Pol...   \n",
       " 90              90  https://dtcralphlauren.scene7.com/is/image/Pol...   \n",
       " 91              91  https://dtcralphlauren.scene7.com/is/image/Pol...   \n",
       " \n",
       "                                                Uniqlo  \n",
       " 0   https://image.uniqlo.com/UQ/ST3/us/imagesgoods...  \n",
       " 1   https://image.uniqlo.com/UQ/ST3/us/imagesgoods...  \n",
       " 2   https://image.uniqlo.com/UQ/ST3/us/imagesgoods...  \n",
       " 3   https://image.uniqlo.com/UQ/ST3/us/imagesgoods...  \n",
       " 4   https://image.uniqlo.com/UQ/ST3/us/imagesgoods...  \n",
       " ..                                                ...  \n",
       " 87                                                N/A  \n",
       " 88                                                N/A  \n",
       " 89                                                N/A  \n",
       " 90                                                N/A  \n",
       " 91                                                N/A  \n",
       " \n",
       " [92 rows x 3 columns]]"
      ]
     },
     "execution_count": 37,
     "metadata": {},
     "output_type": "execute_result"
    }
   ],
   "source": [
    "links"
   ]
  },
  {
   "cell_type": "code",
   "execution_count": 40,
   "id": "a4745dfe-bb12-42f4-9833-4e3547798252",
   "metadata": {},
   "outputs": [],
   "source": [
    "d.to_csv('Image_Sources.csv')"
   ]
  },
  {
   "cell_type": "code",
   "execution_count": null,
   "id": "086261e8-c6a5-4e8e-8705-08b5636923a6",
   "metadata": {},
   "outputs": [],
   "source": []
  }
 ],
 "metadata": {
  "kernelspec": {
   "display_name": "Python 3 (ipykernel)",
   "language": "python",
   "name": "python3"
  },
  "language_info": {
   "codemirror_mode": {
    "name": "ipython",
    "version": 3
   },
   "file_extension": ".py",
   "mimetype": "text/x-python",
   "name": "python",
   "nbconvert_exporter": "python",
   "pygments_lexer": "ipython3",
   "version": "3.12.7"
  }
 },
 "nbformat": 4,
 "nbformat_minor": 5
}
