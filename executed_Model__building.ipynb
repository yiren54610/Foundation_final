{
 "cells": [
  {
   "cell_type": "code",
   "execution_count": 1,
   "id": "1db22fde-6df6-4d41-b5c0-d7d35b457395",
   "metadata": {
    "execution": {
     "iopub.execute_input": "2025-01-19T01:15:47.643239Z",
     "iopub.status.busy": "2025-01-19T01:15:47.643042Z",
     "iopub.status.idle": "2025-01-19T01:15:52.956427Z",
     "shell.execute_reply": "2025-01-19T01:15:52.955740Z"
    }
   },
   "outputs": [],
   "source": [
    "from transformers import pipeline\n",
    "from PIL import Image\n",
    "import numpy as np\n",
    "import pandas as pd\n",
    "import time\n",
    "from sklearn.cluster import KMeans\n",
    "import matplotlib.pyplot as plt"
   ]
  },
  {
   "cell_type": "code",
   "execution_count": 2,
   "id": "d347f739-6fb4-4665-b051-f778d8663b80",
   "metadata": {
    "execution": {
     "iopub.execute_input": "2025-01-19T01:15:52.959126Z",
     "iopub.status.busy": "2025-01-19T01:15:52.958572Z",
     "iopub.status.idle": "2025-01-19T01:15:53.939643Z",
     "shell.execute_reply": "2025-01-19T01:15:53.939036Z"
    }
   },
   "outputs": [
    {
     "data": {
      "application/vnd.jupyter.widget-view+json": {
       "model_id": "b5424a32dac94be2be6e1627e8c24ff0",
       "version_major": 2,
       "version_minor": 0
      },
      "text/plain": [
       "config.json:   0%|          | 0.00/1.73k [00:00<?, ?B/s]"
      ]
     },
     "metadata": {},
     "output_type": "display_data"
    },
    {
     "data": {
      "application/vnd.jupyter.widget-view+json": {
       "model_id": "bafbf6f7fb584d8aab4fe6bdd050f47e",
       "version_major": 2,
       "version_minor": 0
      },
      "text/plain": [
       "model.safetensors:   0%|          | 0.00/109M [00:00<?, ?B/s]"
      ]
     },
     "metadata": {},
     "output_type": "display_data"
    },
    {
     "data": {
      "application/vnd.jupyter.widget-view+json": {
       "model_id": "0f7ef70d58204ba5b973aad135740f78",
       "version_major": 2,
       "version_minor": 0
      },
      "text/plain": [
       "preprocessor_config.json:   0%|          | 0.00/271 [00:00<?, ?B/s]"
      ]
     },
     "metadata": {},
     "output_type": "display_data"
    },
    {
     "name": "stderr",
     "output_type": "stream",
     "text": [
      "Using a slow image processor as `use_fast` is unset and a slow processor was saved with this model. `use_fast=True` will be the default behavior in v4.48, even if the model was saved with a slow processor. This will result in minor differences in outputs. You'll still be able to use a slow processor with `use_fast=False`.\n"
     ]
    },
    {
     "name": "stderr",
     "output_type": "stream",
     "text": [
      "Device set to use cpu\n"
     ]
    }
   ],
   "source": [
    "segmenter = pipeline(\"image-segmentation\", model=\"mattmdjaga/segformer_b2_clothes\")"
   ]
  },
  {
   "cell_type": "markdown",
   "id": "6d30487b-25ed-4b65-8688-13b9ecef45fa",
   "metadata": {},
   "source": [
    "# Set up functions to Segment Clothes"
   ]
  },
  {
   "cell_type": "code",
   "execution_count": 3,
   "id": "a295db4a-3daa-4cab-a91b-06893145131a",
   "metadata": {
    "execution": {
     "iopub.execute_input": "2025-01-19T01:15:53.942057Z",
     "iopub.status.busy": "2025-01-19T01:15:53.941525Z",
     "iopub.status.idle": "2025-01-19T01:15:53.946204Z",
     "shell.execute_reply": "2025-01-19T01:15:53.945528Z"
    }
   },
   "outputs": [],
   "source": [
    "# Initialize segmentation pipeline\n",
    "def segment_clothing(img, clothes= [\"Upper-clothes\", \"Pants\", \"Belt\"]):\n",
    "    # Segment image\n",
    "    segments = segmenter(img)\n",
    "\n",
    "    # Create list of masks\n",
    "    mask_list = []\n",
    "    for s in segments:\n",
    "        if(s['label'] in clothes):\n",
    "            mask_list.append(s['mask'])\n",
    "\n",
    "\n",
    "    # Paste all masks on top of eachother \n",
    "    final_mask = np.array(mask_list[0])\n",
    "    for mask in mask_list:\n",
    "        current_mask = np.array(mask)\n",
    "        final_mask = final_mask + current_mask\n",
    "            \n",
    "    # Convert final mask from np array to PIL image\n",
    "    final_mask = Image.fromarray(final_mask)\n",
    "\n",
    "    # Apply mask to original image\n",
    "    img.putalpha(final_mask)\n",
    "\n",
    "    # display the image\n",
    "    return img"
   ]
  },
  {
   "cell_type": "code",
   "execution_count": 4,
   "id": "9df19002-5f75-4426-82ec-f5561d25de64",
   "metadata": {
    "execution": {
     "iopub.execute_input": "2025-01-19T01:15:53.948238Z",
     "iopub.status.busy": "2025-01-19T01:15:53.947869Z",
     "iopub.status.idle": "2025-01-19T01:15:53.953355Z",
     "shell.execute_reply": "2025-01-19T01:15:53.952794Z"
    }
   },
   "outputs": [],
   "source": [
    "def batch_segment_clothing(img_dir, out_dir, clothes= [\"Hat\", \"Upper-clothes\", \"Skirt\", \"Pants\", \"Dress\", \"Belt\", \"Left-shoe\", \"Right-shoe\", \"Scarf\"]):\n",
    "    # Create output directory if it doesn't exist\n",
    "    if not os.path.exists(out_dir):\n",
    "        os.makedirs(out_dir)\n",
    "\n",
    "    # Iterate through each file in the input directory\n",
    "    for filename in os.listdir(img_dir):\n",
    "        if filename.endswith(\".jpg\") or filename.endswith(\".JPG\") or filename.endswith(\".png\") or filename.endswith(\".PNG\"):\n",
    "            try:\n",
    "                # Load image\n",
    "                img_path = os.path.join(img_dir, filename)\n",
    "                img = Image.open(img_path).convert(\"RGBA\")\n",
    "\n",
    "                # Segment clothing\n",
    "                segmented_img = segment_clothing(img, clothes)\n",
    "\n",
    "                # Save segmented image to output directory as PNG\n",
    "                out_path = os.path.join(out_dir, filename.split('.')[0] + \".png\")\n",
    "                segmented_img.save(out_path)\n",
    "\n",
    "                print(f\"Segmented {filename} successfully.\")\n",
    "\n",
    "            except Exception as e:\n",
    "                print(f\"Error processing {filename}: {e}\")\n",
    "\n",
    "        else:\n",
    "            print(f\"Skipping {filename} as it is not a supported image file.\")"
   ]
  },
  {
   "cell_type": "markdown",
   "id": "d505f3c1-2c48-4aa2-8b54-8d100c67a0e2",
   "metadata": {},
   "source": [
    "# scrape website and create csv file"
   ]
  },
  {
   "cell_type": "code",
   "execution_count": 5,
   "id": "d5347dc7-3acb-45a0-a660-1373d10d79e2",
   "metadata": {
    "execution": {
     "iopub.execute_input": "2025-01-19T01:15:53.955486Z",
     "iopub.status.busy": "2025-01-19T01:15:53.955130Z",
     "iopub.status.idle": "2025-01-19T01:15:54.602652Z",
     "shell.execute_reply": "2025-01-19T01:15:54.601910Z"
    }
   },
   "outputs": [],
   "source": [
    "from playwright.async_api import async_playwright\n",
    "\n",
    "playwright = await async_playwright().start()\n",
    "\n",
    "browser = await playwright.chromium.launch(headless=False)\n",
    "\n",
    "page = await browser.new_page()"
   ]
  },
  {
   "cell_type": "code",
   "execution_count": 6,
   "id": "bdce2803-4160-423a-82d1-e5c5b26dcc58",
   "metadata": {
    "execution": {
     "iopub.execute_input": "2025-01-19T01:15:54.605892Z",
     "iopub.status.busy": "2025-01-19T01:15:54.605408Z",
     "iopub.status.idle": "2025-01-19T01:15:54.609229Z",
     "shell.execute_reply": "2025-01-19T01:15:54.608464Z"
    }
   },
   "outputs": [],
   "source": [
    "async def scroll_to_bottom(page):\n",
    "    \n",
    "    await page.evaluate(\"window.scrollTo(0, document.body.scrollHeight);\")"
   ]
  },
  {
   "cell_type": "markdown",
   "id": "8a5d531e-9342-41b4-9927-2e27b2af12b3",
   "metadata": {},
   "source": [
    "##### Ralph_Lauren"
   ]
  },
  {
   "cell_type": "code",
   "execution_count": 7,
   "id": "764df06e-4ca1-4f75-9490-d4ab295ff89b",
   "metadata": {
    "execution": {
     "iopub.execute_input": "2025-01-19T01:15:54.611611Z",
     "iopub.status.busy": "2025-01-19T01:15:54.611326Z",
     "iopub.status.idle": "2025-01-19T01:15:57.711427Z",
     "shell.execute_reply": "2025-01-19T01:15:57.710640Z"
    }
   },
   "outputs": [
    {
     "data": {
      "text/plain": [
       "<Response url='https://www.ralphlauren.com/women-clothing-shop-new-arrivals' request=<Request url='https://www.ralphlauren.com/women-clothing-shop-new-arrivals' method='GET'>>"
      ]
     },
     "execution_count": 7,
     "metadata": {},
     "output_type": "execute_result"
    }
   ],
   "source": [
    "RL_url = \"https://www.ralphlauren.com/women-clothing-shop-new-arrivals\" \n",
    "await page.goto(RL_url)"
   ]
  },
  {
   "cell_type": "code",
   "execution_count": 8,
   "id": "17ec1c4b-bacc-4dea-a11c-1b4f397452f7",
   "metadata": {
    "execution": {
     "iopub.execute_input": "2025-01-19T01:15:57.714121Z",
     "iopub.status.busy": "2025-01-19T01:15:57.713908Z",
     "iopub.status.idle": "2025-01-19T01:15:59.025772Z",
     "shell.execute_reply": "2025-01-19T01:15:59.024511Z"
    }
   },
   "outputs": [],
   "source": [
    "await page.wait_for_selector('button .ui-button-icon.ui-icon.ui-icon-closethick', state='visible', timeout=30000)\n",
    "await page.click('button .ui-button-icon.ui-icon.ui-icon-closethick')"
   ]
  },
  {
   "cell_type": "code",
   "execution_count": 9,
   "id": "c7cabe7c-91f8-42f2-8990-32c7febecc62",
   "metadata": {
    "execution": {
     "iopub.execute_input": "2025-01-19T01:15:59.029056Z",
     "iopub.status.busy": "2025-01-19T01:15:59.028767Z",
     "iopub.status.idle": "2025-01-19T01:15:59.333310Z",
     "shell.execute_reply": "2025-01-19T01:15:59.329668Z"
    }
   },
   "outputs": [],
   "source": [
    "RL = []\n",
    "try:\n",
    "    rl = await page.eval_on_selector_all(\n",
    "        \"[srcset]\",\n",
    "        \"elements => elements.map(el => el.getAttribute('srcset'))\"\n",
    "    )\n",
    "    RL.extend(rl)\n",
    "\n",
    "except:\n",
    "    print('done')"
   ]
  },
  {
   "cell_type": "markdown",
   "id": "a5913728-3b4e-494b-a47a-d8892956a5b4",
   "metadata": {},
   "source": [
    "#### Uniqlo"
   ]
  },
  {
   "cell_type": "code",
   "execution_count": 10,
   "id": "e419f092-6a17-46d8-98e9-a2fe70496b72",
   "metadata": {
    "execution": {
     "iopub.execute_input": "2025-01-19T01:15:59.338531Z",
     "iopub.status.busy": "2025-01-19T01:15:59.338179Z",
     "iopub.status.idle": "2025-01-19T01:16:05.488921Z",
     "shell.execute_reply": "2025-01-19T01:16:05.488244Z"
    }
   },
   "outputs": [],
   "source": [
    "uniqlo='https://www.uniqlo.com/us/en/feature/new/women'\n",
    "await page.goto(uniqlo)\n",
    "await scroll_to_bottom(page)\n",
    "await page.wait_for_timeout(1000)\n",
    "unq= await page.eval_on_selector_all(\n",
    "    \"div.fr-ec-product-tile-resize-wrapper img.fr-ec-image__img\",\n",
    "    \"elements => elements.map(e => e.src)\"\n",
    ")"
   ]
  },
  {
   "cell_type": "markdown",
   "id": "94e8c223-d90c-4ea9-b829-adf5d5e9dfcd",
   "metadata": {},
   "source": [
    "### Zara"
   ]
  },
  {
   "cell_type": "code",
   "execution_count": 11,
   "id": "f7505e77-1036-4696-9db5-b6bb10d435ce",
   "metadata": {
    "execution": {
     "iopub.execute_input": "2025-01-19T01:16:05.491832Z",
     "iopub.status.busy": "2025-01-19T01:16:05.491341Z",
     "iopub.status.idle": "2025-01-19T01:16:22.772838Z",
     "shell.execute_reply": "2025-01-19T01:16:22.772102Z"
    }
   },
   "outputs": [],
   "source": [
    "Zara = \"https://www.zara.com/us/en/woman-best-sellers-l5912.html?v1=2491343&regionGroupId=41\"\n",
    "await page.goto(Zara)\n",
    "await page.locator(\"body\").wait_for()\n",
    "last_height = await page.evaluate(\"document.body.scrollHeight\")\n",
    "try:\n",
    "    while True:\n",
    "        await page.evaluate(\"window.scrollTo({left: 0, top: document.body.scrollHeight, behavior: 'smooth'})\")\n",
    "        await page.wait_for_load_state(\"networkidle\", timeout=5000)\n",
    "        await page.wait_for_timeout(2000)\n",
    "        new_height = await page.evaluate(\"document.body.scrollHeight\")\n",
    "        if new_height == last_height:\n",
    "            break\n",
    "        last_height = new_height\n",
    "except:\n",
    "    print('done')"
   ]
  },
  {
   "cell_type": "code",
   "execution_count": 12,
   "id": "0ea27749-f859-45cf-972d-4e4eeadb4a4a",
   "metadata": {
    "execution": {
     "iopub.execute_input": "2025-01-19T01:16:22.775332Z",
     "iopub.status.busy": "2025-01-19T01:16:22.774872Z",
     "iopub.status.idle": "2025-01-19T01:16:22.793361Z",
     "shell.execute_reply": "2025-01-19T01:16:22.792684Z"
    }
   },
   "outputs": [],
   "source": [
    "zara = await page.eval_on_selector_all(\n",
    "    'img[data-qa-qualifier=\"media-image\"]',\n",
    "            \"elements => elements.map(e => e.src)\"\n",
    "        )\n",
    "zara = [e for e in zara if 'background' not in e]"
   ]
  },
  {
   "cell_type": "markdown",
   "id": "63c9765a-befe-4873-ac8f-54776e161126",
   "metadata": {},
   "source": [
    "### HM"
   ]
  },
  {
   "cell_type": "code",
   "execution_count": 13,
   "id": "7a35aa12-fc44-4122-adac-5559dae86bb2",
   "metadata": {
    "execution": {
     "iopub.execute_input": "2025-01-19T01:16:22.795727Z",
     "iopub.status.busy": "2025-01-19T01:16:22.795321Z",
     "iopub.status.idle": "2025-01-19T01:16:24.557890Z",
     "shell.execute_reply": "2025-01-19T01:16:24.557072Z"
    }
   },
   "outputs": [
    {
     "data": {
      "text/plain": [
       "<Response url='https://www2.hm.com/en_us/women/new-arrivals/view-all.html' request=<Request url='https://www2.hm.com/en_us/women/new-arrivals/view-all.html' method='GET'>>"
      ]
     },
     "execution_count": 13,
     "metadata": {},
     "output_type": "execute_result"
    }
   ],
   "source": [
    "hm = \"https://www2.hm.com/en_us/women/new-arrivals/view-all.html\"\n",
    "await page.goto(hm)"
   ]
  },
  {
   "cell_type": "code",
   "execution_count": 14,
   "id": "a3d15a0f-bd4a-4720-9c89-9d79fc26c9a4",
   "metadata": {
    "execution": {
     "iopub.execute_input": "2025-01-19T01:16:24.560705Z",
     "iopub.status.busy": "2025-01-19T01:16:24.560490Z",
     "iopub.status.idle": "2025-01-19T01:16:49.634560Z",
     "shell.execute_reply": "2025-01-19T01:16:49.633903Z"
    }
   },
   "outputs": [
    {
     "name": "stdout",
     "output_type": "stream",
     "text": [
      "done\n"
     ]
    }
   ],
   "source": [
    "all_links = []\n",
    "try:\n",
    "    while True:\n",
    "            hm = await page.eval_on_selector_all(\n",
    "                'img[imagetype=\"PRODUCT_IMAGE\"]',\n",
    "                \"elements => elements.map(e => e.srcset)\"\n",
    "            )\n",
    "            all_links.extend(hm)\n",
    "    \n",
    "            next_button = await page.query_selector('button[data-elid=\"pagination-hybrid-button\"]')\n",
    "            if next_button:\n",
    "                await next_button.click(timeout=6000)\n",
    "            else:\n",
    "                break\n",
    "except:\n",
    "    print('done')"
   ]
  },
  {
   "cell_type": "code",
   "execution_count": 15,
   "id": "3cdd837e-4058-420c-afdf-93ed5bb9d599",
   "metadata": {
    "execution": {
     "iopub.execute_input": "2025-01-19T01:16:49.636626Z",
     "iopub.status.busy": "2025-01-19T01:16:49.636439Z",
     "iopub.status.idle": "2025-01-19T01:16:49.640883Z",
     "shell.execute_reply": "2025-01-19T01:16:49.640296Z"
    }
   },
   "outputs": [],
   "source": [
    "hm = [h.split(', ')[-1] for h in all_links if len(h)>10]\n",
    "hm = [h.split(' ')[0] for h in hm]"
   ]
  },
  {
   "cell_type": "markdown",
   "id": "2a1b32ec-3fc4-42fb-897a-e05111173292",
   "metadata": {},
   "source": [
    "### Forever21"
   ]
  },
  {
   "cell_type": "markdown",
   "id": "8e19ea2e-6ea7-4ec5-bba6-ca604afc9187",
   "metadata": {},
   "source": [
    "## Make a dataframe"
   ]
  },
  {
   "cell_type": "code",
   "execution_count": 16,
   "id": "65973174-d39f-44c0-a84c-ddaa295b7e80",
   "metadata": {
    "execution": {
     "iopub.execute_input": "2025-01-19T01:16:49.643059Z",
     "iopub.status.busy": "2025-01-19T01:16:49.642656Z",
     "iopub.status.idle": "2025-01-19T01:16:49.646251Z",
     "shell.execute_reply": "2025-01-19T01:16:49.645672Z"
    }
   },
   "outputs": [],
   "source": [
    "links=[]\n",
    "d = pd.DataFrame({'ExistingColumn': range(100)})"
   ]
  },
  {
   "cell_type": "code",
   "execution_count": 17,
   "id": "51d1b687-ad93-4de6-8048-abd63e6f59cf",
   "metadata": {
    "execution": {
     "iopub.execute_input": "2025-01-19T01:16:49.648087Z",
     "iopub.status.busy": "2025-01-19T01:16:49.647910Z",
     "iopub.status.idle": "2025-01-19T01:16:49.651288Z",
     "shell.execute_reply": "2025-01-19T01:16:49.650695Z"
    }
   },
   "outputs": [],
   "source": [
    "def adjust_length(values, target_length):\n",
    "    if len(values) < target_length:\n",
    "        return values + ['N/A'] * (target_length - len(values))\n",
    "    else:\n",
    "        return values[:target_length]"
   ]
  },
  {
   "cell_type": "code",
   "execution_count": 18,
   "id": "3f8ee901-7fef-4d12-9f43-aaeb26560186",
   "metadata": {
    "execution": {
     "iopub.execute_input": "2025-01-19T01:16:49.653489Z",
     "iopub.status.busy": "2025-01-19T01:16:49.653028Z",
     "iopub.status.idle": "2025-01-19T01:16:49.658810Z",
     "shell.execute_reply": "2025-01-19T01:16:49.658227Z"
    }
   },
   "outputs": [],
   "source": [
    "rl_extended = adjust_length(RL, len(d))\n",
    "unq_extended = adjust_length(unq, len(d))\n",
    "zara_extended = adjust_length(zara, len(d))\n",
    "hm_extended = adjust_length(hm, len(d))\n",
    "\n",
    "d['Ralph_Lauren'] = rl_extended\n",
    "d['Uniqlo'] = unq_extended\n",
    "d['Zara'] = zara_extended\n",
    "d['HM'] = hm_extended\n",
    "\n",
    "links.append(d)"
   ]
  },
  {
   "cell_type": "code",
   "execution_count": 19,
   "id": "769088f5-5ac7-4580-987c-632dc47da2c0",
   "metadata": {
    "execution": {
     "iopub.execute_input": "2025-01-19T01:16:49.660886Z",
     "iopub.status.busy": "2025-01-19T01:16:49.660445Z",
     "iopub.status.idle": "2025-01-19T01:16:49.666433Z",
     "shell.execute_reply": "2025-01-19T01:16:49.665920Z"
    }
   },
   "outputs": [],
   "source": [
    "d.drop(columns='ExistingColumn', errors='ignore', inplace=True)\n",
    "d.to_csv('Image_Sources.csv',index=False)"
   ]
  },
  {
   "cell_type": "code",
   "execution_count": 20,
   "id": "24200ecf-d220-4309-8b16-5e894e614c91",
   "metadata": {
    "execution": {
     "iopub.execute_input": "2025-01-19T01:16:49.668137Z",
     "iopub.status.busy": "2025-01-19T01:16:49.667945Z",
     "iopub.status.idle": "2025-01-19T01:16:49.675710Z",
     "shell.execute_reply": "2025-01-19T01:16:49.675062Z"
    }
   },
   "outputs": [
    {
     "data": {
      "text/html": [
       "<div>\n",
       "<style scoped>\n",
       "    .dataframe tbody tr th:only-of-type {\n",
       "        vertical-align: middle;\n",
       "    }\n",
       "\n",
       "    .dataframe tbody tr th {\n",
       "        vertical-align: top;\n",
       "    }\n",
       "\n",
       "    .dataframe thead th {\n",
       "        text-align: right;\n",
       "    }\n",
       "</style>\n",
       "<table border=\"1\" class=\"dataframe\">\n",
       "  <thead>\n",
       "    <tr style=\"text-align: right;\">\n",
       "      <th></th>\n",
       "      <th>Ralph_Lauren</th>\n",
       "      <th>Uniqlo</th>\n",
       "      <th>Zara</th>\n",
       "      <th>HM</th>\n",
       "    </tr>\n",
       "  </thead>\n",
       "  <tbody>\n",
       "    <tr>\n",
       "      <th>0</th>\n",
       "      <td>https://dtcralphlauren.scene7.com/is/image/Pol...</td>\n",
       "      <td>https://image.uniqlo.com/UQ/ST3/us/imagesgoods...</td>\n",
       "      <td>https://static.zara.net/assets/public/1109/7e2...</td>\n",
       "      <td>https://image.hm.com/assets/hm/69/d2/69d2b3ac7...</td>\n",
       "    </tr>\n",
       "    <tr>\n",
       "      <th>1</th>\n",
       "      <td>https://dtcralphlauren.scene7.com/is/image/Pol...</td>\n",
       "      <td>https://image.uniqlo.com/UQ/ST3/us/imagesgoods...</td>\n",
       "      <td>https://static.zara.net/assets/public/901b/bfa...</td>\n",
       "      <td>https://image.hm.com/assets/hm/8a/07/8a07fe4a3...</td>\n",
       "    </tr>\n",
       "    <tr>\n",
       "      <th>2</th>\n",
       "      <td>https://dtcralphlauren.scene7.com/is/image/Pol...</td>\n",
       "      <td>https://image.uniqlo.com/UQ/ST3/us/imagesgoods...</td>\n",
       "      <td>https://static.zara.net/assets/public/f53f/3a7...</td>\n",
       "      <td>https://image.hm.com/assets/hm/1d/58/1d5824979...</td>\n",
       "    </tr>\n",
       "    <tr>\n",
       "      <th>3</th>\n",
       "      <td>https://dtcralphlauren.scene7.com/is/image/Pol...</td>\n",
       "      <td>https://image.uniqlo.com/UQ/ST3/us/imagesgoods...</td>\n",
       "      <td>https://static.zara.net/assets/public/b6a4/820...</td>\n",
       "      <td>https://image.hm.com/assets/hm/29/9d/299d81311...</td>\n",
       "    </tr>\n",
       "    <tr>\n",
       "      <th>4</th>\n",
       "      <td>https://dtcralphlauren.scene7.com/is/image/Pol...</td>\n",
       "      <td>https://image.uniqlo.com/UQ/ST3/us/imagesgoods...</td>\n",
       "      <td>https://static.zara.net/assets/public/1229/8d3...</td>\n",
       "      <td>https://image.hm.com/assets/hm/b8/81/b8812233b...</td>\n",
       "    </tr>\n",
       "  </tbody>\n",
       "</table>\n",
       "</div>"
      ],
      "text/plain": [
       "                                        Ralph_Lauren  \\\n",
       "0  https://dtcralphlauren.scene7.com/is/image/Pol...   \n",
       "1  https://dtcralphlauren.scene7.com/is/image/Pol...   \n",
       "2  https://dtcralphlauren.scene7.com/is/image/Pol...   \n",
       "3  https://dtcralphlauren.scene7.com/is/image/Pol...   \n",
       "4  https://dtcralphlauren.scene7.com/is/image/Pol...   \n",
       "\n",
       "                                              Uniqlo  \\\n",
       "0  https://image.uniqlo.com/UQ/ST3/us/imagesgoods...   \n",
       "1  https://image.uniqlo.com/UQ/ST3/us/imagesgoods...   \n",
       "2  https://image.uniqlo.com/UQ/ST3/us/imagesgoods...   \n",
       "3  https://image.uniqlo.com/UQ/ST3/us/imagesgoods...   \n",
       "4  https://image.uniqlo.com/UQ/ST3/us/imagesgoods...   \n",
       "\n",
       "                                                Zara  \\\n",
       "0  https://static.zara.net/assets/public/1109/7e2...   \n",
       "1  https://static.zara.net/assets/public/901b/bfa...   \n",
       "2  https://static.zara.net/assets/public/f53f/3a7...   \n",
       "3  https://static.zara.net/assets/public/b6a4/820...   \n",
       "4  https://static.zara.net/assets/public/1229/8d3...   \n",
       "\n",
       "                                                  HM  \n",
       "0  https://image.hm.com/assets/hm/69/d2/69d2b3ac7...  \n",
       "1  https://image.hm.com/assets/hm/8a/07/8a07fe4a3...  \n",
       "2  https://image.hm.com/assets/hm/1d/58/1d5824979...  \n",
       "3  https://image.hm.com/assets/hm/29/9d/299d81311...  \n",
       "4  https://image.hm.com/assets/hm/b8/81/b8812233b...  "
      ]
     },
     "execution_count": 20,
     "metadata": {},
     "output_type": "execute_result"
    }
   ],
   "source": [
    "d.head()"
   ]
  },
  {
   "cell_type": "markdown",
   "id": "ba13ed4e-4dd4-49f3-bf7b-2b25227ecc65",
   "metadata": {},
   "source": [
    "# Read url from the csv file & Segmentation"
   ]
  },
  {
   "cell_type": "code",
   "execution_count": 21,
   "id": "dc47414f-5ad5-41a4-b727-cdaf188b8568",
   "metadata": {
    "execution": {
     "iopub.execute_input": "2025-01-19T01:16:49.677884Z",
     "iopub.status.busy": "2025-01-19T01:16:49.677511Z",
     "iopub.status.idle": "2025-01-19T01:16:49.680642Z",
     "shell.execute_reply": "2025-01-19T01:16:49.679978Z"
    }
   },
   "outputs": [],
   "source": [
    "import urllib.request\n",
    "from urllib.parse import unquote, urlparse\n",
    "import re\n",
    "import os"
   ]
  },
  {
   "cell_type": "code",
   "execution_count": 22,
   "id": "1a74af77-f286-4d54-9bc7-0f3ff2090db1",
   "metadata": {
    "execution": {
     "iopub.execute_input": "2025-01-19T01:16:49.682649Z",
     "iopub.status.busy": "2025-01-19T01:16:49.682254Z",
     "iopub.status.idle": "2025-01-19T01:16:49.686789Z",
     "shell.execute_reply": "2025-01-19T01:16:49.686219Z"
    }
   },
   "outputs": [],
   "source": [
    "d = pd.read_csv('Image_Sources.csv')"
   ]
  },
  {
   "cell_type": "code",
   "execution_count": 23,
   "id": "fab12487-4855-413a-aaeb-f7394d9391b0",
   "metadata": {
    "execution": {
     "iopub.execute_input": "2025-01-19T01:16:49.688698Z",
     "iopub.status.busy": "2025-01-19T01:16:49.688500Z",
     "iopub.status.idle": "2025-01-19T01:16:49.695305Z",
     "shell.execute_reply": "2025-01-19T01:16:49.694700Z"
    }
   },
   "outputs": [
    {
     "data": {
      "text/html": [
       "<div>\n",
       "<style scoped>\n",
       "    .dataframe tbody tr th:only-of-type {\n",
       "        vertical-align: middle;\n",
       "    }\n",
       "\n",
       "    .dataframe tbody tr th {\n",
       "        vertical-align: top;\n",
       "    }\n",
       "\n",
       "    .dataframe thead th {\n",
       "        text-align: right;\n",
       "    }\n",
       "</style>\n",
       "<table border=\"1\" class=\"dataframe\">\n",
       "  <thead>\n",
       "    <tr style=\"text-align: right;\">\n",
       "      <th></th>\n",
       "      <th>Ralph_Lauren</th>\n",
       "      <th>Uniqlo</th>\n",
       "      <th>Zara</th>\n",
       "      <th>HM</th>\n",
       "    </tr>\n",
       "  </thead>\n",
       "  <tbody>\n",
       "    <tr>\n",
       "      <th>0</th>\n",
       "      <td>https://dtcralphlauren.scene7.com/is/image/Pol...</td>\n",
       "      <td>https://image.uniqlo.com/UQ/ST3/us/imagesgoods...</td>\n",
       "      <td>https://static.zara.net/assets/public/1109/7e2...</td>\n",
       "      <td>https://image.hm.com/assets/hm/69/d2/69d2b3ac7...</td>\n",
       "    </tr>\n",
       "    <tr>\n",
       "      <th>1</th>\n",
       "      <td>https://dtcralphlauren.scene7.com/is/image/Pol...</td>\n",
       "      <td>https://image.uniqlo.com/UQ/ST3/us/imagesgoods...</td>\n",
       "      <td>https://static.zara.net/assets/public/901b/bfa...</td>\n",
       "      <td>https://image.hm.com/assets/hm/8a/07/8a07fe4a3...</td>\n",
       "    </tr>\n",
       "    <tr>\n",
       "      <th>2</th>\n",
       "      <td>https://dtcralphlauren.scene7.com/is/image/Pol...</td>\n",
       "      <td>https://image.uniqlo.com/UQ/ST3/us/imagesgoods...</td>\n",
       "      <td>https://static.zara.net/assets/public/f53f/3a7...</td>\n",
       "      <td>https://image.hm.com/assets/hm/1d/58/1d5824979...</td>\n",
       "    </tr>\n",
       "    <tr>\n",
       "      <th>3</th>\n",
       "      <td>https://dtcralphlauren.scene7.com/is/image/Pol...</td>\n",
       "      <td>https://image.uniqlo.com/UQ/ST3/us/imagesgoods...</td>\n",
       "      <td>https://static.zara.net/assets/public/b6a4/820...</td>\n",
       "      <td>https://image.hm.com/assets/hm/29/9d/299d81311...</td>\n",
       "    </tr>\n",
       "    <tr>\n",
       "      <th>4</th>\n",
       "      <td>https://dtcralphlauren.scene7.com/is/image/Pol...</td>\n",
       "      <td>https://image.uniqlo.com/UQ/ST3/us/imagesgoods...</td>\n",
       "      <td>https://static.zara.net/assets/public/1229/8d3...</td>\n",
       "      <td>https://image.hm.com/assets/hm/b8/81/b8812233b...</td>\n",
       "    </tr>\n",
       "  </tbody>\n",
       "</table>\n",
       "</div>"
      ],
      "text/plain": [
       "                                        Ralph_Lauren  \\\n",
       "0  https://dtcralphlauren.scene7.com/is/image/Pol...   \n",
       "1  https://dtcralphlauren.scene7.com/is/image/Pol...   \n",
       "2  https://dtcralphlauren.scene7.com/is/image/Pol...   \n",
       "3  https://dtcralphlauren.scene7.com/is/image/Pol...   \n",
       "4  https://dtcralphlauren.scene7.com/is/image/Pol...   \n",
       "\n",
       "                                              Uniqlo  \\\n",
       "0  https://image.uniqlo.com/UQ/ST3/us/imagesgoods...   \n",
       "1  https://image.uniqlo.com/UQ/ST3/us/imagesgoods...   \n",
       "2  https://image.uniqlo.com/UQ/ST3/us/imagesgoods...   \n",
       "3  https://image.uniqlo.com/UQ/ST3/us/imagesgoods...   \n",
       "4  https://image.uniqlo.com/UQ/ST3/us/imagesgoods...   \n",
       "\n",
       "                                                Zara  \\\n",
       "0  https://static.zara.net/assets/public/1109/7e2...   \n",
       "1  https://static.zara.net/assets/public/901b/bfa...   \n",
       "2  https://static.zara.net/assets/public/f53f/3a7...   \n",
       "3  https://static.zara.net/assets/public/b6a4/820...   \n",
       "4  https://static.zara.net/assets/public/1229/8d3...   \n",
       "\n",
       "                                                  HM  \n",
       "0  https://image.hm.com/assets/hm/69/d2/69d2b3ac7...  \n",
       "1  https://image.hm.com/assets/hm/8a/07/8a07fe4a3...  \n",
       "2  https://image.hm.com/assets/hm/1d/58/1d5824979...  \n",
       "3  https://image.hm.com/assets/hm/29/9d/299d81311...  \n",
       "4  https://image.hm.com/assets/hm/b8/81/b8812233b...  "
      ]
     },
     "execution_count": 23,
     "metadata": {},
     "output_type": "execute_result"
    }
   ],
   "source": [
    "d.head()"
   ]
  },
  {
   "cell_type": "code",
   "execution_count": 24,
   "id": "b89dec02-a21d-4db5-afb1-e233361376f2",
   "metadata": {
    "execution": {
     "iopub.execute_input": "2025-01-19T01:16:49.697329Z",
     "iopub.status.busy": "2025-01-19T01:16:49.697131Z",
     "iopub.status.idle": "2025-01-19T01:27:09.542030Z",
     "shell.execute_reply": "2025-01-19T01:27:09.541250Z"
    }
   },
   "outputs": [
    {
     "name": "stdout",
     "output_type": "stream",
     "text": [
      "This image cound't be found: https://dtcralphlauren.scene7.com/is/image/PoloGSI/s7-AI211959809001_lifestyle?$plpDeskRF$\n",
      "list index out of range\n"
     ]
    },
    {
     "name": "stdout",
     "output_type": "stream",
     "text": [
      "This image cound't be found: https://dtcralphlauren.scene7.com/is/image/PoloGSI/s7-AI211959809001_lifestyle?$plpMob$\n",
      "list index out of range\n"
     ]
    },
    {
     "name": "stdout",
     "output_type": "stream",
     "text": [
      "This image cound't be found: https://dtcralphlauren.scene7.com/is/image/PoloGSI/s7-AI427949873005_alternate1?$plpDeskRF$\n",
      "list index out of range\n"
     ]
    },
    {
     "name": "stdout",
     "output_type": "stream",
     "text": [
      "This image cound't be found: https://image.uniqlo.com/UQ/ST3/us/imagesgoods/474055/item/usgoods_32_474055_3x4.jpg?width=300\n",
      "list index out of range\n"
     ]
    },
    {
     "name": "stdout",
     "output_type": "stream",
     "text": [
      "This image cound't be found: https://static.zara.net/assets/public/1109/7e28/80e44990a0ec/b12845e50a15/02366717083-p/02366717083-p.jpg?ts=1736940509303&w=1095\n",
      "list index out of range\n"
     ]
    },
    {
     "name": "stdout",
     "output_type": "stream",
     "text": [
      "This image cound't be found: https://static.zara.net/assets/public/b75c/c1d3/d9294709ac96/7d2a9b4f1ca4/05755158526-e1/05755158526-e1.jpg?ts=1735910360199&w=1095\n",
      "list index out of range\n"
     ]
    },
    {
     "name": "stdout",
     "output_type": "stream",
     "text": [
      "This image cound't be found: https://static.zara.net/assets/public/fede/6bac/bd674da19a97/65e20b1bbf1f/03067306250-p/03067306250-p.jpg?ts=1736959809724&w=548\n",
      "list index out of range\n"
     ]
    }
   ],
   "source": [
    "path_files=[]\n",
    "dic={}\n",
    "for col in d.columns:\n",
    "    links=d[col].head(30)\n",
    "    # Create a folder for the current column\n",
    "    os.makedirs(col, exist_ok=True)\n",
    "    paths=[]\n",
    "     \n",
    "    for l in links:\n",
    "        try:\n",
    "            # URL of the file to download\n",
    "            url = l\n",
    "\n",
    "            # Extract the filename from the URL\n",
    "            filename = url.split(\"/\")[-1]  # Default fallback if Content-Disposition is not available\n",
    "            filename = unquote(filename)  # Decode URL-encoded characters in the filename\n",
    "\n",
    "            # Combine column name folder path with filename\n",
    "            filepath = os.path.join(col, filename)\n",
    "\n",
    "            # Define custom headers\n",
    "            headers = {'User-Agent': 'Mozilla/5.0 (Windows NT 10.0; Win64; x64) AppleWebKit/537.36 (KHTML, like Gecko) Chrome/91.0.4472.124 Safari/537.36'}\n",
    "\n",
    "            # Create a request object with headers\n",
    "            request = urllib.request.Request(url, headers=headers)\n",
    "\n",
    "            # Download and save the file\n",
    "            try:\n",
    "                with urllib.request.urlopen(request) as response, open(filepath, 'wb') as file:\n",
    "                    file.write(response.read())\n",
    "\n",
    "            except urllib.error.HTTPError as e:\n",
    "                print(f\"HTTPError: {e.code} - {e.reason}\")\n",
    "            except Exception as e:\n",
    "                print(f\"Error: {e}\")           \n",
    "            \n",
    "            # urllib.request.urlretrieve(url, filepath)            \n",
    "            time.sleep(1)\n",
    "                        \n",
    "            # open the file\n",
    "            image=Image.open(filepath)\n",
    "\n",
    "            # segment the clothes\n",
    "            result = segment_clothing(img=image)\n",
    "            result.save(f'{filepath}.png')\n",
    "            paths.append(f'{filepath}.png')\n",
    "    \n",
    "        except Exception as e:\n",
    "            print(\"This image cound't be found:\",l)\n",
    "            print(e)\n",
    "\n",
    "    dic[col]=paths\n",
    "    path_files.append(dic)"
   ]
  },
  {
   "cell_type": "markdown",
   "id": "f55c89a5-4b97-48d2-82a2-bf82698140ff",
   "metadata": {},
   "source": [
    "# read the colors"
   ]
  },
  {
   "cell_type": "code",
   "execution_count": 25,
   "id": "d9064f7f-3e03-43ae-b2c0-806b76160eb5",
   "metadata": {
    "execution": {
     "iopub.execute_input": "2025-01-19T01:27:09.544489Z",
     "iopub.status.busy": "2025-01-19T01:27:09.544253Z",
     "iopub.status.idle": "2025-01-19T01:27:09.547273Z",
     "shell.execute_reply": "2025-01-19T01:27:09.546649Z"
    }
   },
   "outputs": [],
   "source": [
    "# pip install Pillow scikit-learn"
   ]
  },
  {
   "cell_type": "code",
   "execution_count": 26,
   "id": "cb35a93c-7918-4065-a6ae-0a095da5a9a4",
   "metadata": {
    "execution": {
     "iopub.execute_input": "2025-01-19T01:27:09.549138Z",
     "iopub.status.busy": "2025-01-19T01:27:09.548945Z",
     "iopub.status.idle": "2025-01-19T01:27:09.552949Z",
     "shell.execute_reply": "2025-01-19T01:27:09.552421Z"
    }
   },
   "outputs": [],
   "source": [
    "def extract_colors(image_path, num_colors=5):\n",
    "    img = Image.open(image_path)\n",
    "    # Ensure image is in RGB format\n",
    "    img = img.convert('RGB')\n",
    "    \n",
    "    img = img.resize((256, 256))  # Resize for faster processing\n",
    "    img_array = np.array(img)\n",
    "    img_array = img_array.reshape((-1, 3))\n",
    "\n",
    "    kmeans = KMeans(n_clusters=num_colors)\n",
    "    kmeans.fit(img_array)\n",
    "    colors = kmeans.cluster_centers_.astype(int)\n",
    "    return colors"
   ]
  },
  {
   "cell_type": "markdown",
   "id": "fff0896f-32f8-4f98-8850-f35f95b504a2",
   "metadata": {},
   "source": [
    "# Make a color palette"
   ]
  },
  {
   "cell_type": "code",
   "execution_count": 27,
   "id": "143a4dae-0d61-4ed8-93bb-437408d7d7e9",
   "metadata": {
    "execution": {
     "iopub.execute_input": "2025-01-19T01:27:09.554857Z",
     "iopub.status.busy": "2025-01-19T01:27:09.554507Z",
     "iopub.status.idle": "2025-01-19T01:27:09.557665Z",
     "shell.execute_reply": "2025-01-19T01:27:09.557104Z"
    }
   },
   "outputs": [],
   "source": [
    "def luminance(color):\n",
    "    r, g, b = color\n",
    "    return 0.299 * r + 0.587 * g + 0.114 * b"
   ]
  },
  {
   "cell_type": "code",
   "execution_count": 28,
   "id": "c2967472-0e71-46ad-9947-2b592b79530c",
   "metadata": {
    "execution": {
     "iopub.execute_input": "2025-01-19T01:27:09.559430Z",
     "iopub.status.busy": "2025-01-19T01:27:09.559224Z",
     "iopub.status.idle": "2025-01-19T01:27:21.361855Z",
     "shell.execute_reply": "2025-01-19T01:27:21.361169Z"
    }
   },
   "outputs": [
    {
     "name": "stdout",
     "output_type": "stream",
     "text": [
      "Total palettes generated: 4\n"
     ]
    }
   ],
   "source": [
    "palettes = []\n",
    "for brand, paths in path_files[0].items():\n",
    "    image_paths = paths  \n",
    "    \n",
    "    if not image_paths:\n",
    "        print(f\"No image paths for {brand}\")\n",
    "        continue\n",
    "    \n",
    "    all_colors = []\n",
    "    \n",
    "    try:\n",
    "        for path in image_paths:\n",
    "            colors = extract_colors(path)\n",
    "            all_colors.extend(colors)\n",
    "        \n",
    "        if not all_colors:\n",
    "            print(f\"No colors extracted for {brand}\")\n",
    "            continue\n",
    "        \n",
    "        all_colors = sorted(all_colors, key=luminance)\n",
    "        final_palette = KMeans(n_clusters=10).fit(all_colors).cluster_centers_.astype(int)\n",
    "        palettes.append(final_palette)\n",
    "        \n",
    "        # Create a plot for each brand's palette\n",
    "        plt.figure(figsize=(10, 2))\n",
    "        plt.axis('off')\n",
    "        plt.subplots_adjust(left=0, right=1, top=1, bottom=0)\n",
    "        \n",
    "        # Plot color squares\n",
    "        for i, color in enumerate(final_palette):\n",
    "            plt.fill([i, i+1, i+1, i], [0, 0, 1, 1], color=color/255.0)\n",
    "        \n",
    "        plt.savefig(f'{brand}.png', transparent=True, bbox_inches='tight', pad_inches=0)\n",
    "        plt.close()  # Close the figure to free up memory\n",
    "    \n",
    "    except Exception as e:\n",
    "        print(f\"{brand} has an error: {e}\")\n",
    "\n",
    "print(f\"Total palettes generated: {len(palettes)}\")"
   ]
  },
  {
   "cell_type": "markdown",
   "id": "e5ba21ad-ca7d-4164-b177-e51f3ca6995f",
   "metadata": {},
   "source": [
    "I consult google for this"
   ]
  },
  {
   "cell_type": "code",
   "execution_count": 29,
   "id": "4cbe3a14-e4aa-428d-93ae-005a031588a9",
   "metadata": {
    "execution": {
     "iopub.execute_input": "2025-01-19T01:27:21.364978Z",
     "iopub.status.busy": "2025-01-19T01:27:21.364525Z",
     "iopub.status.idle": "2025-01-19T01:27:21.521050Z",
     "shell.execute_reply": "2025-01-19T01:27:21.520368Z"
    }
   },
   "outputs": [
    {
     "data": {
      "image/png": "[encoded data removed]",
      "text/plain": [
       "<Figure size 400x400 with 1 Axes>"
      ]
     },
     "metadata": {},
     "output_type": "display_data"
    }
   ],
   "source": [
    "# Convert the final palette to a usable color format\n",
    "final_colors = [tuple(color / 255) for palette in palettes for color in palette]  \n",
    "final_colors = sorted(final_colors, key=luminance)\n",
    "\n",
    "# Number of colors\n",
    "num_colors = len(final_colors)\n",
    "\n",
    "# Angles\n",
    "angles = np.linspace(0, 2 * np.pi, num_colors, endpoint=False)\n",
    "\n",
    "# Create a polar plot\n",
    "fig, ax = plt.subplots(subplot_kw={'projection': 'polar'}, figsize=(4, 4))\n",
    "bars = ax.bar(angles, np.ones(num_colors), color=final_colors, width=2 * np.pi / num_colors)\n",
    "\n",
    "# Remove radial and angular ticks\n",
    "ax.set_yticks([])\n",
    "ax.set_xticks([])\n",
    "ax.spines['polar'].set_visible(False)\n",
    "\n",
    "plt.savefig('color_wheel.png', transparent=True)"
   ]
  },
  {
   "cell_type": "markdown",
   "id": "01ef4718-a5fa-4fd1-ae04-8337909fb729",
   "metadata": {},
   "source": [
    "# Find the most commonly appeared color"
   ]
  },
  {
   "cell_type": "code",
   "execution_count": 30,
   "id": "9df94d49-7dae-49ba-b218-05b9316a29a3",
   "metadata": {
    "execution": {
     "iopub.execute_input": "2025-01-19T01:27:21.523042Z",
     "iopub.status.busy": "2025-01-19T01:27:21.522843Z",
     "iopub.status.idle": "2025-01-19T01:27:21.525909Z",
     "shell.execute_reply": "2025-01-19T01:27:21.525363Z"
    }
   },
   "outputs": [],
   "source": [
    "from collections import Counter"
   ]
  },
  {
   "cell_type": "code",
   "execution_count": 31,
   "id": "9ee060f3-3ab7-49aa-9b91-225172f9bb70",
   "metadata": {
    "execution": {
     "iopub.execute_input": "2025-01-19T01:27:21.527713Z",
     "iopub.status.busy": "2025-01-19T01:27:21.527521Z",
     "iopub.status.idle": "2025-01-19T01:27:21.677566Z",
     "shell.execute_reply": "2025-01-19T01:27:21.676943Z"
    }
   },
   "outputs": [
    {
     "data": {
      "image/png": "[encoded data removed]",
      "text/plain": [
       "<Figure size 400x400 with 1 Axes>"
      ]
     },
     "metadata": {},
     "output_type": "display_data"
    }
   ],
   "source": [
    "color_counts = Counter(final_colors)\n",
    "most_common_color, _ = color_counts.most_common(1)[0]\n",
    "\n",
    "fig2, ax2 = plt.subplots(subplot_kw={'projection': 'polar'}, figsize=(4, 4))\n",
    "ax2.bar(angles, np.ones(num_colors), color=[most_common_color] * num_colors, width=2 * np.pi / num_colors)\n",
    "\n",
    "\n",
    "ax2.set_yticks([])\n",
    "ax2.set_xticks([])\n",
    "ax2.spines['polar'].set_visible(False)\n",
    "\n",
    "plt.savefig('most_common_color_wheel.png', transparent=True)"
   ]
  },
  {
   "cell_type": "markdown",
   "id": "40b06667-ad3a-4194-9d10-7f032f14af7f",
   "metadata": {},
   "source": [
    "# Build a color count table"
   ]
  },
  {
   "cell_type": "code",
   "execution_count": 32,
   "id": "ee645cbf-4643-4828-b0ce-9d6e89ad7218",
   "metadata": {
    "execution": {
     "iopub.execute_input": "2025-01-19T01:27:21.679649Z",
     "iopub.status.busy": "2025-01-19T01:27:21.679446Z",
     "iopub.status.idle": "2025-01-19T01:27:21.682769Z",
     "shell.execute_reply": "2025-01-19T01:27:21.682083Z"
    }
   },
   "outputs": [],
   "source": [
    "if os.path.exists(\"latest_color_grids.png\"):\n",
    "    # Rename the existing file\n",
    "    os.rename(\"latest_color_grids.png\", \"last_grids.png\")"
   ]
  },
  {
   "cell_type": "code",
   "execution_count": 33,
   "id": "2bf7993a-d394-4349-a813-991fb0010e72",
   "metadata": {
    "execution": {
     "iopub.execute_input": "2025-01-19T01:27:21.684759Z",
     "iopub.status.busy": "2025-01-19T01:27:21.684395Z",
     "iopub.status.idle": "2025-01-19T01:27:21.687750Z",
     "shell.execute_reply": "2025-01-19T01:27:21.687076Z"
    }
   },
   "outputs": [],
   "source": [
    "import math\n",
    "total_colors = len(final_colors)\n",
    "cols = math.ceil(math.sqrt(total_colors))  # Number of columns\n",
    "rows = math.ceil(total_colors / cols)    "
   ]
  },
  {
   "cell_type": "code",
   "execution_count": 34,
   "id": "1dd8ef53-3d2d-4bfd-a09a-85eb50bd8fab",
   "metadata": {
    "execution": {
     "iopub.execute_input": "2025-01-19T01:27:21.689799Z",
     "iopub.status.busy": "2025-01-19T01:27:21.689422Z",
     "iopub.status.idle": "2025-01-19T01:27:21.692313Z",
     "shell.execute_reply": "2025-01-19T01:27:21.691777Z"
    }
   },
   "outputs": [],
   "source": [
    "rows = 9\n",
    "cols = 10"
   ]
  },
  {
   "cell_type": "code",
   "execution_count": 35,
   "id": "e172c038-c6ea-4f63-aea0-3d262ba0a99d",
   "metadata": {
    "execution": {
     "iopub.execute_input": "2025-01-19T01:27:21.694354Z",
     "iopub.status.busy": "2025-01-19T01:27:21.694000Z",
     "iopub.status.idle": "2025-01-19T01:27:21.768346Z",
     "shell.execute_reply": "2025-01-19T01:27:21.767651Z"
    }
   },
   "outputs": [
    {
     "data": {
      "image/png": "[encoded data removed]",
      "text/plain": [
       "<Figure size 500x500 with 1 Axes>"
      ]
     },
     "metadata": {},
     "output_type": "display_data"
    }
   ],
   "source": [
    "num_colors = len(final_colors)\n",
    "rows = int(np.ceil(np.sqrt(num_colors)))\n",
    "cols = rows\n",
    "\n",
    "# Create the grid plot\n",
    "fig, ax = plt.subplots(figsize=(5, 5))\n",
    "ax.axis('off')  # Turn off axes\n",
    "\n",
    "# Create the grid\n",
    "for idx, color in enumerate(final_colors):\n",
    "    row = idx // cols\n",
    "    col = idx % cols\n",
    "    ax.add_patch(plt.Rectangle((col, -row), 1, 1, color=color))\n",
    "\n",
    "# Set the aspect and limits to make a square grid\n",
    "ax.set_xlim(0, cols)\n",
    "ax.set_ylim(-rows, 0)\n",
    "ax.set_aspect('equal')\n",
    "\n",
    "plt.savefig('latest_color_grids.png', transparent=True)"
   ]
  },
  {
   "cell_type": "markdown",
   "id": "161ae4d7-e7e0-4f54-93e4-4bf2e9774671",
   "metadata": {},
   "source": [
    "# create an color grid html"
   ]
  },
  {
   "cell_type": "code",
   "execution_count": 36,
   "id": "d225df2c-9681-4d99-8567-65cfc1d9ddbd",
   "metadata": {
    "execution": {
     "iopub.execute_input": "2025-01-19T01:27:21.770467Z",
     "iopub.status.busy": "2025-01-19T01:27:21.770118Z",
     "iopub.status.idle": "2025-01-19T01:27:21.777261Z",
     "shell.execute_reply": "2025-01-19T01:27:21.776699Z"
    }
   },
   "outputs": [
    {
     "name": "stdout",
     "output_type": "stream",
     "text": [
      "HTML file generated: color_grid.html\n"
     ]
    }
   ],
   "source": [
    "colors = [color for palette in palettes for color in palette]\n",
    "# Generate HTML\n",
    "html_content = \"<!DOCTYPE html>\\n<html>\\n<head>\\n<style>\\n\"\n",
    "html_content += \"\"\"\n",
    ".grid-container {\n",
    "    display: grid;\n",
    "    grid-template-columns: repeat(auto-fill, 60px);\n",
    "    gap: 5px;\n",
    "}\n",
    ".grid-item {\n",
    "    width: 60px;\n",
    "    height: 60px;\n",
    "    display: flex;\n",
    "    justify-content: center;\n",
    "    align-items: center;\n",
    "    font-size: 10px;\n",
    "    color: black;\n",
    "    border: 1px solid #ccc;\n",
    "    text-shadow: 0 0 2px white; \n",
    "}\n",
    "</style>\n",
    "</head>\\n<body>\\n<div class=\"grid-container\">\\n\"\"\"\n",
    "\n",
    "for index, color in enumerate(colors, 1):\n",
    "    rgb_value = f\"rgb({color[0]}, {color[1]}, {color[2]})\"\n",
    "    html_content += f'    <div class=\"grid-item\" style=\"background-color: {rgb_value};\">{color}</div>\\n'\n",
    "    \n",
    "    # Add a line break after every 10 items\n",
    "    if index % 10 == 0:\n",
    "        html_content += '</div>\\n<div class=\"grid-container\">\\n'\n",
    "\n",
    "if len(colors) % 10 != 0:\n",
    "    html_content += '</div>\\n'\n",
    "    \n",
    "html_content += \"</div>\\n</body>\\n</html>\"\n",
    "\n",
    "# Save to an HTML file\n",
    "with open(\"color_grids.html\", \"w\") as f:\n",
    "    f.write(html_content)\n",
    "\n",
    "print(\"HTML file generated: color_grid.html\")"
   ]
  },
  {
   "cell_type": "code",
   "execution_count": null,
   "id": "c399598e-686d-45f9-acdd-2e7e85778af2",
   "metadata": {},
   "outputs": [],
   "source": []
  }
 ],
 "metadata": {
  "kernelspec": {
   "display_name": "Python 3 (ipykernel)",
   "language": "python",
   "name": "python3"
  },
  "language_info": {
   "codemirror_mode": {
    "name": "ipython",
    "version": 3
   },
   "file_extension": ".py",
   "mimetype": "text/x-python",
   "name": "python",
   "nbconvert_exporter": "python",
   "pygments_lexer": "ipython3",
   "version": "3.10.16"
  },
  "widgets": {
   "application/vnd.jupyter.widget-state+json": {
    "state": {
     "0e349c72d1e4497d9d9df4bfb08c1a71": {
      "model_module": "@jupyter-widgets/controls",
      "model_module_version": "2.0.0",
      "model_name": "HTMLStyleModel",
      "state": {
       "_model_module": "@jupyter-widgets/controls",
       "_model_module_version": "2.0.0",
       "_model_name": "HTMLStyleModel",
       "_view_count": null,
       "_view_module": "@jupyter-widgets/base",
       "_view_module_version": "2.0.0",
       "_view_name": "StyleView",
       "background": null,
       "description_width": "",
       "font_size": null,
       "text_color": null
      }
     },
     "0e47539a47b347b0b5952c1c65ddb6b8": {
      "model_module": "@jupyter-widgets/controls",
      "model_module_version": "2.0.0",
      "model_name": "HTMLModel",
      "state": {
       "_dom_classes": [],
       "_model_module": "@jupyter-widgets/controls",
       "_model_module_version": "2.0.0",
       "_model_name": "HTMLModel",
       "_view_count": null,
       "_view_module": "@jupyter-widgets/controls",
       "_view_module_version": "2.0.0",
       "_view_name": "HTMLView",
       "description": "",
       "description_allow_html": false,
       "layout": "IPY_MODEL_652e6ddc98c94ae7bfc28d01c1f2c143",
       "placeholder": "​",
       "style": "IPY_MODEL_1ea0c438658c43b983f185ef1494484f",
       "tabbable": null,
       "tooltip": null,
       "value": " 1.73k/1.73k [00:00&lt;00:00, 196kB/s]"
      }
     },
     "0f7ef70d58204ba5b973aad135740f78": {
      "model_module": "@jupyter-widgets/controls",
      "model_module_version": "2.0.0",
      "model_name": "HBoxModel",
      "state": {
       "_dom_classes": [],
       "_model_module": "@jupyter-widgets/controls",
       "_model_module_version": "2.0.0",
       "_model_name": "HBoxModel",
       "_view_count": null,
       "_view_module": "@jupyter-widgets/controls",
       "_view_module_version": "2.0.0",
       "_view_name": "HBoxView",
       "box_style": "",
       "children": [
        "IPY_MODEL_f31ab88ea0ba4035a2059c36999935c3",
        "IPY_MODEL_65263503b57b47e186253348e6c71db6",
        "IPY_MODEL_5701423e2cdd4c3fbdc2b2f890203c21"
       ],
       "layout": "IPY_MODEL_4234a30528234da183387e328c4dc078",
       "tabbable": null,
       "tooltip": null
      }
     },
     "158ebf6359d44f578f58964e5bd43985": {
      "model_module": "@jupyter-widgets/base",
      "model_module_version": "2.0.0",
      "model_name": "LayoutModel",
      "state": {
       "_model_module": "@jupyter-widgets/base",
       "_model_module_version": "2.0.0",
       "_model_name": "LayoutModel",
       "_view_count": null,
       "_view_module": "@jupyter-widgets/base",
       "_view_module_version": "2.0.0",
       "_view_name": "LayoutView",
       "align_content": null,
       "align_items": null,
       "align_self": null,
       "border_bottom": null,
       "border_left": null,
       "border_right": null,
       "border_top": null,
       "bottom": null,
       "display": null,
       "flex": null,
       "flex_flow": null,
       "grid_area": null,
       "grid_auto_columns": null,
       "grid_auto_flow": null,
       "grid_auto_rows": null,
       "grid_column": null,
       "grid_gap": null,
       "grid_row": null,
       "grid_template_areas": null,
       "grid_template_columns": null,
       "grid_template_rows": null,
       "height": null,
       "justify_content": null,
       "justify_items": null,
       "left": null,
       "margin": null,
       "max_height": null,
       "max_width": null,
       "min_height": null,
       "min_width": null,
       "object_fit": null,
       "object_position": null,
       "order": null,
       "overflow": null,
       "padding": null,
       "right": null,
       "top": null,
       "visibility": null,
       "width": null
      }
     },
     "1ea0c438658c43b983f185ef1494484f": {
      "model_module": "@jupyter-widgets/controls",
      "model_module_version": "2.0.0",
      "model_name": "HTMLStyleModel",
      "state": {
       "_model_module": "@jupyter-widgets/controls",
       "_model_module_version": "2.0.0",
       "_model_name": "HTMLStyleModel",
       "_view_count": null,
       "_view_module": "@jupyter-widgets/base",
       "_view_module_version": "2.0.0",
       "_view_name": "StyleView",
       "background": null,
       "description_width": "",
       "font_size": null,
       "text_color": null
      }
     },
     "2528850614c942009b3867e7f0b4996a": {
      "model_module": "@jupyter-widgets/controls",
      "model_module_version": "2.0.0",
      "model_name": "HTMLStyleModel",
      "state": {
       "_model_module": "@jupyter-widgets/controls",
       "_model_module_version": "2.0.0",
       "_model_name": "HTMLStyleModel",
       "_view_count": null,
       "_view_module": "@jupyter-widgets/base",
       "_view_module_version": "2.0.0",
       "_view_name": "StyleView",
       "background": null,
       "description_width": "",
       "font_size": null,
       "text_color": null
      }
     },
     "29dd1e88842a487695157c4c7cff2567": {
      "model_module": "@jupyter-widgets/controls",
      "model_module_version": "2.0.0",
      "model_name": "FloatProgressModel",
      "state": {
       "_dom_classes": [],
       "_model_module": "@jupyter-widgets/controls",
       "_model_module_version": "2.0.0",
       "_model_name": "FloatProgressModel",
       "_view_count": null,
       "_view_module": "@jupyter-widgets/controls",
       "_view_module_version": "2.0.0",
       "_view_name": "ProgressView",
       "bar_style": "success",
       "description": "",
       "description_allow_html": false,
       "layout": "IPY_MODEL_fceb76570d4f47a1a80fdb4f2b41d8db",
       "max": 109493236.0,
       "min": 0.0,
       "orientation": "horizontal",
       "style": "IPY_MODEL_b0f07c7dd7854f4bbf025568b3eda072",
       "tabbable": null,
       "tooltip": null,
       "value": 109493236.0
      }
     },
     "3ce28834961145b2a366a502b46becfc": {
      "model_module": "@jupyter-widgets/base",
      "model_module_version": "2.0.0",
      "model_name": "LayoutModel",
      "state": {
       "_model_module": "@jupyter-widgets/base",
       "_model_module_version": "2.0.0",
       "_model_name": "LayoutModel",
       "_view_count": null,
       "_view_module": "@jupyter-widgets/base",
       "_view_module_version": "2.0.0",
       "_view_name": "LayoutView",
       "align_content": null,
       "align_items": null,
       "align_self": null,
       "border_bottom": null,
       "border_left": null,
       "border_right": null,
       "border_top": null,
       "bottom": null,
       "display": null,
       "flex": null,
       "flex_flow": null,
       "grid_area": null,
       "grid_auto_columns": null,
       "grid_auto_flow": null,
       "grid_auto_rows": null,
       "grid_column": null,
       "grid_gap": null,
       "grid_row": null,
       "grid_template_areas": null,
       "grid_template_columns": null,
       "grid_template_rows": null,
       "height": null,
       "justify_content": null,
       "justify_items": null,
       "left": null,
       "margin": null,
       "max_height": null,
       "max_width": null,
       "min_height": null,
       "min_width": null,
       "object_fit": null,
       "object_position": null,
       "order": null,
       "overflow": null,
       "padding": null,
       "right": null,
       "top": null,
       "visibility": null,
       "width": null
      }
     },
     "4234a30528234da183387e328c4dc078": {
      "model_module": "@jupyter-widgets/base",
      "model_module_version": "2.0.0",
      "model_name": "LayoutModel",
      "state": {
       "_model_module": "@jupyter-widgets/base",
       "_model_module_version": "2.0.0",
       "_model_name": "LayoutModel",
       "_view_count": null,
       "_view_module": "@jupyter-widgets/base",
       "_view_module_version": "2.0.0",
       "_view_name": "LayoutView",
       "align_content": null,
       "align_items": null,
       "align_self": null,
       "border_bottom": null,
       "border_left": null,
       "border_right": null,
       "border_top": null,
       "bottom": null,
       "display": null,
       "flex": null,
       "flex_flow": null,
       "grid_area": null,
       "grid_auto_columns": null,
       "grid_auto_flow": null,
       "grid_auto_rows": null,
       "grid_column": null,
       "grid_gap": null,
       "grid_row": null,
       "grid_template_areas": null,
       "grid_template_columns": null,
       "grid_template_rows": null,
       "height": null,
       "justify_content": null,
       "justify_items": null,
       "left": null,
       "margin": null,
       "max_height": null,
       "max_width": null,
       "min_height": null,
       "min_width": null,
       "object_fit": null,
       "object_position": null,
       "order": null,
       "overflow": null,
       "padding": null,
       "right": null,
       "top": null,
       "visibility": null,
       "width": null
      }
     },
     "46f849ddfaa6474c9fa6e00b25d86217": {
      "model_module": "@jupyter-widgets/controls",
      "model_module_version": "2.0.0",
      "model_name": "HTMLModel",
      "state": {
       "_dom_classes": [],
       "_model_module": "@jupyter-widgets/controls",
       "_model_module_version": "2.0.0",
       "_model_name": "HTMLModel",
       "_view_count": null,
       "_view_module": "@jupyter-widgets/controls",
       "_view_module_version": "2.0.0",
       "_view_name": "HTMLView",
       "description": "",
       "description_allow_html": false,
       "layout": "IPY_MODEL_557e378da3424b3aae476095a1b6742a",
       "placeholder": "​",
       "style": "IPY_MODEL_0e349c72d1e4497d9d9df4bfb08c1a71",
       "tabbable": null,
       "tooltip": null,
       "value": "config.json: 100%"
      }
     },
     "4fb95f338cf0421995e137a08d5b8cfd": {
      "model_module": "@jupyter-widgets/controls",
      "model_module_version": "2.0.0",
      "model_name": "ProgressStyleModel",
      "state": {
       "_model_module": "@jupyter-widgets/controls",
       "_model_module_version": "2.0.0",
       "_model_name": "ProgressStyleModel",
       "_view_count": null,
       "_view_module": "@jupyter-widgets/base",
       "_view_module_version": "2.0.0",
       "_view_name": "StyleView",
       "bar_color": null,
       "description_width": ""
      }
     },
     "557e378da3424b3aae476095a1b6742a": {
      "model_module": "@jupyter-widgets/base",
      "model_module_version": "2.0.0",
      "model_name": "LayoutModel",
      "state": {
       "_model_module": "@jupyter-widgets/base",
       "_model_module_version": "2.0.0",
       "_model_name": "LayoutModel",
       "_view_count": null,
       "_view_module": "@jupyter-widgets/base",
       "_view_module_version": "2.0.0",
       "_view_name": "LayoutView",
       "align_content": null,
       "align_items": null,
       "align_self": null,
       "border_bottom": null,
       "border_left": null,
       "border_right": null,
       "border_top": null,
       "bottom": null,
       "display": null,
       "flex": null,
       "flex_flow": null,
       "grid_area": null,
       "grid_auto_columns": null,
       "grid_auto_flow": null,
       "grid_auto_rows": null,
       "grid_column": null,
       "grid_gap": null,
       "grid_row": null,
       "grid_template_areas": null,
       "grid_template_columns": null,
       "grid_template_rows": null,
       "height": null,
       "justify_content": null,
       "justify_items": null,
       "left": null,
       "margin": null,
       "max_height": null,
       "max_width": null,
       "min_height": null,
       "min_width": null,
       "object_fit": null,
       "object_position": null,
       "order": null,
       "overflow": null,
       "padding": null,
       "right": null,
       "top": null,
       "visibility": null,
       "width": null
      }
     },
     "5701423e2cdd4c3fbdc2b2f890203c21": {
      "model_module": "@jupyter-widgets/controls",
      "model_module_version": "2.0.0",
      "model_name": "HTMLModel",
      "state": {
       "_dom_classes": [],
       "_model_module": "@jupyter-widgets/controls",
       "_model_module_version": "2.0.0",
       "_model_name": "HTMLModel",
       "_view_count": null,
       "_view_module": "@jupyter-widgets/controls",
       "_view_module_version": "2.0.0",
       "_view_name": "HTMLView",
       "description": "",
       "description_allow_html": false,
       "layout": "IPY_MODEL_3ce28834961145b2a366a502b46becfc",
       "placeholder": "​",
       "style": "IPY_MODEL_e8e4ee1c7656426f895d9e6bcdefac78",
       "tabbable": null,
       "tooltip": null,
       "value": " 271/271 [00:00&lt;00:00, 40.0kB/s]"
      }
     },
     "61bc76f754624fec8b0bce667a3755d9": {
      "model_module": "@jupyter-widgets/base",
      "model_module_version": "2.0.0",
      "model_name": "LayoutModel",
      "state": {
       "_model_module": "@jupyter-widgets/base",
       "_model_module_version": "2.0.0",
       "_model_name": "LayoutModel",
       "_view_count": null,
       "_view_module": "@jupyter-widgets/base",
       "_view_module_version": "2.0.0",
       "_view_name": "LayoutView",
       "align_content": null,
       "align_items": null,
       "align_self": null,
       "border_bottom": null,
       "border_left": null,
       "border_right": null,
       "border_top": null,
       "bottom": null,
       "display": null,
       "flex": null,
       "flex_flow": null,
       "grid_area": null,
       "grid_auto_columns": null,
       "grid_auto_flow": null,
       "grid_auto_rows": null,
       "grid_column": null,
       "grid_gap": null,
       "grid_row": null,
       "grid_template_areas": null,
       "grid_template_columns": null,
       "grid_template_rows": null,
       "height": null,
       "justify_content": null,
       "justify_items": null,
       "left": null,
       "margin": null,
       "max_height": null,
       "max_width": null,
       "min_height": null,
       "min_width": null,
       "object_fit": null,
       "object_position": null,
       "order": null,
       "overflow": null,
       "padding": null,
       "right": null,
       "top": null,
       "visibility": null,
       "width": null
      }
     },
     "65263503b57b47e186253348e6c71db6": {
      "model_module": "@jupyter-widgets/controls",
      "model_module_version": "2.0.0",
      "model_name": "FloatProgressModel",
      "state": {
       "_dom_classes": [],
       "_model_module": "@jupyter-widgets/controls",
       "_model_module_version": "2.0.0",
       "_model_name": "FloatProgressModel",
       "_view_count": null,
       "_view_module": "@jupyter-widgets/controls",
       "_view_module_version": "2.0.0",
       "_view_name": "ProgressView",
       "bar_style": "success",
       "description": "",
       "description_allow_html": false,
       "layout": "IPY_MODEL_b7839452e4ae4cec8c3534b8c2593be6",
       "max": 271.0,
       "min": 0.0,
       "orientation": "horizontal",
       "style": "IPY_MODEL_4fb95f338cf0421995e137a08d5b8cfd",
       "tabbable": null,
       "tooltip": null,
       "value": 271.0
      }
     },
     "652e6ddc98c94ae7bfc28d01c1f2c143": {
      "model_module": "@jupyter-widgets/base",
      "model_module_version": "2.0.0",
      "model_name": "LayoutModel",
      "state": {
       "_model_module": "@jupyter-widgets/base",
       "_model_module_version": "2.0.0",
       "_model_name": "LayoutModel",
       "_view_count": null,
       "_view_module": "@jupyter-widgets/base",
       "_view_module_version": "2.0.0",
       "_view_name": "LayoutView",
       "align_content": null,
       "align_items": null,
       "align_self": null,
       "border_bottom": null,
       "border_left": null,
       "border_right": null,
       "border_top": null,
       "bottom": null,
       "display": null,
       "flex": null,
       "flex_flow": null,
       "grid_area": null,
       "grid_auto_columns": null,
       "grid_auto_flow": null,
       "grid_auto_rows": null,
       "grid_column": null,
       "grid_gap": null,
       "grid_row": null,
       "grid_template_areas": null,
       "grid_template_columns": null,
       "grid_template_rows": null,
       "height": null,
       "justify_content": null,
       "justify_items": null,
       "left": null,
       "margin": null,
       "max_height": null,
       "max_width": null,
       "min_height": null,
       "min_width": null,
       "object_fit": null,
       "object_position": null,
       "order": null,
       "overflow": null,
       "padding": null,
       "right": null,
       "top": null,
       "visibility": null,
       "width": null
      }
     },
     "69e0e662e4ae4bd2a9fe15088f47acf8": {
      "model_module": "@jupyter-widgets/controls",
      "model_module_version": "2.0.0",
      "model_name": "ProgressStyleModel",
      "state": {
       "_model_module": "@jupyter-widgets/controls",
       "_model_module_version": "2.0.0",
       "_model_name": "ProgressStyleModel",
       "_view_count": null,
       "_view_module": "@jupyter-widgets/base",
       "_view_module_version": "2.0.0",
       "_view_name": "StyleView",
       "bar_color": null,
       "description_width": ""
      }
     },
     "69efc2c242e5471db14119e5e38d1026": {
      "model_module": "@jupyter-widgets/controls",
      "model_module_version": "2.0.0",
      "model_name": "FloatProgressModel",
      "state": {
       "_dom_classes": [],
       "_model_module": "@jupyter-widgets/controls",
       "_model_module_version": "2.0.0",
       "_model_name": "FloatProgressModel",
       "_view_count": null,
       "_view_module": "@jupyter-widgets/controls",
       "_view_module_version": "2.0.0",
       "_view_name": "ProgressView",
       "bar_style": "success",
       "description": "",
       "description_allow_html": false,
       "layout": "IPY_MODEL_61bc76f754624fec8b0bce667a3755d9",
       "max": 1727.0,
       "min": 0.0,
       "orientation": "horizontal",
       "style": "IPY_MODEL_69e0e662e4ae4bd2a9fe15088f47acf8",
       "tabbable": null,
       "tooltip": null,
       "value": 1727.0
      }
     },
     "71cc3e09382b4fb5b5eb34db1852cd0b": {
      "model_module": "@jupyter-widgets/base",
      "model_module_version": "2.0.0",
      "model_name": "LayoutModel",
      "state": {
       "_model_module": "@jupyter-widgets/base",
       "_model_module_version": "2.0.0",
       "_model_name": "LayoutModel",
       "_view_count": null,
       "_view_module": "@jupyter-widgets/base",
       "_view_module_version": "2.0.0",
       "_view_name": "LayoutView",
       "align_content": null,
       "align_items": null,
       "align_self": null,
       "border_bottom": null,
       "border_left": null,
       "border_right": null,
       "border_top": null,
       "bottom": null,
       "display": null,
       "flex": null,
       "flex_flow": null,
       "grid_area": null,
       "grid_auto_columns": null,
       "grid_auto_flow": null,
       "grid_auto_rows": null,
       "grid_column": null,
       "grid_gap": null,
       "grid_row": null,
       "grid_template_areas": null,
       "grid_template_columns": null,
       "grid_template_rows": null,
       "height": null,
       "justify_content": null,
       "justify_items": null,
       "left": null,
       "margin": null,
       "max_height": null,
       "max_width": null,
       "min_height": null,
       "min_width": null,
       "object_fit": null,
       "object_position": null,
       "order": null,
       "overflow": null,
       "padding": null,
       "right": null,
       "top": null,
       "visibility": null,
       "width": null
      }
     },
     "7d1eba072df44ec49abf4aa03185c6f0": {
      "model_module": "@jupyter-widgets/controls",
      "model_module_version": "2.0.0",
      "model_name": "HTMLStyleModel",
      "state": {
       "_model_module": "@jupyter-widgets/controls",
       "_model_module_version": "2.0.0",
       "_model_name": "HTMLStyleModel",
       "_view_count": null,
       "_view_module": "@jupyter-widgets/base",
       "_view_module_version": "2.0.0",
       "_view_name": "StyleView",
       "background": null,
       "description_width": "",
       "font_size": null,
       "text_color": null
      }
     },
     "8339dc4aae614e41946e9ba0d83af79d": {
      "model_module": "@jupyter-widgets/base",
      "model_module_version": "2.0.0",
      "model_name": "LayoutModel",
      "state": {
       "_model_module": "@jupyter-widgets/base",
       "_model_module_version": "2.0.0",
       "_model_name": "LayoutModel",
       "_view_count": null,
       "_view_module": "@jupyter-widgets/base",
       "_view_module_version": "2.0.0",
       "_view_name": "LayoutView",
       "align_content": null,
       "align_items": null,
       "align_self": null,
       "border_bottom": null,
       "border_left": null,
       "border_right": null,
       "border_top": null,
       "bottom": null,
       "display": null,
       "flex": null,
       "flex_flow": null,
       "grid_area": null,
       "grid_auto_columns": null,
       "grid_auto_flow": null,
       "grid_auto_rows": null,
       "grid_column": null,
       "grid_gap": null,
       "grid_row": null,
       "grid_template_areas": null,
       "grid_template_columns": null,
       "grid_template_rows": null,
       "height": null,
       "justify_content": null,
       "justify_items": null,
       "left": null,
       "margin": null,
       "max_height": null,
       "max_width": null,
       "min_height": null,
       "min_width": null,
       "object_fit": null,
       "object_position": null,
       "order": null,
       "overflow": null,
       "padding": null,
       "right": null,
       "top": null,
       "visibility": null,
       "width": null
      }
     },
     "b0f07c7dd7854f4bbf025568b3eda072": {
      "model_module": "@jupyter-widgets/controls",
      "model_module_version": "2.0.0",
      "model_name": "ProgressStyleModel",
      "state": {
       "_model_module": "@jupyter-widgets/controls",
       "_model_module_version": "2.0.0",
       "_model_name": "ProgressStyleModel",
       "_view_count": null,
       "_view_module": "@jupyter-widgets/base",
       "_view_module_version": "2.0.0",
       "_view_name": "StyleView",
       "bar_color": null,
       "description_width": ""
      }
     },
     "b5424a32dac94be2be6e1627e8c24ff0": {
      "model_module": "@jupyter-widgets/controls",
      "model_module_version": "2.0.0",
      "model_name": "HBoxModel",
      "state": {
       "_dom_classes": [],
       "_model_module": "@jupyter-widgets/controls",
       "_model_module_version": "2.0.0",
       "_model_name": "HBoxModel",
       "_view_count": null,
       "_view_module": "@jupyter-widgets/controls",
       "_view_module_version": "2.0.0",
       "_view_name": "HBoxView",
       "box_style": "",
       "children": [
        "IPY_MODEL_46f849ddfaa6474c9fa6e00b25d86217",
        "IPY_MODEL_69efc2c242e5471db14119e5e38d1026",
        "IPY_MODEL_0e47539a47b347b0b5952c1c65ddb6b8"
       ],
       "layout": "IPY_MODEL_e2b4c20eb97d42988d387da237492865",
       "tabbable": null,
       "tooltip": null
      }
     },
     "b66272228761495d8daa3fb14def6e27": {
      "model_module": "@jupyter-widgets/controls",
      "model_module_version": "2.0.0",
      "model_name": "HTMLModel",
      "state": {
       "_dom_classes": [],
       "_model_module": "@jupyter-widgets/controls",
       "_model_module_version": "2.0.0",
       "_model_name": "HTMLModel",
       "_view_count": null,
       "_view_module": "@jupyter-widgets/controls",
       "_view_module_version": "2.0.0",
       "_view_name": "HTMLView",
       "description": "",
       "description_allow_html": false,
       "layout": "IPY_MODEL_158ebf6359d44f578f58964e5bd43985",
       "placeholder": "​",
       "style": "IPY_MODEL_7d1eba072df44ec49abf4aa03185c6f0",
       "tabbable": null,
       "tooltip": null,
       "value": " 109M/109M [00:00&lt;00:00, 207MB/s]"
      }
     },
     "b7839452e4ae4cec8c3534b8c2593be6": {
      "model_module": "@jupyter-widgets/base",
      "model_module_version": "2.0.0",
      "model_name": "LayoutModel",
      "state": {
       "_model_module": "@jupyter-widgets/base",
       "_model_module_version": "2.0.0",
       "_model_name": "LayoutModel",
       "_view_count": null,
       "_view_module": "@jupyter-widgets/base",
       "_view_module_version": "2.0.0",
       "_view_name": "LayoutView",
       "align_content": null,
       "align_items": null,
       "align_self": null,
       "border_bottom": null,
       "border_left": null,
       "border_right": null,
       "border_top": null,
       "bottom": null,
       "display": null,
       "flex": null,
       "flex_flow": null,
       "grid_area": null,
       "grid_auto_columns": null,
       "grid_auto_flow": null,
       "grid_auto_rows": null,
       "grid_column": null,
       "grid_gap": null,
       "grid_row": null,
       "grid_template_areas": null,
       "grid_template_columns": null,
       "grid_template_rows": null,
       "height": null,
       "justify_content": null,
       "justify_items": null,
       "left": null,
       "margin": null,
       "max_height": null,
       "max_width": null,
       "min_height": null,
       "min_width": null,
       "object_fit": null,
       "object_position": null,
       "order": null,
       "overflow": null,
       "padding": null,
       "right": null,
       "top": null,
       "visibility": null,
       "width": null
      }
     },
     "b8d4319cd86b48ccbb82b9c8e37928e5": {
      "model_module": "@jupyter-widgets/controls",
      "model_module_version": "2.0.0",
      "model_name": "HTMLModel",
      "state": {
       "_dom_classes": [],
       "_model_module": "@jupyter-widgets/controls",
       "_model_module_version": "2.0.0",
       "_model_name": "HTMLModel",
       "_view_count": null,
       "_view_module": "@jupyter-widgets/controls",
       "_view_module_version": "2.0.0",
       "_view_name": "HTMLView",
       "description": "",
       "description_allow_html": false,
       "layout": "IPY_MODEL_8339dc4aae614e41946e9ba0d83af79d",
       "placeholder": "​",
       "style": "IPY_MODEL_2528850614c942009b3867e7f0b4996a",
       "tabbable": null,
       "tooltip": null,
       "value": "model.safetensors: 100%"
      }
     },
     "bafbf6f7fb584d8aab4fe6bdd050f47e": {
      "model_module": "@jupyter-widgets/controls",
      "model_module_version": "2.0.0",
      "model_name": "HBoxModel",
      "state": {
       "_dom_classes": [],
       "_model_module": "@jupyter-widgets/controls",
       "_model_module_version": "2.0.0",
       "_model_name": "HBoxModel",
       "_view_count": null,
       "_view_module": "@jupyter-widgets/controls",
       "_view_module_version": "2.0.0",
       "_view_name": "HBoxView",
       "box_style": "",
       "children": [
        "IPY_MODEL_b8d4319cd86b48ccbb82b9c8e37928e5",
        "IPY_MODEL_29dd1e88842a487695157c4c7cff2567",
        "IPY_MODEL_b66272228761495d8daa3fb14def6e27"
       ],
       "layout": "IPY_MODEL_d189a3f0f1294b47983a15e5f195f7bc",
       "tabbable": null,
       "tooltip": null
      }
     },
     "bd581bbf044e4c45a15a55a39a06a7f5": {
      "model_module": "@jupyter-widgets/controls",
      "model_module_version": "2.0.0",
      "model_name": "HTMLStyleModel",
      "state": {
       "_model_module": "@jupyter-widgets/controls",
       "_model_module_version": "2.0.0",
       "_model_name": "HTMLStyleModel",
       "_view_count": null,
       "_view_module": "@jupyter-widgets/base",
       "_view_module_version": "2.0.0",
       "_view_name": "StyleView",
       "background": null,
       "description_width": "",
       "font_size": null,
       "text_color": null
      }
     },
     "d189a3f0f1294b47983a15e5f195f7bc": {
      "model_module": "@jupyter-widgets/base",
      "model_module_version": "2.0.0",
      "model_name": "LayoutModel",
      "state": {
       "_model_module": "@jupyter-widgets/base",
       "_model_module_version": "2.0.0",
       "_model_name": "LayoutModel",
       "_view_count": null,
       "_view_module": "@jupyter-widgets/base",
       "_view_module_version": "2.0.0",
       "_view_name": "LayoutView",
       "align_content": null,
       "align_items": null,
       "align_self": null,
       "border_bottom": null,
       "border_left": null,
       "border_right": null,
       "border_top": null,
       "bottom": null,
       "display": null,
       "flex": null,
       "flex_flow": null,
       "grid_area": null,
       "grid_auto_columns": null,
       "grid_auto_flow": null,
       "grid_auto_rows": null,
       "grid_column": null,
       "grid_gap": null,
       "grid_row": null,
       "grid_template_areas": null,
       "grid_template_columns": null,
       "grid_template_rows": null,
       "height": null,
       "justify_content": null,
       "justify_items": null,
       "left": null,
       "margin": null,
       "max_height": null,
       "max_width": null,
       "min_height": null,
       "min_width": null,
       "object_fit": null,
       "object_position": null,
       "order": null,
       "overflow": null,
       "padding": null,
       "right": null,
       "top": null,
       "visibility": null,
       "width": null
      }
     },
     "e2b4c20eb97d42988d387da237492865": {
      "model_module": "@jupyter-widgets/base",
      "model_module_version": "2.0.0",
      "model_name": "LayoutModel",
      "state": {
       "_model_module": "@jupyter-widgets/base",
       "_model_module_version": "2.0.0",
       "_model_name": "LayoutModel",
       "_view_count": null,
       "_view_module": "@jupyter-widgets/base",
       "_view_module_version": "2.0.0",
       "_view_name": "LayoutView",
       "align_content": null,
       "align_items": null,
       "align_self": null,
       "border_bottom": null,
       "border_left": null,
       "border_right": null,
       "border_top": null,
       "bottom": null,
       "display": null,
       "flex": null,
       "flex_flow": null,
       "grid_area": null,
       "grid_auto_columns": null,
       "grid_auto_flow": null,
       "grid_auto_rows": null,
       "grid_column": null,
       "grid_gap": null,
       "grid_row": null,
       "grid_template_areas": null,
       "grid_template_columns": null,
       "grid_template_rows": null,
       "height": null,
       "justify_content": null,
       "justify_items": null,
       "left": null,
       "margin": null,
       "max_height": null,
       "max_width": null,
       "min_height": null,
       "min_width": null,
       "object_fit": null,
       "object_position": null,
       "order": null,
       "overflow": null,
       "padding": null,
       "right": null,
       "top": null,
       "visibility": null,
       "width": null
      }
     },
     "e8e4ee1c7656426f895d9e6bcdefac78": {
      "model_module": "@jupyter-widgets/controls",
      "model_module_version": "2.0.0",
      "model_name": "HTMLStyleModel",
      "state": {
       "_model_module": "@jupyter-widgets/controls",
       "_model_module_version": "2.0.0",
       "_model_name": "HTMLStyleModel",
       "_view_count": null,
       "_view_module": "@jupyter-widgets/base",
       "_view_module_version": "2.0.0",
       "_view_name": "StyleView",
       "background": null,
       "description_width": "",
       "font_size": null,
       "text_color": null
      }
     },
     "f31ab88ea0ba4035a2059c36999935c3": {
      "model_module": "@jupyter-widgets/controls",
      "model_module_version": "2.0.0",
      "model_name": "HTMLModel",
      "state": {
       "_dom_classes": [],
       "_model_module": "@jupyter-widgets/controls",
       "_model_module_version": "2.0.0",
       "_model_name": "HTMLModel",
       "_view_count": null,
       "_view_module": "@jupyter-widgets/controls",
       "_view_module_version": "2.0.0",
       "_view_name": "HTMLView",
       "description": "",
       "description_allow_html": false,
       "layout": "IPY_MODEL_71cc3e09382b4fb5b5eb34db1852cd0b",
       "placeholder": "​",
       "style": "IPY_MODEL_bd581bbf044e4c45a15a55a39a06a7f5",
       "tabbable": null,
       "tooltip": null,
       "value": "preprocessor_config.json: 100%"
      }
     },
     "fceb76570d4f47a1a80fdb4f2b41d8db": {
      "model_module": "@jupyter-widgets/base",
      "model_module_version": "2.0.0",
      "model_name": "LayoutModel",
      "state": {
       "_model_module": "@jupyter-widgets/base",
       "_model_module_version": "2.0.0",
       "_model_name": "LayoutModel",
       "_view_count": null,
       "_view_module": "@jupyter-widgets/base",
       "_view_module_version": "2.0.0",
       "_view_name": "LayoutView",
       "align_content": null,
       "align_items": null,
       "align_self": null,
       "border_bottom": null,
       "border_left": null,
       "border_right": null,
       "border_top": null,
       "bottom": null,
       "display": null,
       "flex": null,
       "flex_flow": null,
       "grid_area": null,
       "grid_auto_columns": null,
       "grid_auto_flow": null,
       "grid_auto_rows": null,
       "grid_column": null,
       "grid_gap": null,
       "grid_row": null,
       "grid_template_areas": null,
       "grid_template_columns": null,
       "grid_template_rows": null,
       "height": null,
       "justify_content": null,
       "justify_items": null,
       "left": null,
       "margin": null,
       "max_height": null,
       "max_width": null,
       "min_height": null,
       "min_width": null,
       "object_fit": null,
       "object_position": null,
       "order": null,
       "overflow": null,
       "padding": null,
       "right": null,
       "top": null,
       "visibility": null,
       "width": null
      }
     }
    },
    "version_major": 2,
    "version_minor": 0
   }
  }
 },
 "nbformat": 4,
 "nbformat_minor": 5
}
