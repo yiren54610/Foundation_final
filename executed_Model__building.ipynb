{
 "cells": [
  {
   "cell_type": "code",
   "execution_count": 1,
   "id": "1db22fde-6df6-4d41-b5c0-d7d35b457395",
   "metadata": {
    "execution": {
     "iopub.execute_input": "2024-12-15T03:18:58.139114Z",
     "iopub.status.busy": "2024-12-15T03:18:58.138921Z",
     "iopub.status.idle": "2024-12-15T03:19:04.626391Z",
     "shell.execute_reply": "2024-12-15T03:19:04.625698Z"
    }
   },
   "outputs": [],
   "source": [
    "from transformers import pipeline\n",
    "from PIL import Image\n",
    "import numpy as np\n",
    "import pandas as pd\n",
    "import time\n",
    "from sklearn.cluster import KMeans\n",
    "import matplotlib.pyplot as plt"
   ]
  },
  {
   "cell_type": "code",
   "execution_count": 2,
   "id": "d347f739-6fb4-4665-b051-f778d8663b80",
   "metadata": {
    "execution": {
     "iopub.execute_input": "2024-12-15T03:19:04.628874Z",
     "iopub.status.busy": "2024-12-15T03:19:04.628579Z",
     "iopub.status.idle": "2024-12-15T03:19:05.491153Z",
     "shell.execute_reply": "2024-12-15T03:19:05.490612Z"
    }
   },
   "outputs": [
    {
     "data": {
      "application/vnd.jupyter.widget-view+json": {
       "model_id": "577dca5d6c5f4827a4cf97833b1a5092",
       "version_major": 2,
       "version_minor": 0
      },
      "text/plain": [
       "config.json:   0%|          | 0.00/1.73k [00:00<?, ?B/s]"
      ]
     },
     "metadata": {},
     "output_type": "display_data"
    },
    {
     "data": {
      "application/vnd.jupyter.widget-view+json": {
       "model_id": "cdda5385148c4ea79f020f8072599ac5",
       "version_major": 2,
       "version_minor": 0
      },
      "text/plain": [
       "model.safetensors:   0%|          | 0.00/109M [00:00<?, ?B/s]"
      ]
     },
     "metadata": {},
     "output_type": "display_data"
    },
    {
     "data": {
      "application/vnd.jupyter.widget-view+json": {
       "model_id": "38000fc629694eaa9fa68dd8b38fd2c7",
       "version_major": 2,
       "version_minor": 0
      },
      "text/plain": [
       "preprocessor_config.json:   0%|          | 0.00/271 [00:00<?, ?B/s]"
      ]
     },
     "metadata": {},
     "output_type": "display_data"
    },
    {
     "name": "stderr",
     "output_type": "stream",
     "text": [
      "Device set to use cpu\n"
     ]
    }
   ],
   "source": [
    "segmenter = pipeline(\"image-segmentation\", model=\"mattmdjaga/segformer_b2_clothes\")"
   ]
  },
  {
   "cell_type": "markdown",
   "id": "6d30487b-25ed-4b65-8688-13b9ecef45fa",
   "metadata": {},
   "source": [
    "# Set up functions to Segment Clothes"
   ]
  },
  {
   "cell_type": "code",
   "execution_count": 3,
   "id": "a295db4a-3daa-4cab-a91b-06893145131a",
   "metadata": {
    "execution": {
     "iopub.execute_input": "2024-12-15T03:19:05.493209Z",
     "iopub.status.busy": "2024-12-15T03:19:05.493007Z",
     "iopub.status.idle": "2024-12-15T03:19:05.497425Z",
     "shell.execute_reply": "2024-12-15T03:19:05.496903Z"
    }
   },
   "outputs": [],
   "source": [
    "# Initialize segmentation pipeline\n",
    "def segment_clothing(img, clothes= [\"Upper-clothes\", \"Pants\", \"Belt\"]):\n",
    "    # Segment image\n",
    "    segments = segmenter(img)\n",
    "\n",
    "    # Create list of masks\n",
    "    mask_list = []\n",
    "    for s in segments:\n",
    "        if(s['label'] in clothes):\n",
    "            mask_list.append(s['mask'])\n",
    "\n",
    "\n",
    "    # Paste all masks on top of eachother \n",
    "    final_mask = np.array(mask_list[0])\n",
    "    for mask in mask_list:\n",
    "        current_mask = np.array(mask)\n",
    "        final_mask = final_mask + current_mask\n",
    "            \n",
    "    # Convert final mask from np array to PIL image\n",
    "    final_mask = Image.fromarray(final_mask)\n",
    "\n",
    "    # Apply mask to original image\n",
    "    img.putalpha(final_mask)\n",
    "\n",
    "    # display the image\n",
    "    return img"
   ]
  },
  {
   "cell_type": "code",
   "execution_count": 4,
   "id": "9df19002-5f75-4426-82ec-f5561d25de64",
   "metadata": {
    "execution": {
     "iopub.execute_input": "2024-12-15T03:19:05.499468Z",
     "iopub.status.busy": "2024-12-15T03:19:05.499089Z",
     "iopub.status.idle": "2024-12-15T03:19:05.504375Z",
     "shell.execute_reply": "2024-12-15T03:19:05.503731Z"
    }
   },
   "outputs": [],
   "source": [
    "def batch_segment_clothing(img_dir, out_dir, clothes= [\"Hat\", \"Upper-clothes\", \"Skirt\", \"Pants\", \"Dress\", \"Belt\", \"Left-shoe\", \"Right-shoe\", \"Scarf\"]):\n",
    "    # Create output directory if it doesn't exist\n",
    "    if not os.path.exists(out_dir):\n",
    "        os.makedirs(out_dir)\n",
    "\n",
    "    # Iterate through each file in the input directory\n",
    "    for filename in os.listdir(img_dir):\n",
    "        if filename.endswith(\".jpg\") or filename.endswith(\".JPG\") or filename.endswith(\".png\") or filename.endswith(\".PNG\"):\n",
    "            try:\n",
    "                # Load image\n",
    "                img_path = os.path.join(img_dir, filename)\n",
    "                img = Image.open(img_path).convert(\"RGBA\")\n",
    "\n",
    "                # Segment clothing\n",
    "                segmented_img = segment_clothing(img, clothes)\n",
    "\n",
    "                # Save segmented image to output directory as PNG\n",
    "                out_path = os.path.join(out_dir, filename.split('.')[0] + \".png\")\n",
    "                segmented_img.save(out_path)\n",
    "\n",
    "                print(f\"Segmented {filename} successfully.\")\n",
    "\n",
    "            except Exception as e:\n",
    "                print(f\"Error processing {filename}: {e}\")\n",
    "\n",
    "        else:\n",
    "            print(f\"Skipping {filename} as it is not a supported image file.\")"
   ]
  },
  {
   "cell_type": "markdown",
   "id": "d505f3c1-2c48-4aa2-8b54-8d100c67a0e2",
   "metadata": {},
   "source": [
    "# scrape website and create csv file"
   ]
  },
  {
   "cell_type": "code",
   "execution_count": 5,
   "id": "d5347dc7-3acb-45a0-a660-1373d10d79e2",
   "metadata": {
    "execution": {
     "iopub.execute_input": "2024-12-15T03:19:05.506422Z",
     "iopub.status.busy": "2024-12-15T03:19:05.506063Z",
     "iopub.status.idle": "2024-12-15T03:19:06.411736Z",
     "shell.execute_reply": "2024-12-15T03:19:06.410935Z"
    }
   },
   "outputs": [],
   "source": [
    "from playwright.async_api import async_playwright\n",
    "\n",
    "playwright = await async_playwright().start()\n",
    "\n",
    "browser = await playwright.chromium.launch(headless=False)\n",
    "\n",
    "page = await browser.new_page()"
   ]
  },
  {
   "cell_type": "code",
   "execution_count": 6,
   "id": "bdce2803-4160-423a-82d1-e5c5b26dcc58",
   "metadata": {
    "execution": {
     "iopub.execute_input": "2024-12-15T03:19:06.414862Z",
     "iopub.status.busy": "2024-12-15T03:19:06.414587Z",
     "iopub.status.idle": "2024-12-15T03:19:06.420928Z",
     "shell.execute_reply": "2024-12-15T03:19:06.420081Z"
    }
   },
   "outputs": [],
   "source": [
    "async def scroll_to_bottom(page):\n",
    "    \n",
    "    await page.evaluate(\"window.scrollTo(0, document.body.scrollHeight);\")"
   ]
  },
  {
   "cell_type": "markdown",
   "id": "8a5d531e-9342-41b4-9927-2e27b2af12b3",
   "metadata": {},
   "source": [
    "##### Ralph_Lauren"
   ]
  },
  {
   "cell_type": "code",
   "execution_count": 7,
   "id": "764df06e-4ca1-4f75-9490-d4ab295ff89b",
   "metadata": {
    "execution": {
     "iopub.execute_input": "2024-12-15T03:19:06.423891Z",
     "iopub.status.busy": "2024-12-15T03:19:06.423336Z",
     "iopub.status.idle": "2024-12-15T03:19:09.248772Z",
     "shell.execute_reply": "2024-12-15T03:19:09.248009Z"
    }
   },
   "outputs": [
    {
     "data": {
      "text/plain": [
       "<Response url='https://www.ralphlauren.com/women-clothing-shop-new-arrivals' request=<Request url='https://www.ralphlauren.com/women-clothing-shop-new-arrivals' method='GET'>>"
      ]
     },
     "execution_count": 7,
     "metadata": {},
     "output_type": "execute_result"
    }
   ],
   "source": [
    "RL_url = \"https://www.ralphlauren.com/women-clothing-shop-new-arrivals\" \n",
    "await page.goto(RL_url)"
   ]
  },
  {
   "cell_type": "code",
   "execution_count": 8,
   "id": "17ec1c4b-bacc-4dea-a11c-1b4f397452f7",
   "metadata": {
    "execution": {
     "iopub.execute_input": "2024-12-15T03:19:09.251186Z",
     "iopub.status.busy": "2024-12-15T03:19:09.250872Z",
     "iopub.status.idle": "2024-12-15T03:19:11.163940Z",
     "shell.execute_reply": "2024-12-15T03:19:11.162122Z"
    }
   },
   "outputs": [],
   "source": [
    "await page.wait_for_selector('button .ui-button-icon.ui-icon.ui-icon-closethick', state='visible', timeout=30000)\n",
    "await page.click('button .ui-button-icon.ui-icon.ui-icon-closethick')"
   ]
  },
  {
   "cell_type": "code",
   "execution_count": 9,
   "id": "c7cabe7c-91f8-42f2-8990-32c7febecc62",
   "metadata": {
    "execution": {
     "iopub.execute_input": "2024-12-15T03:19:11.168586Z",
     "iopub.status.busy": "2024-12-15T03:19:11.168300Z",
     "iopub.status.idle": "2024-12-15T03:19:11.233790Z",
     "shell.execute_reply": "2024-12-15T03:19:11.232888Z"
    }
   },
   "outputs": [],
   "source": [
    "RL = []\n",
    "try:\n",
    "    rl = await page.eval_on_selector_all(\n",
    "        \"[srcset]\",\n",
    "        \"elements => elements.map(el => el.getAttribute('srcset'))\"\n",
    "    )\n",
    "    RL.extend(rl)\n",
    "\n",
    "except:\n",
    "    print('done')"
   ]
  },
  {
   "cell_type": "markdown",
   "id": "a5913728-3b4e-494b-a47a-d8892956a5b4",
   "metadata": {},
   "source": [
    "#### Uniqlo"
   ]
  },
  {
   "cell_type": "code",
   "execution_count": 10,
   "id": "e419f092-6a17-46d8-98e9-a2fe70496b72",
   "metadata": {
    "execution": {
     "iopub.execute_input": "2024-12-15T03:19:11.236435Z",
     "iopub.status.busy": "2024-12-15T03:19:11.236215Z",
     "iopub.status.idle": "2024-12-15T03:19:16.391124Z",
     "shell.execute_reply": "2024-12-15T03:19:16.390481Z"
    }
   },
   "outputs": [],
   "source": [
    "uniqlo='https://www.uniqlo.com/us/en/feature/new/women'\n",
    "await page.goto(uniqlo)\n",
    "await scroll_to_bottom(page)\n",
    "await page.wait_for_timeout(1000)\n",
    "unq= await page.eval_on_selector_all(\n",
    "    \"div.fr-ec-product-tile-resize-wrapper img.fr-ec-image__img\",\n",
    "    \"elements => elements.map(e => e.src)\"\n",
    ")"
   ]
  },
  {
   "cell_type": "markdown",
   "id": "94e8c223-d90c-4ea9-b829-adf5d5e9dfcd",
   "metadata": {},
   "source": [
    "### Zara"
   ]
  },
  {
   "cell_type": "code",
   "execution_count": 11,
   "id": "f7505e77-1036-4696-9db5-b6bb10d435ce",
   "metadata": {
    "execution": {
     "iopub.execute_input": "2024-12-15T03:19:16.393414Z",
     "iopub.status.busy": "2024-12-15T03:19:16.393221Z",
     "iopub.status.idle": "2024-12-15T03:19:31.103692Z",
     "shell.execute_reply": "2024-12-15T03:19:31.103101Z"
    }
   },
   "outputs": [],
   "source": [
    "Zara = \"https://www.zara.com/us/en/woman-best-sellers-l5912.html?v1=2491343&regionGroupId=41\"\n",
    "await page.goto(Zara)\n",
    "await page.locator(\"body\").wait_for()\n",
    "last_height = await page.evaluate(\"document.body.scrollHeight\")\n",
    "try:\n",
    "    while True:\n",
    "        await page.evaluate(\"window.scrollTo({left: 0, top: document.body.scrollHeight, behavior: 'smooth'})\")\n",
    "        await page.wait_for_load_state(\"networkidle\", timeout=5000)\n",
    "        await page.wait_for_timeout(2000)\n",
    "        new_height = await page.evaluate(\"document.body.scrollHeight\")\n",
    "        if new_height == last_height:\n",
    "            break\n",
    "        last_height = new_height\n",
    "except:\n",
    "    print('done')"
   ]
  },
  {
   "cell_type": "code",
   "execution_count": 12,
   "id": "0ea27749-f859-45cf-972d-4e4eeadb4a4a",
   "metadata": {
    "execution": {
     "iopub.execute_input": "2024-12-15T03:19:31.106092Z",
     "iopub.status.busy": "2024-12-15T03:19:31.105730Z",
     "iopub.status.idle": "2024-12-15T03:19:31.125122Z",
     "shell.execute_reply": "2024-12-15T03:19:31.124462Z"
    }
   },
   "outputs": [],
   "source": [
    "zara = await page.eval_on_selector_all(\n",
    "    'img[data-qa-qualifier=\"media-image\"]',\n",
    "            \"elements => elements.map(e => e.src)\"\n",
    "        )\n",
    "zara = [e for e in zara if 'background' not in e]"
   ]
  },
  {
   "cell_type": "markdown",
   "id": "63c9765a-befe-4873-ac8f-54776e161126",
   "metadata": {},
   "source": [
    "### HM"
   ]
  },
  {
   "cell_type": "code",
   "execution_count": 13,
   "id": "7a35aa12-fc44-4122-adac-5559dae86bb2",
   "metadata": {
    "execution": {
     "iopub.execute_input": "2024-12-15T03:19:31.127396Z",
     "iopub.status.busy": "2024-12-15T03:19:31.126997Z",
     "iopub.status.idle": "2024-12-15T03:19:32.546972Z",
     "shell.execute_reply": "2024-12-15T03:19:32.546237Z"
    }
   },
   "outputs": [
    {
     "data": {
      "text/plain": [
       "<Response url='https://www2.hm.com/en_us/women/new-arrivals/view-all.html' request=<Request url='https://www2.hm.com/en_us/women/new-arrivals/view-all.html' method='GET'>>"
      ]
     },
     "execution_count": 13,
     "metadata": {},
     "output_type": "execute_result"
    }
   ],
   "source": [
    "hm = \"https://www2.hm.com/en_us/women/new-arrivals/view-all.html\"\n",
    "await page.goto(hm)"
   ]
  },
  {
   "cell_type": "code",
   "execution_count": 14,
   "id": "a3d15a0f-bd4a-4720-9c89-9d79fc26c9a4",
   "metadata": {
    "execution": {
     "iopub.execute_input": "2024-12-15T03:19:32.550152Z",
     "iopub.status.busy": "2024-12-15T03:19:32.549729Z",
     "iopub.status.idle": "2024-12-15T03:19:50.134413Z",
     "shell.execute_reply": "2024-12-15T03:19:50.133687Z"
    }
   },
   "outputs": [
    {
     "name": "stdout",
     "output_type": "stream",
     "text": [
      "done\n"
     ]
    }
   ],
   "source": [
    "all_links = []\n",
    "try:\n",
    "    while True:\n",
    "            hm = await page.eval_on_selector_all(\n",
    "                'img[imagetype=\"PRODUCT_IMAGE\"]',\n",
    "                \"elements => elements.map(e => e.srcset)\"\n",
    "            )\n",
    "            all_links.extend(hm)\n",
    "    \n",
    "            next_button = await page.query_selector('button[data-elid=\"pagination-hybrid-button\"]')\n",
    "            if next_button:\n",
    "                await next_button.click(timeout=6000)\n",
    "            else:\n",
    "                break\n",
    "except:\n",
    "    print('done')"
   ]
  },
  {
   "cell_type": "code",
   "execution_count": 15,
   "id": "3cdd837e-4058-420c-afdf-93ed5bb9d599",
   "metadata": {
    "execution": {
     "iopub.execute_input": "2024-12-15T03:19:50.136954Z",
     "iopub.status.busy": "2024-12-15T03:19:50.136414Z",
     "iopub.status.idle": "2024-12-15T03:19:50.140986Z",
     "shell.execute_reply": "2024-12-15T03:19:50.140326Z"
    }
   },
   "outputs": [],
   "source": [
    "hm = [h.split(', ')[-1] for h in all_links if len(h)>10]\n",
    "hm = [h.split(' ')[0] for h in hm]"
   ]
  },
  {
   "cell_type": "markdown",
   "id": "2a1b32ec-3fc4-42fb-897a-e05111173292",
   "metadata": {},
   "source": [
    "### Forever21"
   ]
  },
  {
   "cell_type": "markdown",
   "id": "8e19ea2e-6ea7-4ec5-bba6-ca604afc9187",
   "metadata": {},
   "source": [
    "## Make a dataframe"
   ]
  },
  {
   "cell_type": "code",
   "execution_count": 16,
   "id": "65973174-d39f-44c0-a84c-ddaa295b7e80",
   "metadata": {
    "execution": {
     "iopub.execute_input": "2024-12-15T03:19:50.143403Z",
     "iopub.status.busy": "2024-12-15T03:19:50.142952Z",
     "iopub.status.idle": "2024-12-15T03:19:50.146567Z",
     "shell.execute_reply": "2024-12-15T03:19:50.145984Z"
    }
   },
   "outputs": [],
   "source": [
    "links=[]\n",
    "d = pd.DataFrame({'ExistingColumn': range(100)})"
   ]
  },
  {
   "cell_type": "code",
   "execution_count": 17,
   "id": "51d1b687-ad93-4de6-8048-abd63e6f59cf",
   "metadata": {
    "execution": {
     "iopub.execute_input": "2024-12-15T03:19:50.148718Z",
     "iopub.status.busy": "2024-12-15T03:19:50.148207Z",
     "iopub.status.idle": "2024-12-15T03:19:50.152050Z",
     "shell.execute_reply": "2024-12-15T03:19:50.151284Z"
    }
   },
   "outputs": [],
   "source": [
    "def adjust_length(values, target_length):\n",
    "    if len(values) < target_length:\n",
    "        return values + ['N/A'] * (target_length - len(values))\n",
    "    else:\n",
    "        return values[:target_length]"
   ]
  },
  {
   "cell_type": "code",
   "execution_count": 18,
   "id": "3f8ee901-7fef-4d12-9f43-aaeb26560186",
   "metadata": {
    "execution": {
     "iopub.execute_input": "2024-12-15T03:19:50.154170Z",
     "iopub.status.busy": "2024-12-15T03:19:50.153789Z",
     "iopub.status.idle": "2024-12-15T03:19:50.159128Z",
     "shell.execute_reply": "2024-12-15T03:19:50.158541Z"
    }
   },
   "outputs": [],
   "source": [
    "rl_extended = adjust_length(RL, len(d))\n",
    "unq_extended = adjust_length(unq, len(d))\n",
    "zara_extended = adjust_length(zara, len(d))\n",
    "hm_extended = adjust_length(hm, len(d))\n",
    "\n",
    "d['Ralph_Lauren'] = rl_extended\n",
    "d['Uniqlo'] = unq_extended\n",
    "d['Zara'] = zara_extended\n",
    "d['HM'] = hm_extended\n",
    "\n",
    "links.append(d)"
   ]
  },
  {
   "cell_type": "code",
   "execution_count": 19,
   "id": "769088f5-5ac7-4580-987c-632dc47da2c0",
   "metadata": {
    "execution": {
     "iopub.execute_input": "2024-12-15T03:19:50.161160Z",
     "iopub.status.busy": "2024-12-15T03:19:50.160956Z",
     "iopub.status.idle": "2024-12-15T03:19:50.167318Z",
     "shell.execute_reply": "2024-12-15T03:19:50.166634Z"
    }
   },
   "outputs": [],
   "source": [
    "d.drop(columns='ExistingColumn', errors='ignore', inplace=True)\n",
    "d.to_csv('Image_Sources.csv',index=False)"
   ]
  },
  {
   "cell_type": "code",
   "execution_count": 20,
   "id": "24200ecf-d220-4309-8b16-5e894e614c91",
   "metadata": {
    "execution": {
     "iopub.execute_input": "2024-12-15T03:19:50.169666Z",
     "iopub.status.busy": "2024-12-15T03:19:50.169150Z",
     "iopub.status.idle": "2024-12-15T03:19:50.178806Z",
     "shell.execute_reply": "2024-12-15T03:19:50.178086Z"
    }
   },
   "outputs": [
    {
     "data": {
      "text/html": [
       "<div>\n",
       "<style scoped>\n",
       "    .dataframe tbody tr th:only-of-type {\n",
       "        vertical-align: middle;\n",
       "    }\n",
       "\n",
       "    .dataframe tbody tr th {\n",
       "        vertical-align: top;\n",
       "    }\n",
       "\n",
       "    .dataframe thead th {\n",
       "        text-align: right;\n",
       "    }\n",
       "</style>\n",
       "<table border=\"1\" class=\"dataframe\">\n",
       "  <thead>\n",
       "    <tr style=\"text-align: right;\">\n",
       "      <th></th>\n",
       "      <th>Ralph_Lauren</th>\n",
       "      <th>Uniqlo</th>\n",
       "      <th>Zara</th>\n",
       "      <th>HM</th>\n",
       "    </tr>\n",
       "  </thead>\n",
       "  <tbody>\n",
       "    <tr>\n",
       "      <th>0</th>\n",
       "      <td>https://dtcralphlauren.scene7.com/is/image/Pol...</td>\n",
       "      <td>https://image.uniqlo.com/UQ/ST3/us/imagesgoods...</td>\n",
       "      <td>https://static.zara.net/assets/public/a992/b5d...</td>\n",
       "      <td>https://image.hm.com/assets/hm/03/33/03332fb88...</td>\n",
       "    </tr>\n",
       "    <tr>\n",
       "      <th>1</th>\n",
       "      <td>https://dtcralphlauren.scene7.com/is/image/Pol...</td>\n",
       "      <td>https://image.uniqlo.com/UQ/ST3/us/imagesgoods...</td>\n",
       "      <td>https://static.zara.net/assets/public/7683/722...</td>\n",
       "      <td>https://image.hm.com/assets/hm/ec/ec/ecec283c8...</td>\n",
       "    </tr>\n",
       "    <tr>\n",
       "      <th>2</th>\n",
       "      <td>https://dtcralphlauren.scene7.com/is/image/Pol...</td>\n",
       "      <td>https://image.uniqlo.com/UQ/ST3/WesternCommon/...</td>\n",
       "      <td>https://static.zara.net/assets/public/3649/ef4...</td>\n",
       "      <td>https://image.hm.com/assets/hm/a7/5c/a75ce2f3c...</td>\n",
       "    </tr>\n",
       "    <tr>\n",
       "      <th>3</th>\n",
       "      <td>https://dtcralphlauren.scene7.com/is/image/Pol...</td>\n",
       "      <td>https://image.uniqlo.com/UQ/ST3/us/imagesgoods...</td>\n",
       "      <td>https://static.zara.net/assets/public/c58b/89f...</td>\n",
       "      <td>https://image.hm.com/assets/hm/8d/8e/8d8eaf0d4...</td>\n",
       "    </tr>\n",
       "    <tr>\n",
       "      <th>4</th>\n",
       "      <td>https://dtcralphlauren.scene7.com/is/image/Pol...</td>\n",
       "      <td>https://image.uniqlo.com/UQ/ST3/us/imagesgoods...</td>\n",
       "      <td>https://static.zara.net/assets/public/9291/eaf...</td>\n",
       "      <td>https://image.hm.com/assets/hm/4d/b0/4db0c2469...</td>\n",
       "    </tr>\n",
       "  </tbody>\n",
       "</table>\n",
       "</div>"
      ],
      "text/plain": [
       "                                        Ralph_Lauren  \\\n",
       "0  https://dtcralphlauren.scene7.com/is/image/Pol...   \n",
       "1  https://dtcralphlauren.scene7.com/is/image/Pol...   \n",
       "2  https://dtcralphlauren.scene7.com/is/image/Pol...   \n",
       "3  https://dtcralphlauren.scene7.com/is/image/Pol...   \n",
       "4  https://dtcralphlauren.scene7.com/is/image/Pol...   \n",
       "\n",
       "                                              Uniqlo  \\\n",
       "0  https://image.uniqlo.com/UQ/ST3/us/imagesgoods...   \n",
       "1  https://image.uniqlo.com/UQ/ST3/us/imagesgoods...   \n",
       "2  https://image.uniqlo.com/UQ/ST3/WesternCommon/...   \n",
       "3  https://image.uniqlo.com/UQ/ST3/us/imagesgoods...   \n",
       "4  https://image.uniqlo.com/UQ/ST3/us/imagesgoods...   \n",
       "\n",
       "                                                Zara  \\\n",
       "0  https://static.zara.net/assets/public/a992/b5d...   \n",
       "1  https://static.zara.net/assets/public/7683/722...   \n",
       "2  https://static.zara.net/assets/public/3649/ef4...   \n",
       "3  https://static.zara.net/assets/public/c58b/89f...   \n",
       "4  https://static.zara.net/assets/public/9291/eaf...   \n",
       "\n",
       "                                                  HM  \n",
       "0  https://image.hm.com/assets/hm/03/33/03332fb88...  \n",
       "1  https://image.hm.com/assets/hm/ec/ec/ecec283c8...  \n",
       "2  https://image.hm.com/assets/hm/a7/5c/a75ce2f3c...  \n",
       "3  https://image.hm.com/assets/hm/8d/8e/8d8eaf0d4...  \n",
       "4  https://image.hm.com/assets/hm/4d/b0/4db0c2469...  "
      ]
     },
     "execution_count": 20,
     "metadata": {},
     "output_type": "execute_result"
    }
   ],
   "source": [
    "d.head()"
   ]
  },
  {
   "cell_type": "markdown",
   "id": "ba13ed4e-4dd4-49f3-bf7b-2b25227ecc65",
   "metadata": {},
   "source": [
    "# Read url from the csv file & Segmentation"
   ]
  },
  {
   "cell_type": "code",
   "execution_count": 21,
   "id": "dc47414f-5ad5-41a4-b727-cdaf188b8568",
   "metadata": {
    "execution": {
     "iopub.execute_input": "2024-12-15T03:19:50.181145Z",
     "iopub.status.busy": "2024-12-15T03:19:50.180930Z",
     "iopub.status.idle": "2024-12-15T03:19:50.184601Z",
     "shell.execute_reply": "2024-12-15T03:19:50.183819Z"
    }
   },
   "outputs": [],
   "source": [
    "import urllib.request\n",
    "from urllib.parse import unquote, urlparse\n",
    "import re\n",
    "import os"
   ]
  },
  {
   "cell_type": "code",
   "execution_count": 22,
   "id": "1a74af77-f286-4d54-9bc7-0f3ff2090db1",
   "metadata": {
    "execution": {
     "iopub.execute_input": "2024-12-15T03:19:50.187110Z",
     "iopub.status.busy": "2024-12-15T03:19:50.186619Z",
     "iopub.status.idle": "2024-12-15T03:19:50.191898Z",
     "shell.execute_reply": "2024-12-15T03:19:50.191220Z"
    }
   },
   "outputs": [],
   "source": [
    "d = pd.read_csv('Image_Sources.csv')"
   ]
  },
  {
   "cell_type": "code",
   "execution_count": 23,
   "id": "fab12487-4855-413a-aaeb-f7394d9391b0",
   "metadata": {
    "execution": {
     "iopub.execute_input": "2024-12-15T03:19:50.194314Z",
     "iopub.status.busy": "2024-12-15T03:19:50.193913Z",
     "iopub.status.idle": "2024-12-15T03:19:50.202899Z",
     "shell.execute_reply": "2024-12-15T03:19:50.202223Z"
    }
   },
   "outputs": [
    {
     "data": {
      "text/html": [
       "<div>\n",
       "<style scoped>\n",
       "    .dataframe tbody tr th:only-of-type {\n",
       "        vertical-align: middle;\n",
       "    }\n",
       "\n",
       "    .dataframe tbody tr th {\n",
       "        vertical-align: top;\n",
       "    }\n",
       "\n",
       "    .dataframe thead th {\n",
       "        text-align: right;\n",
       "    }\n",
       "</style>\n",
       "<table border=\"1\" class=\"dataframe\">\n",
       "  <thead>\n",
       "    <tr style=\"text-align: right;\">\n",
       "      <th></th>\n",
       "      <th>Ralph_Lauren</th>\n",
       "      <th>Uniqlo</th>\n",
       "      <th>Zara</th>\n",
       "      <th>HM</th>\n",
       "    </tr>\n",
       "  </thead>\n",
       "  <tbody>\n",
       "    <tr>\n",
       "      <th>0</th>\n",
       "      <td>https://dtcralphlauren.scene7.com/is/image/Pol...</td>\n",
       "      <td>https://image.uniqlo.com/UQ/ST3/us/imagesgoods...</td>\n",
       "      <td>https://static.zara.net/assets/public/a992/b5d...</td>\n",
       "      <td>https://image.hm.com/assets/hm/03/33/03332fb88...</td>\n",
       "    </tr>\n",
       "    <tr>\n",
       "      <th>1</th>\n",
       "      <td>https://dtcralphlauren.scene7.com/is/image/Pol...</td>\n",
       "      <td>https://image.uniqlo.com/UQ/ST3/us/imagesgoods...</td>\n",
       "      <td>https://static.zara.net/assets/public/7683/722...</td>\n",
       "      <td>https://image.hm.com/assets/hm/ec/ec/ecec283c8...</td>\n",
       "    </tr>\n",
       "    <tr>\n",
       "      <th>2</th>\n",
       "      <td>https://dtcralphlauren.scene7.com/is/image/Pol...</td>\n",
       "      <td>https://image.uniqlo.com/UQ/ST3/WesternCommon/...</td>\n",
       "      <td>https://static.zara.net/assets/public/3649/ef4...</td>\n",
       "      <td>https://image.hm.com/assets/hm/a7/5c/a75ce2f3c...</td>\n",
       "    </tr>\n",
       "    <tr>\n",
       "      <th>3</th>\n",
       "      <td>https://dtcralphlauren.scene7.com/is/image/Pol...</td>\n",
       "      <td>https://image.uniqlo.com/UQ/ST3/us/imagesgoods...</td>\n",
       "      <td>https://static.zara.net/assets/public/c58b/89f...</td>\n",
       "      <td>https://image.hm.com/assets/hm/8d/8e/8d8eaf0d4...</td>\n",
       "    </tr>\n",
       "    <tr>\n",
       "      <th>4</th>\n",
       "      <td>https://dtcralphlauren.scene7.com/is/image/Pol...</td>\n",
       "      <td>https://image.uniqlo.com/UQ/ST3/us/imagesgoods...</td>\n",
       "      <td>https://static.zara.net/assets/public/9291/eaf...</td>\n",
       "      <td>https://image.hm.com/assets/hm/4d/b0/4db0c2469...</td>\n",
       "    </tr>\n",
       "  </tbody>\n",
       "</table>\n",
       "</div>"
      ],
      "text/plain": [
       "                                        Ralph_Lauren  \\\n",
       "0  https://dtcralphlauren.scene7.com/is/image/Pol...   \n",
       "1  https://dtcralphlauren.scene7.com/is/image/Pol...   \n",
       "2  https://dtcralphlauren.scene7.com/is/image/Pol...   \n",
       "3  https://dtcralphlauren.scene7.com/is/image/Pol...   \n",
       "4  https://dtcralphlauren.scene7.com/is/image/Pol...   \n",
       "\n",
       "                                              Uniqlo  \\\n",
       "0  https://image.uniqlo.com/UQ/ST3/us/imagesgoods...   \n",
       "1  https://image.uniqlo.com/UQ/ST3/us/imagesgoods...   \n",
       "2  https://image.uniqlo.com/UQ/ST3/WesternCommon/...   \n",
       "3  https://image.uniqlo.com/UQ/ST3/us/imagesgoods...   \n",
       "4  https://image.uniqlo.com/UQ/ST3/us/imagesgoods...   \n",
       "\n",
       "                                                Zara  \\\n",
       "0  https://static.zara.net/assets/public/a992/b5d...   \n",
       "1  https://static.zara.net/assets/public/7683/722...   \n",
       "2  https://static.zara.net/assets/public/3649/ef4...   \n",
       "3  https://static.zara.net/assets/public/c58b/89f...   \n",
       "4  https://static.zara.net/assets/public/9291/eaf...   \n",
       "\n",
       "                                                  HM  \n",
       "0  https://image.hm.com/assets/hm/03/33/03332fb88...  \n",
       "1  https://image.hm.com/assets/hm/ec/ec/ecec283c8...  \n",
       "2  https://image.hm.com/assets/hm/a7/5c/a75ce2f3c...  \n",
       "3  https://image.hm.com/assets/hm/8d/8e/8d8eaf0d4...  \n",
       "4  https://image.hm.com/assets/hm/4d/b0/4db0c2469...  "
      ]
     },
     "execution_count": 23,
     "metadata": {},
     "output_type": "execute_result"
    }
   ],
   "source": [
    "d.head()"
   ]
  },
  {
   "cell_type": "code",
   "execution_count": 24,
   "id": "b89dec02-a21d-4db5-afb1-e233361376f2",
   "metadata": {
    "execution": {
     "iopub.execute_input": "2024-12-15T03:19:50.205354Z",
     "iopub.status.busy": "2024-12-15T03:19:50.204906Z",
     "iopub.status.idle": "2024-12-15T03:29:43.717518Z",
     "shell.execute_reply": "2024-12-15T03:29:43.716862Z"
    }
   },
   "outputs": [
    {
     "name": "stdout",
     "output_type": "stream",
     "text": [
      "This image cound't be found: https://dtcralphlauren.scene7.com/is/image/PoloGSI/s7-AI211959908001_alternate1?$plpDeskRF$\n",
      "list index out of range\n"
     ]
    },
    {
     "name": "stdout",
     "output_type": "stream",
     "text": [
      "This image cound't be found: https://dtcralphlauren.scene7.com/is/image/PoloGSI/s7-AI211959908001_alternate1?$plpMob$\n",
      "list index out of range\n"
     ]
    },
    {
     "name": "stdout",
     "output_type": "stream",
     "text": [
      "This image cound't be found: https://dtcralphlauren.scene7.com/is/image/PoloGSI/s7-AI211959051001_lifestyle?$plpDeskRF$\n",
      "list index out of range\n"
     ]
    },
    {
     "name": "stdout",
     "output_type": "stream",
     "text": [
      "This image cound't be found: https://dtcralphlauren.scene7.com/is/image/PoloGSI/s7-AI211959051001_lifestyle?$plpMob$\n",
      "list index out of range\n"
     ]
    },
    {
     "name": "stdout",
     "output_type": "stream",
     "text": [
      "This image cound't be found: https://static.zara.net/assets/public/524f/06fc/61324c80a9e0/74a79c470554/03067210800-p/03067210800-p.jpg?ts=1733851345445&w=548\n",
      "list index out of range\n"
     ]
    },
    {
     "name": "stdout",
     "output_type": "stream",
     "text": [
      "This image cound't be found: https://static.zara.net/assets/public/840b/6e6c/92a9434ea807/688502cd93a8/09874114084-p/09874114084-p.jpg?ts=1733411266546&w=548\n",
      "list index out of range\n"
     ]
    },
    {
     "name": "stdout",
     "output_type": "stream",
     "text": [
      "This image cound't be found: https://image.hm.com/assets/hm/8d/8e/8d8eaf0d4778669578d8dbe1d17db236de37ed56.jpg?imwidth=1536\n",
      "list index out of range\n"
     ]
    },
    {
     "name": "stdout",
     "output_type": "stream",
     "text": [
      "This image cound't be found: https://image.hm.com/assets/hm/94/c2/94c2de664f665f65fc2e6c61a58c391669048119.jpg?imwidth=1536\n",
      "list index out of range\n"
     ]
    },
    {
     "name": "stdout",
     "output_type": "stream",
     "text": [
      "This image cound't be found: https://image.hm.com/assets/hm/9a/f8/9af89ce99fe18a6982f1b2dd7d8a779b6c4ff545.jpg?imwidth=1536\n",
      "list index out of range\n"
     ]
    },
    {
     "name": "stdout",
     "output_type": "stream",
     "text": [
      "This image cound't be found: https://image.hm.com/assets/hm/66/17/6617f2c78a185029f5545550c7135f1e85441486.jpg?imwidth=1536\n",
      "list index out of range\n"
     ]
    },
    {
     "name": "stdout",
     "output_type": "stream",
     "text": [
      "This image cound't be found: https://image.hm.com/assets/hm/8d/8e/8d8eaf0d4778669578d8dbe1d17db236de37ed56.jpg?imwidth=1536\n",
      "list index out of range\n"
     ]
    }
   ],
   "source": [
    "path_files=[]\n",
    "dic={}\n",
    "for col in d.columns:\n",
    "    links=d[col].head(30)\n",
    "    # Create a folder for the current column\n",
    "    os.makedirs(col, exist_ok=True)\n",
    "    paths=[]\n",
    "     \n",
    "    for l in links:\n",
    "        try:\n",
    "            # URL of the file to download\n",
    "            url = l\n",
    "\n",
    "            # Extract the filename from the URL\n",
    "            filename = url.split(\"/\")[-1]  # Default fallback if Content-Disposition is not available\n",
    "            filename = unquote(filename)  # Decode URL-encoded characters in the filename\n",
    "\n",
    "            # Combine column name folder path with filename\n",
    "            filepath = os.path.join(col, filename)\n",
    "\n",
    "            # Define custom headers\n",
    "            headers = {'User-Agent': 'Mozilla/5.0 (Windows NT 10.0; Win64; x64) AppleWebKit/537.36 (KHTML, like Gecko) Chrome/91.0.4472.124 Safari/537.36'}\n",
    "\n",
    "            # Create a request object with headers\n",
    "            request = urllib.request.Request(url, headers=headers)\n",
    "\n",
    "            # Download and save the file\n",
    "            try:\n",
    "                with urllib.request.urlopen(request) as response, open(filepath, 'wb') as file:\n",
    "                    file.write(response.read())\n",
    "\n",
    "            except urllib.error.HTTPError as e:\n",
    "                print(f\"HTTPError: {e.code} - {e.reason}\")\n",
    "            except Exception as e:\n",
    "                print(f\"Error: {e}\")           \n",
    "            \n",
    "            # urllib.request.urlretrieve(url, filepath)            \n",
    "            time.sleep(1)\n",
    "                        \n",
    "            # open the file\n",
    "            image=Image.open(filepath)\n",
    "\n",
    "            # segment the clothes\n",
    "            result = segment_clothing(img=image)\n",
    "            result.save(f'{filepath}.png')\n",
    "            paths.append(f'{filepath}.png')\n",
    "    \n",
    "        except Exception as e:\n",
    "            print(\"This image cound't be found:\",l)\n",
    "            print(e)\n",
    "\n",
    "    dic[col]=paths\n",
    "    path_files.append(dic)"
   ]
  },
  {
   "cell_type": "markdown",
   "id": "f55c89a5-4b97-48d2-82a2-bf82698140ff",
   "metadata": {},
   "source": [
    "# read the colors"
   ]
  },
  {
   "cell_type": "code",
   "execution_count": 25,
   "id": "d9064f7f-3e03-43ae-b2c0-806b76160eb5",
   "metadata": {
    "execution": {
     "iopub.execute_input": "2024-12-15T03:29:43.719658Z",
     "iopub.status.busy": "2024-12-15T03:29:43.719396Z",
     "iopub.status.idle": "2024-12-15T03:29:43.722289Z",
     "shell.execute_reply": "2024-12-15T03:29:43.721785Z"
    }
   },
   "outputs": [],
   "source": [
    "# pip install Pillow scikit-learn"
   ]
  },
  {
   "cell_type": "code",
   "execution_count": 26,
   "id": "cb35a93c-7918-4065-a6ae-0a095da5a9a4",
   "metadata": {
    "execution": {
     "iopub.execute_input": "2024-12-15T03:29:43.724140Z",
     "iopub.status.busy": "2024-12-15T03:29:43.723939Z",
     "iopub.status.idle": "2024-12-15T03:29:43.728109Z",
     "shell.execute_reply": "2024-12-15T03:29:43.727572Z"
    }
   },
   "outputs": [],
   "source": [
    "def extract_colors(image_path, num_colors=5):\n",
    "    img = Image.open(image_path)\n",
    "    # Ensure image is in RGB format\n",
    "    img = img.convert('RGB')\n",
    "    \n",
    "    img = img.resize((256, 256))  # Resize for faster processing\n",
    "    img_array = np.array(img)\n",
    "    img_array = img_array.reshape((-1, 3))\n",
    "\n",
    "    kmeans = KMeans(n_clusters=num_colors)\n",
    "    kmeans.fit(img_array)\n",
    "    colors = kmeans.cluster_centers_.astype(int)\n",
    "    return colors"
   ]
  },
  {
   "cell_type": "markdown",
   "id": "fff0896f-32f8-4f98-8850-f35f95b504a2",
   "metadata": {},
   "source": [
    "# Make a color palette"
   ]
  },
  {
   "cell_type": "code",
   "execution_count": 27,
   "id": "143a4dae-0d61-4ed8-93bb-437408d7d7e9",
   "metadata": {
    "execution": {
     "iopub.execute_input": "2024-12-15T03:29:43.730079Z",
     "iopub.status.busy": "2024-12-15T03:29:43.729737Z",
     "iopub.status.idle": "2024-12-15T03:29:43.732954Z",
     "shell.execute_reply": "2024-12-15T03:29:43.732306Z"
    }
   },
   "outputs": [],
   "source": [
    "def luminance(color):\n",
    "    r, g, b = color\n",
    "    return 0.299 * r + 0.587 * g + 0.114 * b"
   ]
  },
  {
   "cell_type": "code",
   "execution_count": 28,
   "id": "c2967472-0e71-46ad-9947-2b592b79530c",
   "metadata": {
    "execution": {
     "iopub.execute_input": "2024-12-15T03:29:43.734955Z",
     "iopub.status.busy": "2024-12-15T03:29:43.734648Z",
     "iopub.status.idle": "2024-12-15T03:29:55.625218Z",
     "shell.execute_reply": "2024-12-15T03:29:55.624692Z"
    }
   },
   "outputs": [
    {
     "name": "stdout",
     "output_type": "stream",
     "text": [
      "Total palettes generated: 4\n"
     ]
    }
   ],
   "source": [
    "palettes = []\n",
    "for brand, paths in path_files[0].items():\n",
    "    image_paths = paths  \n",
    "    \n",
    "    if not image_paths:\n",
    "        print(f\"No image paths for {brand}\")\n",
    "        continue\n",
    "    \n",
    "    all_colors = []\n",
    "    \n",
    "    try:\n",
    "        for path in image_paths:\n",
    "            colors = extract_colors(path)\n",
    "            all_colors.extend(colors)\n",
    "        \n",
    "        if not all_colors:\n",
    "            print(f\"No colors extracted for {brand}\")\n",
    "            continue\n",
    "        \n",
    "        all_colors = sorted(all_colors, key=luminance)\n",
    "        final_palette = KMeans(n_clusters=10).fit(all_colors).cluster_centers_.astype(int)\n",
    "        palettes.append(final_palette)\n",
    "        \n",
    "        # Create a plot for each brand's palette\n",
    "        plt.figure(figsize=(10, 2))\n",
    "        plt.axis('off')\n",
    "        plt.subplots_adjust(left=0, right=1, top=1, bottom=0)\n",
    "        \n",
    "        # Plot color squares\n",
    "        for i, color in enumerate(final_palette):\n",
    "            plt.fill([i, i+1, i+1, i], [0, 0, 1, 1], color=color/255.0)\n",
    "        \n",
    "        plt.savefig(f'{brand}.png', transparent=True, bbox_inches='tight', pad_inches=0)\n",
    "        plt.close()  # Close the figure to free up memory\n",
    "    \n",
    "    except Exception as e:\n",
    "        print(f\"{brand} has an error: {e}\")\n",
    "\n",
    "print(f\"Total palettes generated: {len(palettes)}\")"
   ]
  },
  {
   "cell_type": "markdown",
   "id": "e5ba21ad-ca7d-4164-b177-e51f3ca6995f",
   "metadata": {},
   "source": [
    "I consult google for this"
   ]
  },
  {
   "cell_type": "code",
   "execution_count": 29,
   "id": "4cbe3a14-e4aa-428d-93ae-005a031588a9",
   "metadata": {
    "execution": {
     "iopub.execute_input": "2024-12-15T03:29:55.627387Z",
     "iopub.status.busy": "2024-12-15T03:29:55.626985Z",
     "iopub.status.idle": "2024-12-15T03:29:55.786859Z",
     "shell.execute_reply": "2024-12-15T03:29:55.786128Z"
    }
   },
   "outputs": [
    {
     "data": {
      "image/png": "[encoded data removed]",
      "text/plain": [
       "<Figure size 400x400 with 1 Axes>"
      ]
     },
     "metadata": {},
     "output_type": "display_data"
    }
   ],
   "source": [
    "# Convert the final palette to a usable color format\n",
    "final_colors = [tuple(color / 255) for palette in palettes for color in palette]  \n",
    "final_colors = sorted(final_colors, key=luminance)\n",
    "\n",
    "# Number of colors\n",
    "num_colors = len(final_colors)\n",
    "\n",
    "# Angles\n",
    "angles = np.linspace(0, 2 * np.pi, num_colors, endpoint=False)\n",
    "\n",
    "# Create a polar plot\n",
    "fig, ax = plt.subplots(subplot_kw={'projection': 'polar'}, figsize=(4, 4))\n",
    "bars = ax.bar(angles, np.ones(num_colors), color=final_colors, width=2 * np.pi / num_colors)\n",
    "\n",
    "# Remove radial and angular ticks\n",
    "ax.set_yticks([])\n",
    "ax.set_xticks([])\n",
    "ax.spines['polar'].set_visible(False)\n",
    "\n",
    "plt.savefig('color_wheel.png', transparent=True)"
   ]
  },
  {
   "cell_type": "markdown",
   "id": "01ef4718-a5fa-4fd1-ae04-8337909fb729",
   "metadata": {},
   "source": [
    "# Find the most commonly appeared color"
   ]
  },
  {
   "cell_type": "code",
   "execution_count": 30,
   "id": "9df94d49-7dae-49ba-b218-05b9316a29a3",
   "metadata": {
    "execution": {
     "iopub.execute_input": "2024-12-15T03:29:55.789143Z",
     "iopub.status.busy": "2024-12-15T03:29:55.788815Z",
     "iopub.status.idle": "2024-12-15T03:29:55.791982Z",
     "shell.execute_reply": "2024-12-15T03:29:55.791327Z"
    }
   },
   "outputs": [],
   "source": [
    "from collections import Counter"
   ]
  },
  {
   "cell_type": "code",
   "execution_count": 31,
   "id": "9ee060f3-3ab7-49aa-9b91-225172f9bb70",
   "metadata": {
    "execution": {
     "iopub.execute_input": "2024-12-15T03:29:55.793941Z",
     "iopub.status.busy": "2024-12-15T03:29:55.793579Z",
     "iopub.status.idle": "2024-12-15T03:29:55.950557Z",
     "shell.execute_reply": "2024-12-15T03:29:55.949933Z"
    }
   },
   "outputs": [
    {
     "data": {
      "image/png": "[encoded data removed]",
      "text/plain": [
       "<Figure size 400x400 with 1 Axes>"
      ]
     },
     "metadata": {},
     "output_type": "display_data"
    }
   ],
   "source": [
    "color_counts = Counter(final_colors)\n",
    "most_common_color, _ = color_counts.most_common(1)[0]\n",
    "\n",
    "fig2, ax2 = plt.subplots(subplot_kw={'projection': 'polar'}, figsize=(4, 4))\n",
    "ax2.bar(angles, np.ones(num_colors), color=[most_common_color] * num_colors, width=2 * np.pi / num_colors)\n",
    "\n",
    "\n",
    "ax2.set_yticks([])\n",
    "ax2.set_xticks([])\n",
    "ax2.spines['polar'].set_visible(False)\n",
    "\n",
    "plt.savefig('most_common_color_wheel.png', transparent=True)"
   ]
  },
  {
   "cell_type": "markdown",
   "id": "40b06667-ad3a-4194-9d10-7f032f14af7f",
   "metadata": {},
   "source": [
    "# Build a color count table"
   ]
  },
  {
   "cell_type": "code",
   "execution_count": 32,
   "id": "ee645cbf-4643-4828-b0ce-9d6e89ad7218",
   "metadata": {
    "execution": {
     "iopub.execute_input": "2024-12-15T03:29:55.952998Z",
     "iopub.status.busy": "2024-12-15T03:29:55.952519Z",
     "iopub.status.idle": "2024-12-15T03:29:55.955977Z",
     "shell.execute_reply": "2024-12-15T03:29:55.955304Z"
    }
   },
   "outputs": [],
   "source": [
    "if os.path.exists(\"latest_color_grids.png\"):\n",
    "    # Rename the existing file\n",
    "    os.rename(\"latest_color_grids.png\", \"last_grids.png\")"
   ]
  },
  {
   "cell_type": "code",
   "execution_count": 33,
   "id": "2bf7993a-d394-4349-a813-991fb0010e72",
   "metadata": {
    "execution": {
     "iopub.execute_input": "2024-12-15T03:29:55.958041Z",
     "iopub.status.busy": "2024-12-15T03:29:55.957678Z",
     "iopub.status.idle": "2024-12-15T03:29:55.961078Z",
     "shell.execute_reply": "2024-12-15T03:29:55.960370Z"
    }
   },
   "outputs": [],
   "source": [
    "import math\n",
    "total_colors = len(final_colors)\n",
    "cols = math.ceil(math.sqrt(total_colors))  # Number of columns\n",
    "rows = math.ceil(total_colors / cols)    "
   ]
  },
  {
   "cell_type": "code",
   "execution_count": 34,
   "id": "1dd8ef53-3d2d-4bfd-a09a-85eb50bd8fab",
   "metadata": {
    "execution": {
     "iopub.execute_input": "2024-12-15T03:29:55.963110Z",
     "iopub.status.busy": "2024-12-15T03:29:55.962753Z",
     "iopub.status.idle": "2024-12-15T03:29:55.965749Z",
     "shell.execute_reply": "2024-12-15T03:29:55.965100Z"
    }
   },
   "outputs": [],
   "source": [
    "rows = 9\n",
    "cols = 10"
   ]
  },
  {
   "cell_type": "code",
   "execution_count": 35,
   "id": "e172c038-c6ea-4f63-aea0-3d262ba0a99d",
   "metadata": {
    "execution": {
     "iopub.execute_input": "2024-12-15T03:29:55.967791Z",
     "iopub.status.busy": "2024-12-15T03:29:55.967411Z",
     "iopub.status.idle": "2024-12-15T03:29:56.039906Z",
     "shell.execute_reply": "2024-12-15T03:29:56.039302Z"
    }
   },
   "outputs": [
    {
     "data": {
      "image/png": "[encoded data removed]",
      "text/plain": [
       "<Figure size 500x500 with 1 Axes>"
      ]
     },
     "metadata": {},
     "output_type": "display_data"
    }
   ],
   "source": [
    "num_colors = len(final_colors)\n",
    "rows = int(np.ceil(np.sqrt(num_colors)))\n",
    "cols = rows\n",
    "\n",
    "# Create the grid plot\n",
    "fig, ax = plt.subplots(figsize=(5, 5))\n",
    "ax.axis('off')  # Turn off axes\n",
    "\n",
    "# Create the grid\n",
    "for idx, color in enumerate(final_colors):\n",
    "    row = idx // cols\n",
    "    col = idx % cols\n",
    "    ax.add_patch(plt.Rectangle((col, -row), 1, 1, color=color))\n",
    "\n",
    "# Set the aspect and limits to make a square grid\n",
    "ax.set_xlim(0, cols)\n",
    "ax.set_ylim(-rows, 0)\n",
    "ax.set_aspect('equal')\n",
    "\n",
    "plt.savefig('latest_color_grids.png', transparent=True)"
   ]
  },
  {
   "cell_type": "markdown",
   "id": "161ae4d7-e7e0-4f54-93e4-4bf2e9774671",
   "metadata": {},
   "source": [
    "# create an color grid html"
   ]
  },
  {
   "cell_type": "code",
   "execution_count": 36,
   "id": "d225df2c-9681-4d99-8567-65cfc1d9ddbd",
   "metadata": {
    "execution": {
     "iopub.execute_input": "2024-12-15T03:29:56.042279Z",
     "iopub.status.busy": "2024-12-15T03:29:56.041879Z",
     "iopub.status.idle": "2024-12-15T03:29:56.049337Z",
     "shell.execute_reply": "2024-12-15T03:29:56.048773Z"
    }
   },
   "outputs": [
    {
     "name": "stdout",
     "output_type": "stream",
     "text": [
      "HTML file generated: color_grid.html\n"
     ]
    }
   ],
   "source": [
    "colors = [color for palette in palettes for color in palette]\n",
    "# Generate HTML\n",
    "html_content = \"<!DOCTYPE html>\\n<html>\\n<head>\\n<style>\\n\"\n",
    "html_content += \"\"\"\n",
    ".grid-container {\n",
    "    display: grid;\n",
    "    grid-template-columns: repeat(auto-fill, 60px);\n",
    "    gap: 5px;\n",
    "}\n",
    ".grid-item {\n",
    "    width: 60px;\n",
    "    height: 60px;\n",
    "    display: flex;\n",
    "    justify-content: center;\n",
    "    align-items: center;\n",
    "    font-size: 10px;\n",
    "    color: black;\n",
    "    border: 1px solid #ccc;\n",
    "    text-shadow: 0 0 2px white; \n",
    "}\n",
    "</style>\n",
    "</head>\\n<body>\\n<div class=\"grid-container\">\\n\"\"\"\n",
    "\n",
    "for index, color in enumerate(colors, 1):\n",
    "    rgb_value = f\"rgb({color[0]}, {color[1]}, {color[2]})\"\n",
    "    html_content += f'    <div class=\"grid-item\" style=\"background-color: {rgb_value};\">{color}</div>\\n'\n",
    "    \n",
    "    # Add a line break after every 10 items\n",
    "    if index % 10 == 0:\n",
    "        html_content += '</div>\\n<div class=\"grid-container\">\\n'\n",
    "\n",
    "if len(colors) % 10 != 0:\n",
    "    html_content += '</div>\\n'\n",
    "    \n",
    "html_content += \"</div>\\n</body>\\n</html>\"\n",
    "\n",
    "# Save to an HTML file\n",
    "with open(\"color_grids.html\", \"w\") as f:\n",
    "    f.write(html_content)\n",
    "\n",
    "print(\"HTML file generated: color_grid.html\")"
   ]
  },
  {
   "cell_type": "code",
   "execution_count": null,
   "id": "c399598e-686d-45f9-acdd-2e7e85778af2",
   "metadata": {},
   "outputs": [],
   "source": []
  }
 ],
 "metadata": {
  "kernelspec": {
   "display_name": "Python 3 (ipykernel)",
   "language": "python",
   "name": "python3"
  },
  "language_info": {
   "codemirror_mode": {
    "name": "ipython",
    "version": 3
   },
   "file_extension": ".py",
   "mimetype": "text/x-python",
   "name": "python",
   "nbconvert_exporter": "python",
   "pygments_lexer": "ipython3",
   "version": "3.10.15"
  },
  "widgets": {
   "application/vnd.jupyter.widget-state+json": {
    "state": {
     "0eda423965f64102b3d1de9864240e66": {
      "model_module": "@jupyter-widgets/controls",
      "model_module_version": "2.0.0",
      "model_name": "ProgressStyleModel",
      "state": {
       "_model_module": "@jupyter-widgets/controls",
       "_model_module_version": "2.0.0",
       "_model_name": "ProgressStyleModel",
       "_view_count": null,
       "_view_module": "@jupyter-widgets/base",
       "_view_module_version": "2.0.0",
       "_view_name": "StyleView",
       "bar_color": null,
       "description_width": ""
      }
     },
     "1a3fe3a664b24dcaa7cfcf8985948e75": {
      "model_module": "@jupyter-widgets/controls",
      "model_module_version": "2.0.0",
      "model_name": "HTMLModel",
      "state": {
       "_dom_classes": [],
       "_model_module": "@jupyter-widgets/controls",
       "_model_module_version": "2.0.0",
       "_model_name": "HTMLModel",
       "_view_count": null,
       "_view_module": "@jupyter-widgets/controls",
       "_view_module_version": "2.0.0",
       "_view_name": "HTMLView",
       "description": "",
       "description_allow_html": false,
       "layout": "IPY_MODEL_4f29d8f374a1412fbdbe329100010ccd",
       "placeholder": "​",
       "style": "IPY_MODEL_3284a9c3135c45a7bb1bbaa77e890e1d",
       "tabbable": null,
       "tooltip": null,
       "value": " 271/271 [00:00&lt;00:00, 41.5kB/s]"
      }
     },
     "1c1789ee94aa4c879d83a81f9c316e96": {
      "model_module": "@jupyter-widgets/controls",
      "model_module_version": "2.0.0",
      "model_name": "HTMLStyleModel",
      "state": {
       "_model_module": "@jupyter-widgets/controls",
       "_model_module_version": "2.0.0",
       "_model_name": "HTMLStyleModel",
       "_view_count": null,
       "_view_module": "@jupyter-widgets/base",
       "_view_module_version": "2.0.0",
       "_view_name": "StyleView",
       "background": null,
       "description_width": "",
       "font_size": null,
       "text_color": null
      }
     },
     "1e5ee73ed2d44631bf1982a70647e788": {
      "model_module": "@jupyter-widgets/base",
      "model_module_version": "2.0.0",
      "model_name": "LayoutModel",
      "state": {
       "_model_module": "@jupyter-widgets/base",
       "_model_module_version": "2.0.0",
       "_model_name": "LayoutModel",
       "_view_count": null,
       "_view_module": "@jupyter-widgets/base",
       "_view_module_version": "2.0.0",
       "_view_name": "LayoutView",
       "align_content": null,
       "align_items": null,
       "align_self": null,
       "border_bottom": null,
       "border_left": null,
       "border_right": null,
       "border_top": null,
       "bottom": null,
       "display": null,
       "flex": null,
       "flex_flow": null,
       "grid_area": null,
       "grid_auto_columns": null,
       "grid_auto_flow": null,
       "grid_auto_rows": null,
       "grid_column": null,
       "grid_gap": null,
       "grid_row": null,
       "grid_template_areas": null,
       "grid_template_columns": null,
       "grid_template_rows": null,
       "height": null,
       "justify_content": null,
       "justify_items": null,
       "left": null,
       "margin": null,
       "max_height": null,
       "max_width": null,
       "min_height": null,
       "min_width": null,
       "object_fit": null,
       "object_position": null,
       "order": null,
       "overflow": null,
       "padding": null,
       "right": null,
       "top": null,
       "visibility": null,
       "width": null
      }
     },
     "2063286152364ca6a9260aaf3e4cc223": {
      "model_module": "@jupyter-widgets/controls",
      "model_module_version": "2.0.0",
      "model_name": "HTMLModel",
      "state": {
       "_dom_classes": [],
       "_model_module": "@jupyter-widgets/controls",
       "_model_module_version": "2.0.0",
       "_model_name": "HTMLModel",
       "_view_count": null,
       "_view_module": "@jupyter-widgets/controls",
       "_view_module_version": "2.0.0",
       "_view_name": "HTMLView",
       "description": "",
       "description_allow_html": false,
       "layout": "IPY_MODEL_b7d8dcc893b64b7cbd5597f881d10029",
       "placeholder": "​",
       "style": "IPY_MODEL_1c1789ee94aa4c879d83a81f9c316e96",
       "tabbable": null,
       "tooltip": null,
       "value": " 1.73k/1.73k [00:00&lt;00:00, 199kB/s]"
      }
     },
     "27df04672e0b4a6aaf2fb19f4e02edfe": {
      "model_module": "@jupyter-widgets/base",
      "model_module_version": "2.0.0",
      "model_name": "LayoutModel",
      "state": {
       "_model_module": "@jupyter-widgets/base",
       "_model_module_version": "2.0.0",
       "_model_name": "LayoutModel",
       "_view_count": null,
       "_view_module": "@jupyter-widgets/base",
       "_view_module_version": "2.0.0",
       "_view_name": "LayoutView",
       "align_content": null,
       "align_items": null,
       "align_self": null,
       "border_bottom": null,
       "border_left": null,
       "border_right": null,
       "border_top": null,
       "bottom": null,
       "display": null,
       "flex": null,
       "flex_flow": null,
       "grid_area": null,
       "grid_auto_columns": null,
       "grid_auto_flow": null,
       "grid_auto_rows": null,
       "grid_column": null,
       "grid_gap": null,
       "grid_row": null,
       "grid_template_areas": null,
       "grid_template_columns": null,
       "grid_template_rows": null,
       "height": null,
       "justify_content": null,
       "justify_items": null,
       "left": null,
       "margin": null,
       "max_height": null,
       "max_width": null,
       "min_height": null,
       "min_width": null,
       "object_fit": null,
       "object_position": null,
       "order": null,
       "overflow": null,
       "padding": null,
       "right": null,
       "top": null,
       "visibility": null,
       "width": null
      }
     },
     "2886c813fcdd419c9043796cbe94860c": {
      "model_module": "@jupyter-widgets/base",
      "model_module_version": "2.0.0",
      "model_name": "LayoutModel",
      "state": {
       "_model_module": "@jupyter-widgets/base",
       "_model_module_version": "2.0.0",
       "_model_name": "LayoutModel",
       "_view_count": null,
       "_view_module": "@jupyter-widgets/base",
       "_view_module_version": "2.0.0",
       "_view_name": "LayoutView",
       "align_content": null,
       "align_items": null,
       "align_self": null,
       "border_bottom": null,
       "border_left": null,
       "border_right": null,
       "border_top": null,
       "bottom": null,
       "display": null,
       "flex": null,
       "flex_flow": null,
       "grid_area": null,
       "grid_auto_columns": null,
       "grid_auto_flow": null,
       "grid_auto_rows": null,
       "grid_column": null,
       "grid_gap": null,
       "grid_row": null,
       "grid_template_areas": null,
       "grid_template_columns": null,
       "grid_template_rows": null,
       "height": null,
       "justify_content": null,
       "justify_items": null,
       "left": null,
       "margin": null,
       "max_height": null,
       "max_width": null,
       "min_height": null,
       "min_width": null,
       "object_fit": null,
       "object_position": null,
       "order": null,
       "overflow": null,
       "padding": null,
       "right": null,
       "top": null,
       "visibility": null,
       "width": null
      }
     },
     "2d6a08eba8c443808d9ee0bbf1b7002e": {
      "model_module": "@jupyter-widgets/base",
      "model_module_version": "2.0.0",
      "model_name": "LayoutModel",
      "state": {
       "_model_module": "@jupyter-widgets/base",
       "_model_module_version": "2.0.0",
       "_model_name": "LayoutModel",
       "_view_count": null,
       "_view_module": "@jupyter-widgets/base",
       "_view_module_version": "2.0.0",
       "_view_name": "LayoutView",
       "align_content": null,
       "align_items": null,
       "align_self": null,
       "border_bottom": null,
       "border_left": null,
       "border_right": null,
       "border_top": null,
       "bottom": null,
       "display": null,
       "flex": null,
       "flex_flow": null,
       "grid_area": null,
       "grid_auto_columns": null,
       "grid_auto_flow": null,
       "grid_auto_rows": null,
       "grid_column": null,
       "grid_gap": null,
       "grid_row": null,
       "grid_template_areas": null,
       "grid_template_columns": null,
       "grid_template_rows": null,
       "height": null,
       "justify_content": null,
       "justify_items": null,
       "left": null,
       "margin": null,
       "max_height": null,
       "max_width": null,
       "min_height": null,
       "min_width": null,
       "object_fit": null,
       "object_position": null,
       "order": null,
       "overflow": null,
       "padding": null,
       "right": null,
       "top": null,
       "visibility": null,
       "width": null
      }
     },
     "3284a9c3135c45a7bb1bbaa77e890e1d": {
      "model_module": "@jupyter-widgets/controls",
      "model_module_version": "2.0.0",
      "model_name": "HTMLStyleModel",
      "state": {
       "_model_module": "@jupyter-widgets/controls",
       "_model_module_version": "2.0.0",
       "_model_name": "HTMLStyleModel",
       "_view_count": null,
       "_view_module": "@jupyter-widgets/base",
       "_view_module_version": "2.0.0",
       "_view_name": "StyleView",
       "background": null,
       "description_width": "",
       "font_size": null,
       "text_color": null
      }
     },
     "37b1ed3baee14c67a4534ff5870d5cce": {
      "model_module": "@jupyter-widgets/controls",
      "model_module_version": "2.0.0",
      "model_name": "HTMLModel",
      "state": {
       "_dom_classes": [],
       "_model_module": "@jupyter-widgets/controls",
       "_model_module_version": "2.0.0",
       "_model_name": "HTMLModel",
       "_view_count": null,
       "_view_module": "@jupyter-widgets/controls",
       "_view_module_version": "2.0.0",
       "_view_name": "HTMLView",
       "description": "",
       "description_allow_html": false,
       "layout": "IPY_MODEL_752fbc080abf4f1d84904833937fc0a5",
       "placeholder": "​",
       "style": "IPY_MODEL_95ba0cc1e21247b7b3d017280b0a77cd",
       "tabbable": null,
       "tooltip": null,
       "value": "model.safetensors: 100%"
      }
     },
     "38000fc629694eaa9fa68dd8b38fd2c7": {
      "model_module": "@jupyter-widgets/controls",
      "model_module_version": "2.0.0",
      "model_name": "HBoxModel",
      "state": {
       "_dom_classes": [],
       "_model_module": "@jupyter-widgets/controls",
       "_model_module_version": "2.0.0",
       "_model_name": "HBoxModel",
       "_view_count": null,
       "_view_module": "@jupyter-widgets/controls",
       "_view_module_version": "2.0.0",
       "_view_name": "HBoxView",
       "box_style": "",
       "children": [
        "IPY_MODEL_4c26b62a7a18458daa3e29ec92c94651",
        "IPY_MODEL_ad25daff23084f3d8204762d99b35226",
        "IPY_MODEL_1a3fe3a664b24dcaa7cfcf8985948e75"
       ],
       "layout": "IPY_MODEL_c23a5147413e4f18af1baf0de277aa0d",
       "tabbable": null,
       "tooltip": null
      }
     },
     "38ac1d04a932492bb89efe2947b0528d": {
      "model_module": "@jupyter-widgets/base",
      "model_module_version": "2.0.0",
      "model_name": "LayoutModel",
      "state": {
       "_model_module": "@jupyter-widgets/base",
       "_model_module_version": "2.0.0",
       "_model_name": "LayoutModel",
       "_view_count": null,
       "_view_module": "@jupyter-widgets/base",
       "_view_module_version": "2.0.0",
       "_view_name": "LayoutView",
       "align_content": null,
       "align_items": null,
       "align_self": null,
       "border_bottom": null,
       "border_left": null,
       "border_right": null,
       "border_top": null,
       "bottom": null,
       "display": null,
       "flex": null,
       "flex_flow": null,
       "grid_area": null,
       "grid_auto_columns": null,
       "grid_auto_flow": null,
       "grid_auto_rows": null,
       "grid_column": null,
       "grid_gap": null,
       "grid_row": null,
       "grid_template_areas": null,
       "grid_template_columns": null,
       "grid_template_rows": null,
       "height": null,
       "justify_content": null,
       "justify_items": null,
       "left": null,
       "margin": null,
       "max_height": null,
       "max_width": null,
       "min_height": null,
       "min_width": null,
       "object_fit": null,
       "object_position": null,
       "order": null,
       "overflow": null,
       "padding": null,
       "right": null,
       "top": null,
       "visibility": null,
       "width": null
      }
     },
     "48a6f55b00bd429682ae673703745893": {
      "model_module": "@jupyter-widgets/base",
      "model_module_version": "2.0.0",
      "model_name": "LayoutModel",
      "state": {
       "_model_module": "@jupyter-widgets/base",
       "_model_module_version": "2.0.0",
       "_model_name": "LayoutModel",
       "_view_count": null,
       "_view_module": "@jupyter-widgets/base",
       "_view_module_version": "2.0.0",
       "_view_name": "LayoutView",
       "align_content": null,
       "align_items": null,
       "align_self": null,
       "border_bottom": null,
       "border_left": null,
       "border_right": null,
       "border_top": null,
       "bottom": null,
       "display": null,
       "flex": null,
       "flex_flow": null,
       "grid_area": null,
       "grid_auto_columns": null,
       "grid_auto_flow": null,
       "grid_auto_rows": null,
       "grid_column": null,
       "grid_gap": null,
       "grid_row": null,
       "grid_template_areas": null,
       "grid_template_columns": null,
       "grid_template_rows": null,
       "height": null,
       "justify_content": null,
       "justify_items": null,
       "left": null,
       "margin": null,
       "max_height": null,
       "max_width": null,
       "min_height": null,
       "min_width": null,
       "object_fit": null,
       "object_position": null,
       "order": null,
       "overflow": null,
       "padding": null,
       "right": null,
       "top": null,
       "visibility": null,
       "width": null
      }
     },
     "4c26b62a7a18458daa3e29ec92c94651": {
      "model_module": "@jupyter-widgets/controls",
      "model_module_version": "2.0.0",
      "model_name": "HTMLModel",
      "state": {
       "_dom_classes": [],
       "_model_module": "@jupyter-widgets/controls",
       "_model_module_version": "2.0.0",
       "_model_name": "HTMLModel",
       "_view_count": null,
       "_view_module": "@jupyter-widgets/controls",
       "_view_module_version": "2.0.0",
       "_view_name": "HTMLView",
       "description": "",
       "description_allow_html": false,
       "layout": "IPY_MODEL_2886c813fcdd419c9043796cbe94860c",
       "placeholder": "​",
       "style": "IPY_MODEL_c9dad1a01ffe4847bea9da1b68ad5a05",
       "tabbable": null,
       "tooltip": null,
       "value": "preprocessor_config.json: 100%"
      }
     },
     "4f29d8f374a1412fbdbe329100010ccd": {
      "model_module": "@jupyter-widgets/base",
      "model_module_version": "2.0.0",
      "model_name": "LayoutModel",
      "state": {
       "_model_module": "@jupyter-widgets/base",
       "_model_module_version": "2.0.0",
       "_model_name": "LayoutModel",
       "_view_count": null,
       "_view_module": "@jupyter-widgets/base",
       "_view_module_version": "2.0.0",
       "_view_name": "LayoutView",
       "align_content": null,
       "align_items": null,
       "align_self": null,
       "border_bottom": null,
       "border_left": null,
       "border_right": null,
       "border_top": null,
       "bottom": null,
       "display": null,
       "flex": null,
       "flex_flow": null,
       "grid_area": null,
       "grid_auto_columns": null,
       "grid_auto_flow": null,
       "grid_auto_rows": null,
       "grid_column": null,
       "grid_gap": null,
       "grid_row": null,
       "grid_template_areas": null,
       "grid_template_columns": null,
       "grid_template_rows": null,
       "height": null,
       "justify_content": null,
       "justify_items": null,
       "left": null,
       "margin": null,
       "max_height": null,
       "max_width": null,
       "min_height": null,
       "min_width": null,
       "object_fit": null,
       "object_position": null,
       "order": null,
       "overflow": null,
       "padding": null,
       "right": null,
       "top": null,
       "visibility": null,
       "width": null
      }
     },
     "577dca5d6c5f4827a4cf97833b1a5092": {
      "model_module": "@jupyter-widgets/controls",
      "model_module_version": "2.0.0",
      "model_name": "HBoxModel",
      "state": {
       "_dom_classes": [],
       "_model_module": "@jupyter-widgets/controls",
       "_model_module_version": "2.0.0",
       "_model_name": "HBoxModel",
       "_view_count": null,
       "_view_module": "@jupyter-widgets/controls",
       "_view_module_version": "2.0.0",
       "_view_name": "HBoxView",
       "box_style": "",
       "children": [
        "IPY_MODEL_8debf870f2f7456f9e1ae8c9a0d76f02",
        "IPY_MODEL_a769b3e144dc4621b39a04e43f7fccb2",
        "IPY_MODEL_2063286152364ca6a9260aaf3e4cc223"
       ],
       "layout": "IPY_MODEL_1e5ee73ed2d44631bf1982a70647e788",
       "tabbable": null,
       "tooltip": null
      }
     },
     "752fbc080abf4f1d84904833937fc0a5": {
      "model_module": "@jupyter-widgets/base",
      "model_module_version": "2.0.0",
      "model_name": "LayoutModel",
      "state": {
       "_model_module": "@jupyter-widgets/base",
       "_model_module_version": "2.0.0",
       "_model_name": "LayoutModel",
       "_view_count": null,
       "_view_module": "@jupyter-widgets/base",
       "_view_module_version": "2.0.0",
       "_view_name": "LayoutView",
       "align_content": null,
       "align_items": null,
       "align_self": null,
       "border_bottom": null,
       "border_left": null,
       "border_right": null,
       "border_top": null,
       "bottom": null,
       "display": null,
       "flex": null,
       "flex_flow": null,
       "grid_area": null,
       "grid_auto_columns": null,
       "grid_auto_flow": null,
       "grid_auto_rows": null,
       "grid_column": null,
       "grid_gap": null,
       "grid_row": null,
       "grid_template_areas": null,
       "grid_template_columns": null,
       "grid_template_rows": null,
       "height": null,
       "justify_content": null,
       "justify_items": null,
       "left": null,
       "margin": null,
       "max_height": null,
       "max_width": null,
       "min_height": null,
       "min_width": null,
       "object_fit": null,
       "object_position": null,
       "order": null,
       "overflow": null,
       "padding": null,
       "right": null,
       "top": null,
       "visibility": null,
       "width": null
      }
     },
     "7875a229be1c41a6944634d043fd7268": {
      "model_module": "@jupyter-widgets/base",
      "model_module_version": "2.0.0",
      "model_name": "LayoutModel",
      "state": {
       "_model_module": "@jupyter-widgets/base",
       "_model_module_version": "2.0.0",
       "_model_name": "LayoutModel",
       "_view_count": null,
       "_view_module": "@jupyter-widgets/base",
       "_view_module_version": "2.0.0",
       "_view_name": "LayoutView",
       "align_content": null,
       "align_items": null,
       "align_self": null,
       "border_bottom": null,
       "border_left": null,
       "border_right": null,
       "border_top": null,
       "bottom": null,
       "display": null,
       "flex": null,
       "flex_flow": null,
       "grid_area": null,
       "grid_auto_columns": null,
       "grid_auto_flow": null,
       "grid_auto_rows": null,
       "grid_column": null,
       "grid_gap": null,
       "grid_row": null,
       "grid_template_areas": null,
       "grid_template_columns": null,
       "grid_template_rows": null,
       "height": null,
       "justify_content": null,
       "justify_items": null,
       "left": null,
       "margin": null,
       "max_height": null,
       "max_width": null,
       "min_height": null,
       "min_width": null,
       "object_fit": null,
       "object_position": null,
       "order": null,
       "overflow": null,
       "padding": null,
       "right": null,
       "top": null,
       "visibility": null,
       "width": null
      }
     },
     "85266472cbc34913a0e976f7c72f2f84": {
      "model_module": "@jupyter-widgets/controls",
      "model_module_version": "2.0.0",
      "model_name": "ProgressStyleModel",
      "state": {
       "_model_module": "@jupyter-widgets/controls",
       "_model_module_version": "2.0.0",
       "_model_name": "ProgressStyleModel",
       "_view_count": null,
       "_view_module": "@jupyter-widgets/base",
       "_view_module_version": "2.0.0",
       "_view_name": "StyleView",
       "bar_color": null,
       "description_width": ""
      }
     },
     "8debf870f2f7456f9e1ae8c9a0d76f02": {
      "model_module": "@jupyter-widgets/controls",
      "model_module_version": "2.0.0",
      "model_name": "HTMLModel",
      "state": {
       "_dom_classes": [],
       "_model_module": "@jupyter-widgets/controls",
       "_model_module_version": "2.0.0",
       "_model_name": "HTMLModel",
       "_view_count": null,
       "_view_module": "@jupyter-widgets/controls",
       "_view_module_version": "2.0.0",
       "_view_name": "HTMLView",
       "description": "",
       "description_allow_html": false,
       "layout": "IPY_MODEL_2d6a08eba8c443808d9ee0bbf1b7002e",
       "placeholder": "​",
       "style": "IPY_MODEL_bd7db907aca543a8a86d83bfb15573e7",
       "tabbable": null,
       "tooltip": null,
       "value": "config.json: 100%"
      }
     },
     "95ba0cc1e21247b7b3d017280b0a77cd": {
      "model_module": "@jupyter-widgets/controls",
      "model_module_version": "2.0.0",
      "model_name": "HTMLStyleModel",
      "state": {
       "_model_module": "@jupyter-widgets/controls",
       "_model_module_version": "2.0.0",
       "_model_name": "HTMLStyleModel",
       "_view_count": null,
       "_view_module": "@jupyter-widgets/base",
       "_view_module_version": "2.0.0",
       "_view_name": "StyleView",
       "background": null,
       "description_width": "",
       "font_size": null,
       "text_color": null
      }
     },
     "a769b3e144dc4621b39a04e43f7fccb2": {
      "model_module": "@jupyter-widgets/controls",
      "model_module_version": "2.0.0",
      "model_name": "FloatProgressModel",
      "state": {
       "_dom_classes": [],
       "_model_module": "@jupyter-widgets/controls",
       "_model_module_version": "2.0.0",
       "_model_name": "FloatProgressModel",
       "_view_count": null,
       "_view_module": "@jupyter-widgets/controls",
       "_view_module_version": "2.0.0",
       "_view_name": "ProgressView",
       "bar_style": "success",
       "description": "",
       "description_allow_html": false,
       "layout": "IPY_MODEL_27df04672e0b4a6aaf2fb19f4e02edfe",
       "max": 1727.0,
       "min": 0.0,
       "orientation": "horizontal",
       "style": "IPY_MODEL_85266472cbc34913a0e976f7c72f2f84",
       "tabbable": null,
       "tooltip": null,
       "value": 1727.0
      }
     },
     "ad25daff23084f3d8204762d99b35226": {
      "model_module": "@jupyter-widgets/controls",
      "model_module_version": "2.0.0",
      "model_name": "FloatProgressModel",
      "state": {
       "_dom_classes": [],
       "_model_module": "@jupyter-widgets/controls",
       "_model_module_version": "2.0.0",
       "_model_name": "FloatProgressModel",
       "_view_count": null,
       "_view_module": "@jupyter-widgets/controls",
       "_view_module_version": "2.0.0",
       "_view_name": "ProgressView",
       "bar_style": "success",
       "description": "",
       "description_allow_html": false,
       "layout": "IPY_MODEL_38ac1d04a932492bb89efe2947b0528d",
       "max": 271.0,
       "min": 0.0,
       "orientation": "horizontal",
       "style": "IPY_MODEL_f64d088c386343538edf786d9b56398f",
       "tabbable": null,
       "tooltip": null,
       "value": 271.0
      }
     },
     "b7d8dcc893b64b7cbd5597f881d10029": {
      "model_module": "@jupyter-widgets/base",
      "model_module_version": "2.0.0",
      "model_name": "LayoutModel",
      "state": {
       "_model_module": "@jupyter-widgets/base",
       "_model_module_version": "2.0.0",
       "_model_name": "LayoutModel",
       "_view_count": null,
       "_view_module": "@jupyter-widgets/base",
       "_view_module_version": "2.0.0",
       "_view_name": "LayoutView",
       "align_content": null,
       "align_items": null,
       "align_self": null,
       "border_bottom": null,
       "border_left": null,
       "border_right": null,
       "border_top": null,
       "bottom": null,
       "display": null,
       "flex": null,
       "flex_flow": null,
       "grid_area": null,
       "grid_auto_columns": null,
       "grid_auto_flow": null,
       "grid_auto_rows": null,
       "grid_column": null,
       "grid_gap": null,
       "grid_row": null,
       "grid_template_areas": null,
       "grid_template_columns": null,
       "grid_template_rows": null,
       "height": null,
       "justify_content": null,
       "justify_items": null,
       "left": null,
       "margin": null,
       "max_height": null,
       "max_width": null,
       "min_height": null,
       "min_width": null,
       "object_fit": null,
       "object_position": null,
       "order": null,
       "overflow": null,
       "padding": null,
       "right": null,
       "top": null,
       "visibility": null,
       "width": null
      }
     },
     "bc0ec495f77b4712b7a79ab323e31bf2": {
      "model_module": "@jupyter-widgets/controls",
      "model_module_version": "2.0.0",
      "model_name": "FloatProgressModel",
      "state": {
       "_dom_classes": [],
       "_model_module": "@jupyter-widgets/controls",
       "_model_module_version": "2.0.0",
       "_model_name": "FloatProgressModel",
       "_view_count": null,
       "_view_module": "@jupyter-widgets/controls",
       "_view_module_version": "2.0.0",
       "_view_name": "ProgressView",
       "bar_style": "success",
       "description": "",
       "description_allow_html": false,
       "layout": "IPY_MODEL_c21f1c633ca34d2aab2fdda5e21d6ab4",
       "max": 109493236.0,
       "min": 0.0,
       "orientation": "horizontal",
       "style": "IPY_MODEL_0eda423965f64102b3d1de9864240e66",
       "tabbable": null,
       "tooltip": null,
       "value": 109493236.0
      }
     },
     "bd7db907aca543a8a86d83bfb15573e7": {
      "model_module": "@jupyter-widgets/controls",
      "model_module_version": "2.0.0",
      "model_name": "HTMLStyleModel",
      "state": {
       "_model_module": "@jupyter-widgets/controls",
       "_model_module_version": "2.0.0",
       "_model_name": "HTMLStyleModel",
       "_view_count": null,
       "_view_module": "@jupyter-widgets/base",
       "_view_module_version": "2.0.0",
       "_view_name": "StyleView",
       "background": null,
       "description_width": "",
       "font_size": null,
       "text_color": null
      }
     },
     "c21f1c633ca34d2aab2fdda5e21d6ab4": {
      "model_module": "@jupyter-widgets/base",
      "model_module_version": "2.0.0",
      "model_name": "LayoutModel",
      "state": {
       "_model_module": "@jupyter-widgets/base",
       "_model_module_version": "2.0.0",
       "_model_name": "LayoutModel",
       "_view_count": null,
       "_view_module": "@jupyter-widgets/base",
       "_view_module_version": "2.0.0",
       "_view_name": "LayoutView",
       "align_content": null,
       "align_items": null,
       "align_self": null,
       "border_bottom": null,
       "border_left": null,
       "border_right": null,
       "border_top": null,
       "bottom": null,
       "display": null,
       "flex": null,
       "flex_flow": null,
       "grid_area": null,
       "grid_auto_columns": null,
       "grid_auto_flow": null,
       "grid_auto_rows": null,
       "grid_column": null,
       "grid_gap": null,
       "grid_row": null,
       "grid_template_areas": null,
       "grid_template_columns": null,
       "grid_template_rows": null,
       "height": null,
       "justify_content": null,
       "justify_items": null,
       "left": null,
       "margin": null,
       "max_height": null,
       "max_width": null,
       "min_height": null,
       "min_width": null,
       "object_fit": null,
       "object_position": null,
       "order": null,
       "overflow": null,
       "padding": null,
       "right": null,
       "top": null,
       "visibility": null,
       "width": null
      }
     },
     "c23a5147413e4f18af1baf0de277aa0d": {
      "model_module": "@jupyter-widgets/base",
      "model_module_version": "2.0.0",
      "model_name": "LayoutModel",
      "state": {
       "_model_module": "@jupyter-widgets/base",
       "_model_module_version": "2.0.0",
       "_model_name": "LayoutModel",
       "_view_count": null,
       "_view_module": "@jupyter-widgets/base",
       "_view_module_version": "2.0.0",
       "_view_name": "LayoutView",
       "align_content": null,
       "align_items": null,
       "align_self": null,
       "border_bottom": null,
       "border_left": null,
       "border_right": null,
       "border_top": null,
       "bottom": null,
       "display": null,
       "flex": null,
       "flex_flow": null,
       "grid_area": null,
       "grid_auto_columns": null,
       "grid_auto_flow": null,
       "grid_auto_rows": null,
       "grid_column": null,
       "grid_gap": null,
       "grid_row": null,
       "grid_template_areas": null,
       "grid_template_columns": null,
       "grid_template_rows": null,
       "height": null,
       "justify_content": null,
       "justify_items": null,
       "left": null,
       "margin": null,
       "max_height": null,
       "max_width": null,
       "min_height": null,
       "min_width": null,
       "object_fit": null,
       "object_position": null,
       "order": null,
       "overflow": null,
       "padding": null,
       "right": null,
       "top": null,
       "visibility": null,
       "width": null
      }
     },
     "c2d4678d58474df6a9dae6575fec3517": {
      "model_module": "@jupyter-widgets/controls",
      "model_module_version": "2.0.0",
      "model_name": "HTMLStyleModel",
      "state": {
       "_model_module": "@jupyter-widgets/controls",
       "_model_module_version": "2.0.0",
       "_model_name": "HTMLStyleModel",
       "_view_count": null,
       "_view_module": "@jupyter-widgets/base",
       "_view_module_version": "2.0.0",
       "_view_name": "StyleView",
       "background": null,
       "description_width": "",
       "font_size": null,
       "text_color": null
      }
     },
     "c9dad1a01ffe4847bea9da1b68ad5a05": {
      "model_module": "@jupyter-widgets/controls",
      "model_module_version": "2.0.0",
      "model_name": "HTMLStyleModel",
      "state": {
       "_model_module": "@jupyter-widgets/controls",
       "_model_module_version": "2.0.0",
       "_model_name": "HTMLStyleModel",
       "_view_count": null,
       "_view_module": "@jupyter-widgets/base",
       "_view_module_version": "2.0.0",
       "_view_name": "StyleView",
       "background": null,
       "description_width": "",
       "font_size": null,
       "text_color": null
      }
     },
     "cdda5385148c4ea79f020f8072599ac5": {
      "model_module": "@jupyter-widgets/controls",
      "model_module_version": "2.0.0",
      "model_name": "HBoxModel",
      "state": {
       "_dom_classes": [],
       "_model_module": "@jupyter-widgets/controls",
       "_model_module_version": "2.0.0",
       "_model_name": "HBoxModel",
       "_view_count": null,
       "_view_module": "@jupyter-widgets/controls",
       "_view_module_version": "2.0.0",
       "_view_name": "HBoxView",
       "box_style": "",
       "children": [
        "IPY_MODEL_37b1ed3baee14c67a4534ff5870d5cce",
        "IPY_MODEL_bc0ec495f77b4712b7a79ab323e31bf2",
        "IPY_MODEL_dd0f3d81206247b4ab9a8def9906e3dd"
       ],
       "layout": "IPY_MODEL_48a6f55b00bd429682ae673703745893",
       "tabbable": null,
       "tooltip": null
      }
     },
     "dd0f3d81206247b4ab9a8def9906e3dd": {
      "model_module": "@jupyter-widgets/controls",
      "model_module_version": "2.0.0",
      "model_name": "HTMLModel",
      "state": {
       "_dom_classes": [],
       "_model_module": "@jupyter-widgets/controls",
       "_model_module_version": "2.0.0",
       "_model_name": "HTMLModel",
       "_view_count": null,
       "_view_module": "@jupyter-widgets/controls",
       "_view_module_version": "2.0.0",
       "_view_name": "HTMLView",
       "description": "",
       "description_allow_html": false,
       "layout": "IPY_MODEL_7875a229be1c41a6944634d043fd7268",
       "placeholder": "​",
       "style": "IPY_MODEL_c2d4678d58474df6a9dae6575fec3517",
       "tabbable": null,
       "tooltip": null,
       "value": " 109M/109M [00:00&lt;00:00, 234MB/s]"
      }
     },
     "f64d088c386343538edf786d9b56398f": {
      "model_module": "@jupyter-widgets/controls",
      "model_module_version": "2.0.0",
      "model_name": "ProgressStyleModel",
      "state": {
       "_model_module": "@jupyter-widgets/controls",
       "_model_module_version": "2.0.0",
       "_model_name": "ProgressStyleModel",
       "_view_count": null,
       "_view_module": "@jupyter-widgets/base",
       "_view_module_version": "2.0.0",
       "_view_name": "StyleView",
       "bar_color": null,
       "description_width": ""
      }
     }
    },
    "version_major": 2,
    "version_minor": 0
   }
  }
 },
 "nbformat": 4,
 "nbformat_minor": 5
}
