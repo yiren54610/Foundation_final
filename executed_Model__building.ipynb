{
 "cells": [
  {
   "cell_type": "code",
   "execution_count": 1,
   "id": "1db22fde-6df6-4d41-b5c0-d7d35b457395",
   "metadata": {
    "execution": {
     "iopub.execute_input": "2024-12-29T01:18:10.613216Z",
     "iopub.status.busy": "2024-12-29T01:18:10.613010Z",
     "iopub.status.idle": "2024-12-29T01:18:17.808281Z",
     "shell.execute_reply": "2024-12-29T01:18:17.807606Z"
    }
   },
   "outputs": [],
   "source": [
    "from transformers import pipeline\n",
    "from PIL import Image\n",
    "import numpy as np\n",
    "import pandas as pd\n",
    "import time\n",
    "from sklearn.cluster import KMeans\n",
    "import matplotlib.pyplot as plt"
   ]
  },
  {
   "cell_type": "code",
   "execution_count": 2,
   "id": "d347f739-6fb4-4665-b051-f778d8663b80",
   "metadata": {
    "execution": {
     "iopub.execute_input": "2024-12-29T01:18:17.810738Z",
     "iopub.status.busy": "2024-12-29T01:18:17.810444Z",
     "iopub.status.idle": "2024-12-29T01:18:18.598819Z",
     "shell.execute_reply": "2024-12-29T01:18:18.598156Z"
    }
   },
   "outputs": [
    {
     "data": {
      "application/vnd.jupyter.widget-view+json": {
       "model_id": "660781ee934e4a73a4da9fddbfc94be1",
       "version_major": 2,
       "version_minor": 0
      },
      "text/plain": [
       "config.json:   0%|          | 0.00/1.73k [00:00<?, ?B/s]"
      ]
     },
     "metadata": {},
     "output_type": "display_data"
    },
    {
     "data": {
      "application/vnd.jupyter.widget-view+json": {
       "model_id": "33f857f588a8495cbb0d7bf1a6e03696",
       "version_major": 2,
       "version_minor": 0
      },
      "text/plain": [
       "model.safetensors:   0%|          | 0.00/109M [00:00<?, ?B/s]"
      ]
     },
     "metadata": {},
     "output_type": "display_data"
    },
    {
     "data": {
      "application/vnd.jupyter.widget-view+json": {
       "model_id": "05d23e67893f47c29d4edd80ad1fda09",
       "version_major": 2,
       "version_minor": 0
      },
      "text/plain": [
       "preprocessor_config.json:   0%|          | 0.00/271 [00:00<?, ?B/s]"
      ]
     },
     "metadata": {},
     "output_type": "display_data"
    },
    {
     "name": "stderr",
     "output_type": "stream",
     "text": [
      "Device set to use cpu\n"
     ]
    }
   ],
   "source": [
    "segmenter = pipeline(\"image-segmentation\", model=\"mattmdjaga/segformer_b2_clothes\")"
   ]
  },
  {
   "cell_type": "markdown",
   "id": "6d30487b-25ed-4b65-8688-13b9ecef45fa",
   "metadata": {},
   "source": [
    "# Set up functions to Segment Clothes"
   ]
  },
  {
   "cell_type": "code",
   "execution_count": 3,
   "id": "a295db4a-3daa-4cab-a91b-06893145131a",
   "metadata": {
    "execution": {
     "iopub.execute_input": "2024-12-29T01:18:18.601156Z",
     "iopub.status.busy": "2024-12-29T01:18:18.600728Z",
     "iopub.status.idle": "2024-12-29T01:18:18.605243Z",
     "shell.execute_reply": "2024-12-29T01:18:18.604714Z"
    }
   },
   "outputs": [],
   "source": [
    "# Initialize segmentation pipeline\n",
    "def segment_clothing(img, clothes= [\"Upper-clothes\", \"Pants\", \"Belt\"]):\n",
    "    # Segment image\n",
    "    segments = segmenter(img)\n",
    "\n",
    "    # Create list of masks\n",
    "    mask_list = []\n",
    "    for s in segments:\n",
    "        if(s['label'] in clothes):\n",
    "            mask_list.append(s['mask'])\n",
    "\n",
    "\n",
    "    # Paste all masks on top of eachother \n",
    "    final_mask = np.array(mask_list[0])\n",
    "    for mask in mask_list:\n",
    "        current_mask = np.array(mask)\n",
    "        final_mask = final_mask + current_mask\n",
    "            \n",
    "    # Convert final mask from np array to PIL image\n",
    "    final_mask = Image.fromarray(final_mask)\n",
    "\n",
    "    # Apply mask to original image\n",
    "    img.putalpha(final_mask)\n",
    "\n",
    "    # display the image\n",
    "    return img"
   ]
  },
  {
   "cell_type": "code",
   "execution_count": 4,
   "id": "9df19002-5f75-4426-82ec-f5561d25de64",
   "metadata": {
    "execution": {
     "iopub.execute_input": "2024-12-29T01:18:18.607335Z",
     "iopub.status.busy": "2024-12-29T01:18:18.606855Z",
     "iopub.status.idle": "2024-12-29T01:18:18.612196Z",
     "shell.execute_reply": "2024-12-29T01:18:18.611623Z"
    }
   },
   "outputs": [],
   "source": [
    "def batch_segment_clothing(img_dir, out_dir, clothes= [\"Hat\", \"Upper-clothes\", \"Skirt\", \"Pants\", \"Dress\", \"Belt\", \"Left-shoe\", \"Right-shoe\", \"Scarf\"]):\n",
    "    # Create output directory if it doesn't exist\n",
    "    if not os.path.exists(out_dir):\n",
    "        os.makedirs(out_dir)\n",
    "\n",
    "    # Iterate through each file in the input directory\n",
    "    for filename in os.listdir(img_dir):\n",
    "        if filename.endswith(\".jpg\") or filename.endswith(\".JPG\") or filename.endswith(\".png\") or filename.endswith(\".PNG\"):\n",
    "            try:\n",
    "                # Load image\n",
    "                img_path = os.path.join(img_dir, filename)\n",
    "                img = Image.open(img_path).convert(\"RGBA\")\n",
    "\n",
    "                # Segment clothing\n",
    "                segmented_img = segment_clothing(img, clothes)\n",
    "\n",
    "                # Save segmented image to output directory as PNG\n",
    "                out_path = os.path.join(out_dir, filename.split('.')[0] + \".png\")\n",
    "                segmented_img.save(out_path)\n",
    "\n",
    "                print(f\"Segmented {filename} successfully.\")\n",
    "\n",
    "            except Exception as e:\n",
    "                print(f\"Error processing {filename}: {e}\")\n",
    "\n",
    "        else:\n",
    "            print(f\"Skipping {filename} as it is not a supported image file.\")"
   ]
  },
  {
   "cell_type": "markdown",
   "id": "d505f3c1-2c48-4aa2-8b54-8d100c67a0e2",
   "metadata": {},
   "source": [
    "# scrape website and create csv file"
   ]
  },
  {
   "cell_type": "code",
   "execution_count": 5,
   "id": "d5347dc7-3acb-45a0-a660-1373d10d79e2",
   "metadata": {
    "execution": {
     "iopub.execute_input": "2024-12-29T01:18:18.614164Z",
     "iopub.status.busy": "2024-12-29T01:18:18.613947Z",
     "iopub.status.idle": "2024-12-29T01:18:20.646882Z",
     "shell.execute_reply": "2024-12-29T01:18:20.646254Z"
    }
   },
   "outputs": [],
   "source": [
    "from playwright.async_api import async_playwright\n",
    "\n",
    "playwright = await async_playwright().start()\n",
    "\n",
    "browser = await playwright.chromium.launch(headless=False)\n",
    "\n",
    "page = await browser.new_page()"
   ]
  },
  {
   "cell_type": "code",
   "execution_count": 6,
   "id": "bdce2803-4160-423a-82d1-e5c5b26dcc58",
   "metadata": {
    "execution": {
     "iopub.execute_input": "2024-12-29T01:18:20.649950Z",
     "iopub.status.busy": "2024-12-29T01:18:20.649274Z",
     "iopub.status.idle": "2024-12-29T01:18:20.653048Z",
     "shell.execute_reply": "2024-12-29T01:18:20.652289Z"
    }
   },
   "outputs": [],
   "source": [
    "async def scroll_to_bottom(page):\n",
    "    \n",
    "    await page.evaluate(\"window.scrollTo(0, document.body.scrollHeight);\")"
   ]
  },
  {
   "cell_type": "markdown",
   "id": "8a5d531e-9342-41b4-9927-2e27b2af12b3",
   "metadata": {},
   "source": [
    "##### Ralph_Lauren"
   ]
  },
  {
   "cell_type": "code",
   "execution_count": 7,
   "id": "764df06e-4ca1-4f75-9490-d4ab295ff89b",
   "metadata": {
    "execution": {
     "iopub.execute_input": "2024-12-29T01:18:20.655623Z",
     "iopub.status.busy": "2024-12-29T01:18:20.655379Z",
     "iopub.status.idle": "2024-12-29T01:18:23.211017Z",
     "shell.execute_reply": "2024-12-29T01:18:23.210222Z"
    }
   },
   "outputs": [
    {
     "data": {
      "text/plain": [
       "<Response url='https://www.ralphlauren.com/women-clothing-shop-new-arrivals' request=<Request url='https://www.ralphlauren.com/women-clothing-shop-new-arrivals' method='GET'>>"
      ]
     },
     "execution_count": 7,
     "metadata": {},
     "output_type": "execute_result"
    }
   ],
   "source": [
    "RL_url = \"https://www.ralphlauren.com/women-clothing-shop-new-arrivals\" \n",
    "await page.goto(RL_url)"
   ]
  },
  {
   "cell_type": "code",
   "execution_count": 8,
   "id": "17ec1c4b-bacc-4dea-a11c-1b4f397452f7",
   "metadata": {
    "execution": {
     "iopub.execute_input": "2024-12-29T01:18:23.213621Z",
     "iopub.status.busy": "2024-12-29T01:18:23.213402Z",
     "iopub.status.idle": "2024-12-29T01:18:24.048873Z",
     "shell.execute_reply": "2024-12-29T01:18:24.048038Z"
    }
   },
   "outputs": [],
   "source": [
    "await page.wait_for_selector('button .ui-button-icon.ui-icon.ui-icon-closethick', state='visible', timeout=30000)\n",
    "await page.click('button .ui-button-icon.ui-icon.ui-icon-closethick')"
   ]
  },
  {
   "cell_type": "code",
   "execution_count": 9,
   "id": "c7cabe7c-91f8-42f2-8990-32c7febecc62",
   "metadata": {
    "execution": {
     "iopub.execute_input": "2024-12-29T01:18:24.052135Z",
     "iopub.status.busy": "2024-12-29T01:18:24.051637Z",
     "iopub.status.idle": "2024-12-29T01:18:24.547644Z",
     "shell.execute_reply": "2024-12-29T01:18:24.545911Z"
    }
   },
   "outputs": [],
   "source": [
    "RL = []\n",
    "try:\n",
    "    rl = await page.eval_on_selector_all(\n",
    "        \"[srcset]\",\n",
    "        \"elements => elements.map(el => el.getAttribute('srcset'))\"\n",
    "    )\n",
    "    RL.extend(rl)\n",
    "\n",
    "except:\n",
    "    print('done')"
   ]
  },
  {
   "cell_type": "markdown",
   "id": "a5913728-3b4e-494b-a47a-d8892956a5b4",
   "metadata": {},
   "source": [
    "#### Uniqlo"
   ]
  },
  {
   "cell_type": "code",
   "execution_count": 10,
   "id": "e419f092-6a17-46d8-98e9-a2fe70496b72",
   "metadata": {
    "execution": {
     "iopub.execute_input": "2024-12-29T01:18:24.552259Z",
     "iopub.status.busy": "2024-12-29T01:18:24.551910Z",
     "iopub.status.idle": "2024-12-29T01:18:29.877566Z",
     "shell.execute_reply": "2024-12-29T01:18:29.876948Z"
    }
   },
   "outputs": [],
   "source": [
    "uniqlo='https://www.uniqlo.com/us/en/feature/new/women'\n",
    "await page.goto(uniqlo)\n",
    "await scroll_to_bottom(page)\n",
    "await page.wait_for_timeout(1000)\n",
    "unq= await page.eval_on_selector_all(\n",
    "    \"div.fr-ec-product-tile-resize-wrapper img.fr-ec-image__img\",\n",
    "    \"elements => elements.map(e => e.src)\"\n",
    ")"
   ]
  },
  {
   "cell_type": "markdown",
   "id": "94e8c223-d90c-4ea9-b829-adf5d5e9dfcd",
   "metadata": {},
   "source": [
    "### Zara"
   ]
  },
  {
   "cell_type": "code",
   "execution_count": 11,
   "id": "f7505e77-1036-4696-9db5-b6bb10d435ce",
   "metadata": {
    "execution": {
     "iopub.execute_input": "2024-12-29T01:18:29.880179Z",
     "iopub.status.busy": "2024-12-29T01:18:29.879767Z",
     "iopub.status.idle": "2024-12-29T01:18:47.425795Z",
     "shell.execute_reply": "2024-12-29T01:18:47.425256Z"
    }
   },
   "outputs": [],
   "source": [
    "Zara = \"https://www.zara.com/us/en/woman-best-sellers-l5912.html?v1=2491343&regionGroupId=41\"\n",
    "await page.goto(Zara)\n",
    "await page.locator(\"body\").wait_for()\n",
    "last_height = await page.evaluate(\"document.body.scrollHeight\")\n",
    "try:\n",
    "    while True:\n",
    "        await page.evaluate(\"window.scrollTo({left: 0, top: document.body.scrollHeight, behavior: 'smooth'})\")\n",
    "        await page.wait_for_load_state(\"networkidle\", timeout=5000)\n",
    "        await page.wait_for_timeout(2000)\n",
    "        new_height = await page.evaluate(\"document.body.scrollHeight\")\n",
    "        if new_height == last_height:\n",
    "            break\n",
    "        last_height = new_height\n",
    "except:\n",
    "    print('done')"
   ]
  },
  {
   "cell_type": "code",
   "execution_count": 12,
   "id": "0ea27749-f859-45cf-972d-4e4eeadb4a4a",
   "metadata": {
    "execution": {
     "iopub.execute_input": "2024-12-29T01:18:47.427990Z",
     "iopub.status.busy": "2024-12-29T01:18:47.427792Z",
     "iopub.status.idle": "2024-12-29T01:18:47.445969Z",
     "shell.execute_reply": "2024-12-29T01:18:47.445440Z"
    }
   },
   "outputs": [],
   "source": [
    "zara = await page.eval_on_selector_all(\n",
    "    'img[data-qa-qualifier=\"media-image\"]',\n",
    "            \"elements => elements.map(e => e.src)\"\n",
    "        )\n",
    "zara = [e for e in zara if 'background' not in e]"
   ]
  },
  {
   "cell_type": "markdown",
   "id": "63c9765a-befe-4873-ac8f-54776e161126",
   "metadata": {},
   "source": [
    "### HM"
   ]
  },
  {
   "cell_type": "code",
   "execution_count": 13,
   "id": "7a35aa12-fc44-4122-adac-5559dae86bb2",
   "metadata": {
    "execution": {
     "iopub.execute_input": "2024-12-29T01:18:47.448231Z",
     "iopub.status.busy": "2024-12-29T01:18:47.447741Z",
     "iopub.status.idle": "2024-12-29T01:18:49.570262Z",
     "shell.execute_reply": "2024-12-29T01:18:49.569481Z"
    }
   },
   "outputs": [
    {
     "data": {
      "text/plain": [
       "<Response url='https://www2.hm.com/en_us/women/new-arrivals/view-all.html' request=<Request url='https://www2.hm.com/en_us/women/new-arrivals/view-all.html' method='GET'>>"
      ]
     },
     "execution_count": 13,
     "metadata": {},
     "output_type": "execute_result"
    }
   ],
   "source": [
    "hm = \"https://www2.hm.com/en_us/women/new-arrivals/view-all.html\"\n",
    "await page.goto(hm)"
   ]
  },
  {
   "cell_type": "code",
   "execution_count": 14,
   "id": "a3d15a0f-bd4a-4720-9c89-9d79fc26c9a4",
   "metadata": {
    "execution": {
     "iopub.execute_input": "2024-12-29T01:18:49.573028Z",
     "iopub.status.busy": "2024-12-29T01:18:49.572428Z",
     "iopub.status.idle": "2024-12-29T01:19:08.406163Z",
     "shell.execute_reply": "2024-12-29T01:19:08.405522Z"
    }
   },
   "outputs": [
    {
     "name": "stdout",
     "output_type": "stream",
     "text": [
      "done\n"
     ]
    }
   ],
   "source": [
    "all_links = []\n",
    "try:\n",
    "    while True:\n",
    "            hm = await page.eval_on_selector_all(\n",
    "                'img[imagetype=\"PRODUCT_IMAGE\"]',\n",
    "                \"elements => elements.map(e => e.srcset)\"\n",
    "            )\n",
    "            all_links.extend(hm)\n",
    "    \n",
    "            next_button = await page.query_selector('button[data-elid=\"pagination-hybrid-button\"]')\n",
    "            if next_button:\n",
    "                await next_button.click(timeout=6000)\n",
    "            else:\n",
    "                break\n",
    "except:\n",
    "    print('done')"
   ]
  },
  {
   "cell_type": "code",
   "execution_count": 15,
   "id": "3cdd837e-4058-420c-afdf-93ed5bb9d599",
   "metadata": {
    "execution": {
     "iopub.execute_input": "2024-12-29T01:19:08.408529Z",
     "iopub.status.busy": "2024-12-29T01:19:08.408031Z",
     "iopub.status.idle": "2024-12-29T01:19:08.412283Z",
     "shell.execute_reply": "2024-12-29T01:19:08.411722Z"
    }
   },
   "outputs": [],
   "source": [
    "hm = [h.split(', ')[-1] for h in all_links if len(h)>10]\n",
    "hm = [h.split(' ')[0] for h in hm]"
   ]
  },
  {
   "cell_type": "markdown",
   "id": "2a1b32ec-3fc4-42fb-897a-e05111173292",
   "metadata": {},
   "source": [
    "### Forever21"
   ]
  },
  {
   "cell_type": "markdown",
   "id": "8e19ea2e-6ea7-4ec5-bba6-ca604afc9187",
   "metadata": {},
   "source": [
    "## Make a dataframe"
   ]
  },
  {
   "cell_type": "code",
   "execution_count": 16,
   "id": "65973174-d39f-44c0-a84c-ddaa295b7e80",
   "metadata": {
    "execution": {
     "iopub.execute_input": "2024-12-29T01:19:08.414474Z",
     "iopub.status.busy": "2024-12-29T01:19:08.414079Z",
     "iopub.status.idle": "2024-12-29T01:19:08.417292Z",
     "shell.execute_reply": "2024-12-29T01:19:08.416728Z"
    }
   },
   "outputs": [],
   "source": [
    "links=[]\n",
    "d = pd.DataFrame({'ExistingColumn': range(100)})"
   ]
  },
  {
   "cell_type": "code",
   "execution_count": 17,
   "id": "51d1b687-ad93-4de6-8048-abd63e6f59cf",
   "metadata": {
    "execution": {
     "iopub.execute_input": "2024-12-29T01:19:08.419214Z",
     "iopub.status.busy": "2024-12-29T01:19:08.418975Z",
     "iopub.status.idle": "2024-12-29T01:19:08.422323Z",
     "shell.execute_reply": "2024-12-29T01:19:08.421797Z"
    }
   },
   "outputs": [],
   "source": [
    "def adjust_length(values, target_length):\n",
    "    if len(values) < target_length:\n",
    "        return values + ['N/A'] * (target_length - len(values))\n",
    "    else:\n",
    "        return values[:target_length]"
   ]
  },
  {
   "cell_type": "code",
   "execution_count": 18,
   "id": "3f8ee901-7fef-4d12-9f43-aaeb26560186",
   "metadata": {
    "execution": {
     "iopub.execute_input": "2024-12-29T01:19:08.424343Z",
     "iopub.status.busy": "2024-12-29T01:19:08.423958Z",
     "iopub.status.idle": "2024-12-29T01:19:08.428881Z",
     "shell.execute_reply": "2024-12-29T01:19:08.428337Z"
    }
   },
   "outputs": [],
   "source": [
    "rl_extended = adjust_length(RL, len(d))\n",
    "unq_extended = adjust_length(unq, len(d))\n",
    "zara_extended = adjust_length(zara, len(d))\n",
    "hm_extended = adjust_length(hm, len(d))\n",
    "\n",
    "d['Ralph_Lauren'] = rl_extended\n",
    "d['Uniqlo'] = unq_extended\n",
    "d['Zara'] = zara_extended\n",
    "d['HM'] = hm_extended\n",
    "\n",
    "links.append(d)"
   ]
  },
  {
   "cell_type": "code",
   "execution_count": 19,
   "id": "769088f5-5ac7-4580-987c-632dc47da2c0",
   "metadata": {
    "execution": {
     "iopub.execute_input": "2024-12-29T01:19:08.430766Z",
     "iopub.status.busy": "2024-12-29T01:19:08.430573Z",
     "iopub.status.idle": "2024-12-29T01:19:08.436668Z",
     "shell.execute_reply": "2024-12-29T01:19:08.436054Z"
    }
   },
   "outputs": [],
   "source": [
    "d.drop(columns='ExistingColumn', errors='ignore', inplace=True)\n",
    "d.to_csv('Image_Sources.csv',index=False)"
   ]
  },
  {
   "cell_type": "code",
   "execution_count": 20,
   "id": "24200ecf-d220-4309-8b16-5e894e614c91",
   "metadata": {
    "execution": {
     "iopub.execute_input": "2024-12-29T01:19:08.438704Z",
     "iopub.status.busy": "2024-12-29T01:19:08.438255Z",
     "iopub.status.idle": "2024-12-29T01:19:08.446405Z",
     "shell.execute_reply": "2024-12-29T01:19:08.445837Z"
    }
   },
   "outputs": [
    {
     "data": {
      "text/html": [
       "<div>\n",
       "<style scoped>\n",
       "    .dataframe tbody tr th:only-of-type {\n",
       "        vertical-align: middle;\n",
       "    }\n",
       "\n",
       "    .dataframe tbody tr th {\n",
       "        vertical-align: top;\n",
       "    }\n",
       "\n",
       "    .dataframe thead th {\n",
       "        text-align: right;\n",
       "    }\n",
       "</style>\n",
       "<table border=\"1\" class=\"dataframe\">\n",
       "  <thead>\n",
       "    <tr style=\"text-align: right;\">\n",
       "      <th></th>\n",
       "      <th>Ralph_Lauren</th>\n",
       "      <th>Uniqlo</th>\n",
       "      <th>Zara</th>\n",
       "      <th>HM</th>\n",
       "    </tr>\n",
       "  </thead>\n",
       "  <tbody>\n",
       "    <tr>\n",
       "      <th>0</th>\n",
       "      <td>https://dtcralphlauren.scene7.com/is/image/Pol...</td>\n",
       "      <td>https://image.uniqlo.com/UQ/ST3/us/imagesgoods...</td>\n",
       "      <td>https://static.zara.net/assets/public/9291/eaf...</td>\n",
       "      <td>https://image.hm.com/assets/hm/48/90/4890985a8...</td>\n",
       "    </tr>\n",
       "    <tr>\n",
       "      <th>1</th>\n",
       "      <td>https://dtcralphlauren.scene7.com/is/image/Pol...</td>\n",
       "      <td>https://image.uniqlo.com/UQ/ST3/us/imagesgoods...</td>\n",
       "      <td>https://static.zara.net/assets/public/b82a/084...</td>\n",
       "      <td>https://image.hm.com/assets/hm/21/96/2196c5346...</td>\n",
       "    </tr>\n",
       "    <tr>\n",
       "      <th>2</th>\n",
       "      <td>https://dtcralphlauren.scene7.com/is/image/Pol...</td>\n",
       "      <td>https://image.uniqlo.com/UQ/ST3/us/imagesgoods...</td>\n",
       "      <td>https://static.zara.net/assets/public/c808/325...</td>\n",
       "      <td>https://image.hm.com/assets/hm/77/08/7708ce4e7...</td>\n",
       "    </tr>\n",
       "    <tr>\n",
       "      <th>3</th>\n",
       "      <td>https://dtcralphlauren.scene7.com/is/image/Pol...</td>\n",
       "      <td>https://image.uniqlo.com/UQ/ST3/us/imagesgoods...</td>\n",
       "      <td>https://static.zara.net/assets/public/590b/65f...</td>\n",
       "      <td>https://image.hm.com/assets/hm/35/ea/35ead136d...</td>\n",
       "    </tr>\n",
       "    <tr>\n",
       "      <th>4</th>\n",
       "      <td>https://dtcralphlauren.scene7.com/is/image/Pol...</td>\n",
       "      <td>https://image.uniqlo.com/UQ/ST3/us/imagesgoods...</td>\n",
       "      <td>https://static.zara.net/assets/public/3833/4c8...</td>\n",
       "      <td>https://image.hm.com/assets/hm/d8/c7/d8c7fdf02...</td>\n",
       "    </tr>\n",
       "  </tbody>\n",
       "</table>\n",
       "</div>"
      ],
      "text/plain": [
       "                                        Ralph_Lauren  \\\n",
       "0  https://dtcralphlauren.scene7.com/is/image/Pol...   \n",
       "1  https://dtcralphlauren.scene7.com/is/image/Pol...   \n",
       "2  https://dtcralphlauren.scene7.com/is/image/Pol...   \n",
       "3  https://dtcralphlauren.scene7.com/is/image/Pol...   \n",
       "4  https://dtcralphlauren.scene7.com/is/image/Pol...   \n",
       "\n",
       "                                              Uniqlo  \\\n",
       "0  https://image.uniqlo.com/UQ/ST3/us/imagesgoods...   \n",
       "1  https://image.uniqlo.com/UQ/ST3/us/imagesgoods...   \n",
       "2  https://image.uniqlo.com/UQ/ST3/us/imagesgoods...   \n",
       "3  https://image.uniqlo.com/UQ/ST3/us/imagesgoods...   \n",
       "4  https://image.uniqlo.com/UQ/ST3/us/imagesgoods...   \n",
       "\n",
       "                                                Zara  \\\n",
       "0  https://static.zara.net/assets/public/9291/eaf...   \n",
       "1  https://static.zara.net/assets/public/b82a/084...   \n",
       "2  https://static.zara.net/assets/public/c808/325...   \n",
       "3  https://static.zara.net/assets/public/590b/65f...   \n",
       "4  https://static.zara.net/assets/public/3833/4c8...   \n",
       "\n",
       "                                                  HM  \n",
       "0  https://image.hm.com/assets/hm/48/90/4890985a8...  \n",
       "1  https://image.hm.com/assets/hm/21/96/2196c5346...  \n",
       "2  https://image.hm.com/assets/hm/77/08/7708ce4e7...  \n",
       "3  https://image.hm.com/assets/hm/35/ea/35ead136d...  \n",
       "4  https://image.hm.com/assets/hm/d8/c7/d8c7fdf02...  "
      ]
     },
     "execution_count": 20,
     "metadata": {},
     "output_type": "execute_result"
    }
   ],
   "source": [
    "d.head()"
   ]
  },
  {
   "cell_type": "markdown",
   "id": "ba13ed4e-4dd4-49f3-bf7b-2b25227ecc65",
   "metadata": {},
   "source": [
    "# Read url from the csv file & Segmentation"
   ]
  },
  {
   "cell_type": "code",
   "execution_count": 21,
   "id": "dc47414f-5ad5-41a4-b727-cdaf188b8568",
   "metadata": {
    "execution": {
     "iopub.execute_input": "2024-12-29T01:19:08.448604Z",
     "iopub.status.busy": "2024-12-29T01:19:08.448197Z",
     "iopub.status.idle": "2024-12-29T01:19:08.451403Z",
     "shell.execute_reply": "2024-12-29T01:19:08.450809Z"
    }
   },
   "outputs": [],
   "source": [
    "import urllib.request\n",
    "from urllib.parse import unquote, urlparse\n",
    "import re\n",
    "import os"
   ]
  },
  {
   "cell_type": "code",
   "execution_count": 22,
   "id": "1a74af77-f286-4d54-9bc7-0f3ff2090db1",
   "metadata": {
    "execution": {
     "iopub.execute_input": "2024-12-29T01:19:08.453550Z",
     "iopub.status.busy": "2024-12-29T01:19:08.453042Z",
     "iopub.status.idle": "2024-12-29T01:19:08.457841Z",
     "shell.execute_reply": "2024-12-29T01:19:08.457224Z"
    }
   },
   "outputs": [],
   "source": [
    "d = pd.read_csv('Image_Sources.csv')"
   ]
  },
  {
   "cell_type": "code",
   "execution_count": 23,
   "id": "fab12487-4855-413a-aaeb-f7394d9391b0",
   "metadata": {
    "execution": {
     "iopub.execute_input": "2024-12-29T01:19:08.460006Z",
     "iopub.status.busy": "2024-12-29T01:19:08.459629Z",
     "iopub.status.idle": "2024-12-29T01:19:08.466191Z",
     "shell.execute_reply": "2024-12-29T01:19:08.465660Z"
    }
   },
   "outputs": [
    {
     "data": {
      "text/html": [
       "<div>\n",
       "<style scoped>\n",
       "    .dataframe tbody tr th:only-of-type {\n",
       "        vertical-align: middle;\n",
       "    }\n",
       "\n",
       "    .dataframe tbody tr th {\n",
       "        vertical-align: top;\n",
       "    }\n",
       "\n",
       "    .dataframe thead th {\n",
       "        text-align: right;\n",
       "    }\n",
       "</style>\n",
       "<table border=\"1\" class=\"dataframe\">\n",
       "  <thead>\n",
       "    <tr style=\"text-align: right;\">\n",
       "      <th></th>\n",
       "      <th>Ralph_Lauren</th>\n",
       "      <th>Uniqlo</th>\n",
       "      <th>Zara</th>\n",
       "      <th>HM</th>\n",
       "    </tr>\n",
       "  </thead>\n",
       "  <tbody>\n",
       "    <tr>\n",
       "      <th>0</th>\n",
       "      <td>https://dtcralphlauren.scene7.com/is/image/Pol...</td>\n",
       "      <td>https://image.uniqlo.com/UQ/ST3/us/imagesgoods...</td>\n",
       "      <td>https://static.zara.net/assets/public/9291/eaf...</td>\n",
       "      <td>https://image.hm.com/assets/hm/48/90/4890985a8...</td>\n",
       "    </tr>\n",
       "    <tr>\n",
       "      <th>1</th>\n",
       "      <td>https://dtcralphlauren.scene7.com/is/image/Pol...</td>\n",
       "      <td>https://image.uniqlo.com/UQ/ST3/us/imagesgoods...</td>\n",
       "      <td>https://static.zara.net/assets/public/b82a/084...</td>\n",
       "      <td>https://image.hm.com/assets/hm/21/96/2196c5346...</td>\n",
       "    </tr>\n",
       "    <tr>\n",
       "      <th>2</th>\n",
       "      <td>https://dtcralphlauren.scene7.com/is/image/Pol...</td>\n",
       "      <td>https://image.uniqlo.com/UQ/ST3/us/imagesgoods...</td>\n",
       "      <td>https://static.zara.net/assets/public/c808/325...</td>\n",
       "      <td>https://image.hm.com/assets/hm/77/08/7708ce4e7...</td>\n",
       "    </tr>\n",
       "    <tr>\n",
       "      <th>3</th>\n",
       "      <td>https://dtcralphlauren.scene7.com/is/image/Pol...</td>\n",
       "      <td>https://image.uniqlo.com/UQ/ST3/us/imagesgoods...</td>\n",
       "      <td>https://static.zara.net/assets/public/590b/65f...</td>\n",
       "      <td>https://image.hm.com/assets/hm/35/ea/35ead136d...</td>\n",
       "    </tr>\n",
       "    <tr>\n",
       "      <th>4</th>\n",
       "      <td>https://dtcralphlauren.scene7.com/is/image/Pol...</td>\n",
       "      <td>https://image.uniqlo.com/UQ/ST3/us/imagesgoods...</td>\n",
       "      <td>https://static.zara.net/assets/public/3833/4c8...</td>\n",
       "      <td>https://image.hm.com/assets/hm/d8/c7/d8c7fdf02...</td>\n",
       "    </tr>\n",
       "  </tbody>\n",
       "</table>\n",
       "</div>"
      ],
      "text/plain": [
       "                                        Ralph_Lauren  \\\n",
       "0  https://dtcralphlauren.scene7.com/is/image/Pol...   \n",
       "1  https://dtcralphlauren.scene7.com/is/image/Pol...   \n",
       "2  https://dtcralphlauren.scene7.com/is/image/Pol...   \n",
       "3  https://dtcralphlauren.scene7.com/is/image/Pol...   \n",
       "4  https://dtcralphlauren.scene7.com/is/image/Pol...   \n",
       "\n",
       "                                              Uniqlo  \\\n",
       "0  https://image.uniqlo.com/UQ/ST3/us/imagesgoods...   \n",
       "1  https://image.uniqlo.com/UQ/ST3/us/imagesgoods...   \n",
       "2  https://image.uniqlo.com/UQ/ST3/us/imagesgoods...   \n",
       "3  https://image.uniqlo.com/UQ/ST3/us/imagesgoods...   \n",
       "4  https://image.uniqlo.com/UQ/ST3/us/imagesgoods...   \n",
       "\n",
       "                                                Zara  \\\n",
       "0  https://static.zara.net/assets/public/9291/eaf...   \n",
       "1  https://static.zara.net/assets/public/b82a/084...   \n",
       "2  https://static.zara.net/assets/public/c808/325...   \n",
       "3  https://static.zara.net/assets/public/590b/65f...   \n",
       "4  https://static.zara.net/assets/public/3833/4c8...   \n",
       "\n",
       "                                                  HM  \n",
       "0  https://image.hm.com/assets/hm/48/90/4890985a8...  \n",
       "1  https://image.hm.com/assets/hm/21/96/2196c5346...  \n",
       "2  https://image.hm.com/assets/hm/77/08/7708ce4e7...  \n",
       "3  https://image.hm.com/assets/hm/35/ea/35ead136d...  \n",
       "4  https://image.hm.com/assets/hm/d8/c7/d8c7fdf02...  "
      ]
     },
     "execution_count": 23,
     "metadata": {},
     "output_type": "execute_result"
    }
   ],
   "source": [
    "d.head()"
   ]
  },
  {
   "cell_type": "code",
   "execution_count": 24,
   "id": "b89dec02-a21d-4db5-afb1-e233361376f2",
   "metadata": {
    "execution": {
     "iopub.execute_input": "2024-12-29T01:19:08.468384Z",
     "iopub.status.busy": "2024-12-29T01:19:08.467989Z",
     "iopub.status.idle": "2024-12-29T01:29:13.559226Z",
     "shell.execute_reply": "2024-12-29T01:29:13.558611Z"
    }
   },
   "outputs": [
    {
     "name": "stdout",
     "output_type": "stream",
     "text": [
      "This image cound't be found: https://dtcralphlauren.scene7.com/is/image/PoloGSI/s7-AI211959908001_alternate1?$plpDeskRF$\n",
      "list index out of range\n"
     ]
    },
    {
     "name": "stdout",
     "output_type": "stream",
     "text": [
      "This image cound't be found: https://dtcralphlauren.scene7.com/is/image/PoloGSI/s7-AI211959908001_alternate1?$plpMob$\n",
      "list index out of range\n"
     ]
    },
    {
     "name": "stdout",
     "output_type": "stream",
     "text": [
      "This image cound't be found: https://dtcralphlauren.scene7.com/is/image/PoloGSI/s7-AI211959051001_lifestyle?$plpDeskRF$\n",
      "list index out of range\n"
     ]
    },
    {
     "name": "stdout",
     "output_type": "stream",
     "text": [
      "This image cound't be found: https://dtcralphlauren.scene7.com/is/image/PoloGSI/s7-AI211959051001_lifestyle?$plpMob$\n",
      "list index out of range\n"
     ]
    },
    {
     "name": "stdout",
     "output_type": "stream",
     "text": [
      "This image cound't be found: https://image.hm.com/assets/hm/71/2c/712cb8022dcf7a59473641389050921b4c946b8e.jpg?imwidth=1536\n",
      "list index out of range\n"
     ]
    }
   ],
   "source": [
    "path_files=[]\n",
    "dic={}\n",
    "for col in d.columns:\n",
    "    links=d[col].head(30)\n",
    "    # Create a folder for the current column\n",
    "    os.makedirs(col, exist_ok=True)\n",
    "    paths=[]\n",
    "     \n",
    "    for l in links:\n",
    "        try:\n",
    "            # URL of the file to download\n",
    "            url = l\n",
    "\n",
    "            # Extract the filename from the URL\n",
    "            filename = url.split(\"/\")[-1]  # Default fallback if Content-Disposition is not available\n",
    "            filename = unquote(filename)  # Decode URL-encoded characters in the filename\n",
    "\n",
    "            # Combine column name folder path with filename\n",
    "            filepath = os.path.join(col, filename)\n",
    "\n",
    "            # Define custom headers\n",
    "            headers = {'User-Agent': 'Mozilla/5.0 (Windows NT 10.0; Win64; x64) AppleWebKit/537.36 (KHTML, like Gecko) Chrome/91.0.4472.124 Safari/537.36'}\n",
    "\n",
    "            # Create a request object with headers\n",
    "            request = urllib.request.Request(url, headers=headers)\n",
    "\n",
    "            # Download and save the file\n",
    "            try:\n",
    "                with urllib.request.urlopen(request) as response, open(filepath, 'wb') as file:\n",
    "                    file.write(response.read())\n",
    "\n",
    "            except urllib.error.HTTPError as e:\n",
    "                print(f\"HTTPError: {e.code} - {e.reason}\")\n",
    "            except Exception as e:\n",
    "                print(f\"Error: {e}\")           \n",
    "            \n",
    "            # urllib.request.urlretrieve(url, filepath)            \n",
    "            time.sleep(1)\n",
    "                        \n",
    "            # open the file\n",
    "            image=Image.open(filepath)\n",
    "\n",
    "            # segment the clothes\n",
    "            result = segment_clothing(img=image)\n",
    "            result.save(f'{filepath}.png')\n",
    "            paths.append(f'{filepath}.png')\n",
    "    \n",
    "        except Exception as e:\n",
    "            print(\"This image cound't be found:\",l)\n",
    "            print(e)\n",
    "\n",
    "    dic[col]=paths\n",
    "    path_files.append(dic)"
   ]
  },
  {
   "cell_type": "markdown",
   "id": "f55c89a5-4b97-48d2-82a2-bf82698140ff",
   "metadata": {},
   "source": [
    "# read the colors"
   ]
  },
  {
   "cell_type": "code",
   "execution_count": 25,
   "id": "d9064f7f-3e03-43ae-b2c0-806b76160eb5",
   "metadata": {
    "execution": {
     "iopub.execute_input": "2024-12-29T01:29:13.561716Z",
     "iopub.status.busy": "2024-12-29T01:29:13.561326Z",
     "iopub.status.idle": "2024-12-29T01:29:13.564277Z",
     "shell.execute_reply": "2024-12-29T01:29:13.563737Z"
    }
   },
   "outputs": [],
   "source": [
    "# pip install Pillow scikit-learn"
   ]
  },
  {
   "cell_type": "code",
   "execution_count": 26,
   "id": "cb35a93c-7918-4065-a6ae-0a095da5a9a4",
   "metadata": {
    "execution": {
     "iopub.execute_input": "2024-12-29T01:29:13.566311Z",
     "iopub.status.busy": "2024-12-29T01:29:13.565946Z",
     "iopub.status.idle": "2024-12-29T01:29:13.569708Z",
     "shell.execute_reply": "2024-12-29T01:29:13.569210Z"
    }
   },
   "outputs": [],
   "source": [
    "def extract_colors(image_path, num_colors=5):\n",
    "    img = Image.open(image_path)\n",
    "    # Ensure image is in RGB format\n",
    "    img = img.convert('RGB')\n",
    "    \n",
    "    img = img.resize((256, 256))  # Resize for faster processing\n",
    "    img_array = np.array(img)\n",
    "    img_array = img_array.reshape((-1, 3))\n",
    "\n",
    "    kmeans = KMeans(n_clusters=num_colors)\n",
    "    kmeans.fit(img_array)\n",
    "    colors = kmeans.cluster_centers_.astype(int)\n",
    "    return colors"
   ]
  },
  {
   "cell_type": "markdown",
   "id": "fff0896f-32f8-4f98-8850-f35f95b504a2",
   "metadata": {},
   "source": [
    "# Make a color palette"
   ]
  },
  {
   "cell_type": "code",
   "execution_count": 27,
   "id": "143a4dae-0d61-4ed8-93bb-437408d7d7e9",
   "metadata": {
    "execution": {
     "iopub.execute_input": "2024-12-29T01:29:13.571630Z",
     "iopub.status.busy": "2024-12-29T01:29:13.571291Z",
     "iopub.status.idle": "2024-12-29T01:29:13.574396Z",
     "shell.execute_reply": "2024-12-29T01:29:13.573765Z"
    }
   },
   "outputs": [],
   "source": [
    "def luminance(color):\n",
    "    r, g, b = color\n",
    "    return 0.299 * r + 0.587 * g + 0.114 * b"
   ]
  },
  {
   "cell_type": "code",
   "execution_count": 28,
   "id": "c2967472-0e71-46ad-9947-2b592b79530c",
   "metadata": {
    "execution": {
     "iopub.execute_input": "2024-12-29T01:29:13.576522Z",
     "iopub.status.busy": "2024-12-29T01:29:13.576163Z",
     "iopub.status.idle": "2024-12-29T01:29:25.695252Z",
     "shell.execute_reply": "2024-12-29T01:29:25.693942Z"
    }
   },
   "outputs": [
    {
     "name": "stdout",
     "output_type": "stream",
     "text": [
      "Total palettes generated: 4\n"
     ]
    }
   ],
   "source": [
    "palettes = []\n",
    "for brand, paths in path_files[0].items():\n",
    "    image_paths = paths  \n",
    "    \n",
    "    if not image_paths:\n",
    "        print(f\"No image paths for {brand}\")\n",
    "        continue\n",
    "    \n",
    "    all_colors = []\n",
    "    \n",
    "    try:\n",
    "        for path in image_paths:\n",
    "            colors = extract_colors(path)\n",
    "            all_colors.extend(colors)\n",
    "        \n",
    "        if not all_colors:\n",
    "            print(f\"No colors extracted for {brand}\")\n",
    "            continue\n",
    "        \n",
    "        all_colors = sorted(all_colors, key=luminance)\n",
    "        final_palette = KMeans(n_clusters=10).fit(all_colors).cluster_centers_.astype(int)\n",
    "        palettes.append(final_palette)\n",
    "        \n",
    "        # Create a plot for each brand's palette\n",
    "        plt.figure(figsize=(10, 2))\n",
    "        plt.axis('off')\n",
    "        plt.subplots_adjust(left=0, right=1, top=1, bottom=0)\n",
    "        \n",
    "        # Plot color squares\n",
    "        for i, color in enumerate(final_palette):\n",
    "            plt.fill([i, i+1, i+1, i], [0, 0, 1, 1], color=color/255.0)\n",
    "        \n",
    "        plt.savefig(f'{brand}.png', transparent=True, bbox_inches='tight', pad_inches=0)\n",
    "        plt.close()  # Close the figure to free up memory\n",
    "    \n",
    "    except Exception as e:\n",
    "        print(f\"{brand} has an error: {e}\")\n",
    "\n",
    "print(f\"Total palettes generated: {len(palettes)}\")"
   ]
  },
  {
   "cell_type": "markdown",
   "id": "e5ba21ad-ca7d-4164-b177-e51f3ca6995f",
   "metadata": {},
   "source": [
    "I consult google for this"
   ]
  },
  {
   "cell_type": "code",
   "execution_count": 29,
   "id": "4cbe3a14-e4aa-428d-93ae-005a031588a9",
   "metadata": {
    "execution": {
     "iopub.execute_input": "2024-12-29T01:29:25.698012Z",
     "iopub.status.busy": "2024-12-29T01:29:25.697788Z",
     "iopub.status.idle": "2024-12-29T01:29:25.856667Z",
     "shell.execute_reply": "2024-12-29T01:29:25.856034Z"
    }
   },
   "outputs": [
    {
     "data": {
      "image/png": "[encoded data removed]",
      "text/plain": [
       "<Figure size 400x400 with 1 Axes>"
      ]
     },
     "metadata": {},
     "output_type": "display_data"
    }
   ],
   "source": [
    "# Convert the final palette to a usable color format\n",
    "final_colors = [tuple(color / 255) for palette in palettes for color in palette]  \n",
    "final_colors = sorted(final_colors, key=luminance)\n",
    "\n",
    "# Number of colors\n",
    "num_colors = len(final_colors)\n",
    "\n",
    "# Angles\n",
    "angles = np.linspace(0, 2 * np.pi, num_colors, endpoint=False)\n",
    "\n",
    "# Create a polar plot\n",
    "fig, ax = plt.subplots(subplot_kw={'projection': 'polar'}, figsize=(4, 4))\n",
    "bars = ax.bar(angles, np.ones(num_colors), color=final_colors, width=2 * np.pi / num_colors)\n",
    "\n",
    "# Remove radial and angular ticks\n",
    "ax.set_yticks([])\n",
    "ax.set_xticks([])\n",
    "ax.spines['polar'].set_visible(False)\n",
    "\n",
    "plt.savefig('color_wheel.png', transparent=True)"
   ]
  },
  {
   "cell_type": "markdown",
   "id": "01ef4718-a5fa-4fd1-ae04-8337909fb729",
   "metadata": {},
   "source": [
    "# Find the most commonly appeared color"
   ]
  },
  {
   "cell_type": "code",
   "execution_count": 30,
   "id": "9df94d49-7dae-49ba-b218-05b9316a29a3",
   "metadata": {
    "execution": {
     "iopub.execute_input": "2024-12-29T01:29:25.858884Z",
     "iopub.status.busy": "2024-12-29T01:29:25.858515Z",
     "iopub.status.idle": "2024-12-29T01:29:25.861434Z",
     "shell.execute_reply": "2024-12-29T01:29:25.860887Z"
    }
   },
   "outputs": [],
   "source": [
    "from collections import Counter"
   ]
  },
  {
   "cell_type": "code",
   "execution_count": 31,
   "id": "9ee060f3-3ab7-49aa-9b91-225172f9bb70",
   "metadata": {
    "execution": {
     "iopub.execute_input": "2024-12-29T01:29:25.863330Z",
     "iopub.status.busy": "2024-12-29T01:29:25.863106Z",
     "iopub.status.idle": "2024-12-29T01:29:26.015679Z",
     "shell.execute_reply": "2024-12-29T01:29:26.015033Z"
    }
   },
   "outputs": [
    {
     "data": {
      "image/png": "[encoded data removed]",
      "text/plain": [
       "<Figure size 400x400 with 1 Axes>"
      ]
     },
     "metadata": {},
     "output_type": "display_data"
    }
   ],
   "source": [
    "color_counts = Counter(final_colors)\n",
    "most_common_color, _ = color_counts.most_common(1)[0]\n",
    "\n",
    "fig2, ax2 = plt.subplots(subplot_kw={'projection': 'polar'}, figsize=(4, 4))\n",
    "ax2.bar(angles, np.ones(num_colors), color=[most_common_color] * num_colors, width=2 * np.pi / num_colors)\n",
    "\n",
    "\n",
    "ax2.set_yticks([])\n",
    "ax2.set_xticks([])\n",
    "ax2.spines['polar'].set_visible(False)\n",
    "\n",
    "plt.savefig('most_common_color_wheel.png', transparent=True)"
   ]
  },
  {
   "cell_type": "markdown",
   "id": "40b06667-ad3a-4194-9d10-7f032f14af7f",
   "metadata": {},
   "source": [
    "# Build a color count table"
   ]
  },
  {
   "cell_type": "code",
   "execution_count": 32,
   "id": "ee645cbf-4643-4828-b0ce-9d6e89ad7218",
   "metadata": {
    "execution": {
     "iopub.execute_input": "2024-12-29T01:29:26.017674Z",
     "iopub.status.busy": "2024-12-29T01:29:26.017462Z",
     "iopub.status.idle": "2024-12-29T01:29:26.020705Z",
     "shell.execute_reply": "2024-12-29T01:29:26.020137Z"
    }
   },
   "outputs": [],
   "source": [
    "if os.path.exists(\"latest_color_grids.png\"):\n",
    "    # Rename the existing file\n",
    "    os.rename(\"latest_color_grids.png\", \"last_grids.png\")"
   ]
  },
  {
   "cell_type": "code",
   "execution_count": 33,
   "id": "2bf7993a-d394-4349-a813-991fb0010e72",
   "metadata": {
    "execution": {
     "iopub.execute_input": "2024-12-29T01:29:26.022911Z",
     "iopub.status.busy": "2024-12-29T01:29:26.022499Z",
     "iopub.status.idle": "2024-12-29T01:29:26.026221Z",
     "shell.execute_reply": "2024-12-29T01:29:26.025611Z"
    }
   },
   "outputs": [],
   "source": [
    "import math\n",
    "total_colors = len(final_colors)\n",
    "cols = math.ceil(math.sqrt(total_colors))  # Number of columns\n",
    "rows = math.ceil(total_colors / cols)    "
   ]
  },
  {
   "cell_type": "code",
   "execution_count": 34,
   "id": "1dd8ef53-3d2d-4bfd-a09a-85eb50bd8fab",
   "metadata": {
    "execution": {
     "iopub.execute_input": "2024-12-29T01:29:26.028393Z",
     "iopub.status.busy": "2024-12-29T01:29:26.027957Z",
     "iopub.status.idle": "2024-12-29T01:29:26.031140Z",
     "shell.execute_reply": "2024-12-29T01:29:26.030549Z"
    }
   },
   "outputs": [],
   "source": [
    "rows = 9\n",
    "cols = 10"
   ]
  },
  {
   "cell_type": "code",
   "execution_count": 35,
   "id": "e172c038-c6ea-4f63-aea0-3d262ba0a99d",
   "metadata": {
    "execution": {
     "iopub.execute_input": "2024-12-29T01:29:26.033063Z",
     "iopub.status.busy": "2024-12-29T01:29:26.032866Z",
     "iopub.status.idle": "2024-12-29T01:29:26.110695Z",
     "shell.execute_reply": "2024-12-29T01:29:26.110012Z"
    }
   },
   "outputs": [
    {
     "data": {
      "image/png": "[encoded data removed]",
      "text/plain": [
       "<Figure size 500x500 with 1 Axes>"
      ]
     },
     "metadata": {},
     "output_type": "display_data"
    }
   ],
   "source": [
    "num_colors = len(final_colors)\n",
    "rows = int(np.ceil(np.sqrt(num_colors)))\n",
    "cols = rows\n",
    "\n",
    "# Create the grid plot\n",
    "fig, ax = plt.subplots(figsize=(5, 5))\n",
    "ax.axis('off')  # Turn off axes\n",
    "\n",
    "# Create the grid\n",
    "for idx, color in enumerate(final_colors):\n",
    "    row = idx // cols\n",
    "    col = idx % cols\n",
    "    ax.add_patch(plt.Rectangle((col, -row), 1, 1, color=color))\n",
    "\n",
    "# Set the aspect and limits to make a square grid\n",
    "ax.set_xlim(0, cols)\n",
    "ax.set_ylim(-rows, 0)\n",
    "ax.set_aspect('equal')\n",
    "\n",
    "plt.savefig('latest_color_grids.png', transparent=True)"
   ]
  },
  {
   "cell_type": "markdown",
   "id": "161ae4d7-e7e0-4f54-93e4-4bf2e9774671",
   "metadata": {},
   "source": [
    "# create an color grid html"
   ]
  },
  {
   "cell_type": "code",
   "execution_count": 36,
   "id": "d225df2c-9681-4d99-8567-65cfc1d9ddbd",
   "metadata": {
    "execution": {
     "iopub.execute_input": "2024-12-29T01:29:26.112820Z",
     "iopub.status.busy": "2024-12-29T01:29:26.112441Z",
     "iopub.status.idle": "2024-12-29T01:29:26.119615Z",
     "shell.execute_reply": "2024-12-29T01:29:26.119048Z"
    }
   },
   "outputs": [
    {
     "name": "stdout",
     "output_type": "stream",
     "text": [
      "HTML file generated: color_grid.html\n"
     ]
    }
   ],
   "source": [
    "colors = [color for palette in palettes for color in palette]\n",
    "# Generate HTML\n",
    "html_content = \"<!DOCTYPE html>\\n<html>\\n<head>\\n<style>\\n\"\n",
    "html_content += \"\"\"\n",
    ".grid-container {\n",
    "    display: grid;\n",
    "    grid-template-columns: repeat(auto-fill, 60px);\n",
    "    gap: 5px;\n",
    "}\n",
    ".grid-item {\n",
    "    width: 60px;\n",
    "    height: 60px;\n",
    "    display: flex;\n",
    "    justify-content: center;\n",
    "    align-items: center;\n",
    "    font-size: 10px;\n",
    "    color: black;\n",
    "    border: 1px solid #ccc;\n",
    "    text-shadow: 0 0 2px white; \n",
    "}\n",
    "</style>\n",
    "</head>\\n<body>\\n<div class=\"grid-container\">\\n\"\"\"\n",
    "\n",
    "for index, color in enumerate(colors, 1):\n",
    "    rgb_value = f\"rgb({color[0]}, {color[1]}, {color[2]})\"\n",
    "    html_content += f'    <div class=\"grid-item\" style=\"background-color: {rgb_value};\">{color}</div>\\n'\n",
    "    \n",
    "    # Add a line break after every 10 items\n",
    "    if index % 10 == 0:\n",
    "        html_content += '</div>\\n<div class=\"grid-container\">\\n'\n",
    "\n",
    "if len(colors) % 10 != 0:\n",
    "    html_content += '</div>\\n'\n",
    "    \n",
    "html_content += \"</div>\\n</body>\\n</html>\"\n",
    "\n",
    "# Save to an HTML file\n",
    "with open(\"color_grids.html\", \"w\") as f:\n",
    "    f.write(html_content)\n",
    "\n",
    "print(\"HTML file generated: color_grid.html\")"
   ]
  },
  {
   "cell_type": "code",
   "execution_count": null,
   "id": "c399598e-686d-45f9-acdd-2e7e85778af2",
   "metadata": {},
   "outputs": [],
   "source": []
  }
 ],
 "metadata": {
  "kernelspec": {
   "display_name": "Python 3 (ipykernel)",
   "language": "python",
   "name": "python3"
  },
  "language_info": {
   "codemirror_mode": {
    "name": "ipython",
    "version": 3
   },
   "file_extension": ".py",
   "mimetype": "text/x-python",
   "name": "python",
   "nbconvert_exporter": "python",
   "pygments_lexer": "ipython3",
   "version": "3.10.15"
  },
  "widgets": {
   "application/vnd.jupyter.widget-state+json": {
    "state": {
     "05d23e67893f47c29d4edd80ad1fda09": {
      "model_module": "@jupyter-widgets/controls",
      "model_module_version": "2.0.0",
      "model_name": "HBoxModel",
      "state": {
       "_dom_classes": [],
       "_model_module": "@jupyter-widgets/controls",
       "_model_module_version": "2.0.0",
       "_model_name": "HBoxModel",
       "_view_count": null,
       "_view_module": "@jupyter-widgets/controls",
       "_view_module_version": "2.0.0",
       "_view_name": "HBoxView",
       "box_style": "",
       "children": [
        "IPY_MODEL_095d8c509a024eada3de77bfff9fc4e7",
        "IPY_MODEL_4e0796c6bb6b4d629249f99925f963ee",
        "IPY_MODEL_db9aca5bf6fa4b8bbe087a1f3be96e30"
       ],
       "layout": "IPY_MODEL_646d2e7c7e8e44eaa6be14899c31c76c",
       "tabbable": null,
       "tooltip": null
      }
     },
     "095d8c509a024eada3de77bfff9fc4e7": {
      "model_module": "@jupyter-widgets/controls",
      "model_module_version": "2.0.0",
      "model_name": "HTMLModel",
      "state": {
       "_dom_classes": [],
       "_model_module": "@jupyter-widgets/controls",
       "_model_module_version": "2.0.0",
       "_model_name": "HTMLModel",
       "_view_count": null,
       "_view_module": "@jupyter-widgets/controls",
       "_view_module_version": "2.0.0",
       "_view_name": "HTMLView",
       "description": "",
       "description_allow_html": false,
       "layout": "IPY_MODEL_f59e651d6a1f44229e9eb506830c252e",
       "placeholder": "​",
       "style": "IPY_MODEL_b1d84e92a3e648049c6d321db90cf5e8",
       "tabbable": null,
       "tooltip": null,
       "value": "preprocessor_config.json: 100%"
      }
     },
     "243296390d04412693a96cb108c93075": {
      "model_module": "@jupyter-widgets/controls",
      "model_module_version": "2.0.0",
      "model_name": "HTMLStyleModel",
      "state": {
       "_model_module": "@jupyter-widgets/controls",
       "_model_module_version": "2.0.0",
       "_model_name": "HTMLStyleModel",
       "_view_count": null,
       "_view_module": "@jupyter-widgets/base",
       "_view_module_version": "2.0.0",
       "_view_name": "StyleView",
       "background": null,
       "description_width": "",
       "font_size": null,
       "text_color": null
      }
     },
     "33f857f588a8495cbb0d7bf1a6e03696": {
      "model_module": "@jupyter-widgets/controls",
      "model_module_version": "2.0.0",
      "model_name": "HBoxModel",
      "state": {
       "_dom_classes": [],
       "_model_module": "@jupyter-widgets/controls",
       "_model_module_version": "2.0.0",
       "_model_name": "HBoxModel",
       "_view_count": null,
       "_view_module": "@jupyter-widgets/controls",
       "_view_module_version": "2.0.0",
       "_view_name": "HBoxView",
       "box_style": "",
       "children": [
        "IPY_MODEL_41795d3ad4a544b0a8263714c92609a5",
        "IPY_MODEL_3cf95cc419454630add52e883117de8c",
        "IPY_MODEL_dffe181540ab4cc9bf33d4d55f18eaab"
       ],
       "layout": "IPY_MODEL_3f668113e2d64f6686427e8cd2eb3def",
       "tabbable": null,
       "tooltip": null
      }
     },
     "3cf95cc419454630add52e883117de8c": {
      "model_module": "@jupyter-widgets/controls",
      "model_module_version": "2.0.0",
      "model_name": "FloatProgressModel",
      "state": {
       "_dom_classes": [],
       "_model_module": "@jupyter-widgets/controls",
       "_model_module_version": "2.0.0",
       "_model_name": "FloatProgressModel",
       "_view_count": null,
       "_view_module": "@jupyter-widgets/controls",
       "_view_module_version": "2.0.0",
       "_view_name": "ProgressView",
       "bar_style": "success",
       "description": "",
       "description_allow_html": false,
       "layout": "IPY_MODEL_e226bac2924c4036b3d2f1a5662d8022",
       "max": 109493236.0,
       "min": 0.0,
       "orientation": "horizontal",
       "style": "IPY_MODEL_e6bc2d6d0e3e47a2861f63ac1a5e2da6",
       "tabbable": null,
       "tooltip": null,
       "value": 109493236.0
      }
     },
     "3f668113e2d64f6686427e8cd2eb3def": {
      "model_module": "@jupyter-widgets/base",
      "model_module_version": "2.0.0",
      "model_name": "LayoutModel",
      "state": {
       "_model_module": "@jupyter-widgets/base",
       "_model_module_version": "2.0.0",
       "_model_name": "LayoutModel",
       "_view_count": null,
       "_view_module": "@jupyter-widgets/base",
       "_view_module_version": "2.0.0",
       "_view_name": "LayoutView",
       "align_content": null,
       "align_items": null,
       "align_self": null,
       "border_bottom": null,
       "border_left": null,
       "border_right": null,
       "border_top": null,
       "bottom": null,
       "display": null,
       "flex": null,
       "flex_flow": null,
       "grid_area": null,
       "grid_auto_columns": null,
       "grid_auto_flow": null,
       "grid_auto_rows": null,
       "grid_column": null,
       "grid_gap": null,
       "grid_row": null,
       "grid_template_areas": null,
       "grid_template_columns": null,
       "grid_template_rows": null,
       "height": null,
       "justify_content": null,
       "justify_items": null,
       "left": null,
       "margin": null,
       "max_height": null,
       "max_width": null,
       "min_height": null,
       "min_width": null,
       "object_fit": null,
       "object_position": null,
       "order": null,
       "overflow": null,
       "padding": null,
       "right": null,
       "top": null,
       "visibility": null,
       "width": null
      }
     },
     "41795d3ad4a544b0a8263714c92609a5": {
      "model_module": "@jupyter-widgets/controls",
      "model_module_version": "2.0.0",
      "model_name": "HTMLModel",
      "state": {
       "_dom_classes": [],
       "_model_module": "@jupyter-widgets/controls",
       "_model_module_version": "2.0.0",
       "_model_name": "HTMLModel",
       "_view_count": null,
       "_view_module": "@jupyter-widgets/controls",
       "_view_module_version": "2.0.0",
       "_view_name": "HTMLView",
       "description": "",
       "description_allow_html": false,
       "layout": "IPY_MODEL_ceafbd2e8e104c0083bb287e0c884ea9",
       "placeholder": "​",
       "style": "IPY_MODEL_83c49608a16c4baba77f3625c9839477",
       "tabbable": null,
       "tooltip": null,
       "value": "model.safetensors: 100%"
      }
     },
     "4d01d9015f4643d6b632fdfe10027475": {
      "model_module": "@jupyter-widgets/base",
      "model_module_version": "2.0.0",
      "model_name": "LayoutModel",
      "state": {
       "_model_module": "@jupyter-widgets/base",
       "_model_module_version": "2.0.0",
       "_model_name": "LayoutModel",
       "_view_count": null,
       "_view_module": "@jupyter-widgets/base",
       "_view_module_version": "2.0.0",
       "_view_name": "LayoutView",
       "align_content": null,
       "align_items": null,
       "align_self": null,
       "border_bottom": null,
       "border_left": null,
       "border_right": null,
       "border_top": null,
       "bottom": null,
       "display": null,
       "flex": null,
       "flex_flow": null,
       "grid_area": null,
       "grid_auto_columns": null,
       "grid_auto_flow": null,
       "grid_auto_rows": null,
       "grid_column": null,
       "grid_gap": null,
       "grid_row": null,
       "grid_template_areas": null,
       "grid_template_columns": null,
       "grid_template_rows": null,
       "height": null,
       "justify_content": null,
       "justify_items": null,
       "left": null,
       "margin": null,
       "max_height": null,
       "max_width": null,
       "min_height": null,
       "min_width": null,
       "object_fit": null,
       "object_position": null,
       "order": null,
       "overflow": null,
       "padding": null,
       "right": null,
       "top": null,
       "visibility": null,
       "width": null
      }
     },
     "4e0796c6bb6b4d629249f99925f963ee": {
      "model_module": "@jupyter-widgets/controls",
      "model_module_version": "2.0.0",
      "model_name": "FloatProgressModel",
      "state": {
       "_dom_classes": [],
       "_model_module": "@jupyter-widgets/controls",
       "_model_module_version": "2.0.0",
       "_model_name": "FloatProgressModel",
       "_view_count": null,
       "_view_module": "@jupyter-widgets/controls",
       "_view_module_version": "2.0.0",
       "_view_name": "ProgressView",
       "bar_style": "success",
       "description": "",
       "description_allow_html": false,
       "layout": "IPY_MODEL_4d01d9015f4643d6b632fdfe10027475",
       "max": 271.0,
       "min": 0.0,
       "orientation": "horizontal",
       "style": "IPY_MODEL_7110d78cea86402094b0057725c54739",
       "tabbable": null,
       "tooltip": null,
       "value": 271.0
      }
     },
     "5884d3aef12b41ac87f973e2b2d879ad": {
      "model_module": "@jupyter-widgets/controls",
      "model_module_version": "2.0.0",
      "model_name": "ProgressStyleModel",
      "state": {
       "_model_module": "@jupyter-widgets/controls",
       "_model_module_version": "2.0.0",
       "_model_name": "ProgressStyleModel",
       "_view_count": null,
       "_view_module": "@jupyter-widgets/base",
       "_view_module_version": "2.0.0",
       "_view_name": "StyleView",
       "bar_color": null,
       "description_width": ""
      }
     },
     "646d2e7c7e8e44eaa6be14899c31c76c": {
      "model_module": "@jupyter-widgets/base",
      "model_module_version": "2.0.0",
      "model_name": "LayoutModel",
      "state": {
       "_model_module": "@jupyter-widgets/base",
       "_model_module_version": "2.0.0",
       "_model_name": "LayoutModel",
       "_view_count": null,
       "_view_module": "@jupyter-widgets/base",
       "_view_module_version": "2.0.0",
       "_view_name": "LayoutView",
       "align_content": null,
       "align_items": null,
       "align_self": null,
       "border_bottom": null,
       "border_left": null,
       "border_right": null,
       "border_top": null,
       "bottom": null,
       "display": null,
       "flex": null,
       "flex_flow": null,
       "grid_area": null,
       "grid_auto_columns": null,
       "grid_auto_flow": null,
       "grid_auto_rows": null,
       "grid_column": null,
       "grid_gap": null,
       "grid_row": null,
       "grid_template_areas": null,
       "grid_template_columns": null,
       "grid_template_rows": null,
       "height": null,
       "justify_content": null,
       "justify_items": null,
       "left": null,
       "margin": null,
       "max_height": null,
       "max_width": null,
       "min_height": null,
       "min_width": null,
       "object_fit": null,
       "object_position": null,
       "order": null,
       "overflow": null,
       "padding": null,
       "right": null,
       "top": null,
       "visibility": null,
       "width": null
      }
     },
     "660781ee934e4a73a4da9fddbfc94be1": {
      "model_module": "@jupyter-widgets/controls",
      "model_module_version": "2.0.0",
      "model_name": "HBoxModel",
      "state": {
       "_dom_classes": [],
       "_model_module": "@jupyter-widgets/controls",
       "_model_module_version": "2.0.0",
       "_model_name": "HBoxModel",
       "_view_count": null,
       "_view_module": "@jupyter-widgets/controls",
       "_view_module_version": "2.0.0",
       "_view_name": "HBoxView",
       "box_style": "",
       "children": [
        "IPY_MODEL_ab122a21cd734c2f84d4aa58a4c43f36",
        "IPY_MODEL_984bf69c73b34845b583167fd2853c9d",
        "IPY_MODEL_93654aebea154bc1a2c5601f7f1b34a0"
       ],
       "layout": "IPY_MODEL_afaa4b16baba4437a5e2faa786336183",
       "tabbable": null,
       "tooltip": null
      }
     },
     "7110d78cea86402094b0057725c54739": {
      "model_module": "@jupyter-widgets/controls",
      "model_module_version": "2.0.0",
      "model_name": "ProgressStyleModel",
      "state": {
       "_model_module": "@jupyter-widgets/controls",
       "_model_module_version": "2.0.0",
       "_model_name": "ProgressStyleModel",
       "_view_count": null,
       "_view_module": "@jupyter-widgets/base",
       "_view_module_version": "2.0.0",
       "_view_name": "StyleView",
       "bar_color": null,
       "description_width": ""
      }
     },
     "83c49608a16c4baba77f3625c9839477": {
      "model_module": "@jupyter-widgets/controls",
      "model_module_version": "2.0.0",
      "model_name": "HTMLStyleModel",
      "state": {
       "_model_module": "@jupyter-widgets/controls",
       "_model_module_version": "2.0.0",
       "_model_name": "HTMLStyleModel",
       "_view_count": null,
       "_view_module": "@jupyter-widgets/base",
       "_view_module_version": "2.0.0",
       "_view_name": "StyleView",
       "background": null,
       "description_width": "",
       "font_size": null,
       "text_color": null
      }
     },
     "93654aebea154bc1a2c5601f7f1b34a0": {
      "model_module": "@jupyter-widgets/controls",
      "model_module_version": "2.0.0",
      "model_name": "HTMLModel",
      "state": {
       "_dom_classes": [],
       "_model_module": "@jupyter-widgets/controls",
       "_model_module_version": "2.0.0",
       "_model_name": "HTMLModel",
       "_view_count": null,
       "_view_module": "@jupyter-widgets/controls",
       "_view_module_version": "2.0.0",
       "_view_name": "HTMLView",
       "description": "",
       "description_allow_html": false,
       "layout": "IPY_MODEL_f037fae6dae3439ebe4a1374c699b6b3",
       "placeholder": "​",
       "style": "IPY_MODEL_243296390d04412693a96cb108c93075",
       "tabbable": null,
       "tooltip": null,
       "value": " 1.73k/1.73k [00:00&lt;00:00, 188kB/s]"
      }
     },
     "97d9c10678f54d9b8dfc900ac8e7a3bf": {
      "model_module": "@jupyter-widgets/base",
      "model_module_version": "2.0.0",
      "model_name": "LayoutModel",
      "state": {
       "_model_module": "@jupyter-widgets/base",
       "_model_module_version": "2.0.0",
       "_model_name": "LayoutModel",
       "_view_count": null,
       "_view_module": "@jupyter-widgets/base",
       "_view_module_version": "2.0.0",
       "_view_name": "LayoutView",
       "align_content": null,
       "align_items": null,
       "align_self": null,
       "border_bottom": null,
       "border_left": null,
       "border_right": null,
       "border_top": null,
       "bottom": null,
       "display": null,
       "flex": null,
       "flex_flow": null,
       "grid_area": null,
       "grid_auto_columns": null,
       "grid_auto_flow": null,
       "grid_auto_rows": null,
       "grid_column": null,
       "grid_gap": null,
       "grid_row": null,
       "grid_template_areas": null,
       "grid_template_columns": null,
       "grid_template_rows": null,
       "height": null,
       "justify_content": null,
       "justify_items": null,
       "left": null,
       "margin": null,
       "max_height": null,
       "max_width": null,
       "min_height": null,
       "min_width": null,
       "object_fit": null,
       "object_position": null,
       "order": null,
       "overflow": null,
       "padding": null,
       "right": null,
       "top": null,
       "visibility": null,
       "width": null
      }
     },
     "984bf69c73b34845b583167fd2853c9d": {
      "model_module": "@jupyter-widgets/controls",
      "model_module_version": "2.0.0",
      "model_name": "FloatProgressModel",
      "state": {
       "_dom_classes": [],
       "_model_module": "@jupyter-widgets/controls",
       "_model_module_version": "2.0.0",
       "_model_name": "FloatProgressModel",
       "_view_count": null,
       "_view_module": "@jupyter-widgets/controls",
       "_view_module_version": "2.0.0",
       "_view_name": "ProgressView",
       "bar_style": "success",
       "description": "",
       "description_allow_html": false,
       "layout": "IPY_MODEL_97d9c10678f54d9b8dfc900ac8e7a3bf",
       "max": 1727.0,
       "min": 0.0,
       "orientation": "horizontal",
       "style": "IPY_MODEL_5884d3aef12b41ac87f973e2b2d879ad",
       "tabbable": null,
       "tooltip": null,
       "value": 1727.0
      }
     },
     "9c8ce18c40ca43188379a14f9e805fe4": {
      "model_module": "@jupyter-widgets/base",
      "model_module_version": "2.0.0",
      "model_name": "LayoutModel",
      "state": {
       "_model_module": "@jupyter-widgets/base",
       "_model_module_version": "2.0.0",
       "_model_name": "LayoutModel",
       "_view_count": null,
       "_view_module": "@jupyter-widgets/base",
       "_view_module_version": "2.0.0",
       "_view_name": "LayoutView",
       "align_content": null,
       "align_items": null,
       "align_self": null,
       "border_bottom": null,
       "border_left": null,
       "border_right": null,
       "border_top": null,
       "bottom": null,
       "display": null,
       "flex": null,
       "flex_flow": null,
       "grid_area": null,
       "grid_auto_columns": null,
       "grid_auto_flow": null,
       "grid_auto_rows": null,
       "grid_column": null,
       "grid_gap": null,
       "grid_row": null,
       "grid_template_areas": null,
       "grid_template_columns": null,
       "grid_template_rows": null,
       "height": null,
       "justify_content": null,
       "justify_items": null,
       "left": null,
       "margin": null,
       "max_height": null,
       "max_width": null,
       "min_height": null,
       "min_width": null,
       "object_fit": null,
       "object_position": null,
       "order": null,
       "overflow": null,
       "padding": null,
       "right": null,
       "top": null,
       "visibility": null,
       "width": null
      }
     },
     "ab122a21cd734c2f84d4aa58a4c43f36": {
      "model_module": "@jupyter-widgets/controls",
      "model_module_version": "2.0.0",
      "model_name": "HTMLModel",
      "state": {
       "_dom_classes": [],
       "_model_module": "@jupyter-widgets/controls",
       "_model_module_version": "2.0.0",
       "_model_name": "HTMLModel",
       "_view_count": null,
       "_view_module": "@jupyter-widgets/controls",
       "_view_module_version": "2.0.0",
       "_view_name": "HTMLView",
       "description": "",
       "description_allow_html": false,
       "layout": "IPY_MODEL_9c8ce18c40ca43188379a14f9e805fe4",
       "placeholder": "​",
       "style": "IPY_MODEL_b518fd9151544cdc96680c3af9f17091",
       "tabbable": null,
       "tooltip": null,
       "value": "config.json: 100%"
      }
     },
     "afaa4b16baba4437a5e2faa786336183": {
      "model_module": "@jupyter-widgets/base",
      "model_module_version": "2.0.0",
      "model_name": "LayoutModel",
      "state": {
       "_model_module": "@jupyter-widgets/base",
       "_model_module_version": "2.0.0",
       "_model_name": "LayoutModel",
       "_view_count": null,
       "_view_module": "@jupyter-widgets/base",
       "_view_module_version": "2.0.0",
       "_view_name": "LayoutView",
       "align_content": null,
       "align_items": null,
       "align_self": null,
       "border_bottom": null,
       "border_left": null,
       "border_right": null,
       "border_top": null,
       "bottom": null,
       "display": null,
       "flex": null,
       "flex_flow": null,
       "grid_area": null,
       "grid_auto_columns": null,
       "grid_auto_flow": null,
       "grid_auto_rows": null,
       "grid_column": null,
       "grid_gap": null,
       "grid_row": null,
       "grid_template_areas": null,
       "grid_template_columns": null,
       "grid_template_rows": null,
       "height": null,
       "justify_content": null,
       "justify_items": null,
       "left": null,
       "margin": null,
       "max_height": null,
       "max_width": null,
       "min_height": null,
       "min_width": null,
       "object_fit": null,
       "object_position": null,
       "order": null,
       "overflow": null,
       "padding": null,
       "right": null,
       "top": null,
       "visibility": null,
       "width": null
      }
     },
     "b1d84e92a3e648049c6d321db90cf5e8": {
      "model_module": "@jupyter-widgets/controls",
      "model_module_version": "2.0.0",
      "model_name": "HTMLStyleModel",
      "state": {
       "_model_module": "@jupyter-widgets/controls",
       "_model_module_version": "2.0.0",
       "_model_name": "HTMLStyleModel",
       "_view_count": null,
       "_view_module": "@jupyter-widgets/base",
       "_view_module_version": "2.0.0",
       "_view_name": "StyleView",
       "background": null,
       "description_width": "",
       "font_size": null,
       "text_color": null
      }
     },
     "b518fd9151544cdc96680c3af9f17091": {
      "model_module": "@jupyter-widgets/controls",
      "model_module_version": "2.0.0",
      "model_name": "HTMLStyleModel",
      "state": {
       "_model_module": "@jupyter-widgets/controls",
       "_model_module_version": "2.0.0",
       "_model_name": "HTMLStyleModel",
       "_view_count": null,
       "_view_module": "@jupyter-widgets/base",
       "_view_module_version": "2.0.0",
       "_view_name": "StyleView",
       "background": null,
       "description_width": "",
       "font_size": null,
       "text_color": null
      }
     },
     "b8113cb8da0d48cc8ce9ce3bc8a1c5a2": {
      "model_module": "@jupyter-widgets/base",
      "model_module_version": "2.0.0",
      "model_name": "LayoutModel",
      "state": {
       "_model_module": "@jupyter-widgets/base",
       "_model_module_version": "2.0.0",
       "_model_name": "LayoutModel",
       "_view_count": null,
       "_view_module": "@jupyter-widgets/base",
       "_view_module_version": "2.0.0",
       "_view_name": "LayoutView",
       "align_content": null,
       "align_items": null,
       "align_self": null,
       "border_bottom": null,
       "border_left": null,
       "border_right": null,
       "border_top": null,
       "bottom": null,
       "display": null,
       "flex": null,
       "flex_flow": null,
       "grid_area": null,
       "grid_auto_columns": null,
       "grid_auto_flow": null,
       "grid_auto_rows": null,
       "grid_column": null,
       "grid_gap": null,
       "grid_row": null,
       "grid_template_areas": null,
       "grid_template_columns": null,
       "grid_template_rows": null,
       "height": null,
       "justify_content": null,
       "justify_items": null,
       "left": null,
       "margin": null,
       "max_height": null,
       "max_width": null,
       "min_height": null,
       "min_width": null,
       "object_fit": null,
       "object_position": null,
       "order": null,
       "overflow": null,
       "padding": null,
       "right": null,
       "top": null,
       "visibility": null,
       "width": null
      }
     },
     "ceafbd2e8e104c0083bb287e0c884ea9": {
      "model_module": "@jupyter-widgets/base",
      "model_module_version": "2.0.0",
      "model_name": "LayoutModel",
      "state": {
       "_model_module": "@jupyter-widgets/base",
       "_model_module_version": "2.0.0",
       "_model_name": "LayoutModel",
       "_view_count": null,
       "_view_module": "@jupyter-widgets/base",
       "_view_module_version": "2.0.0",
       "_view_name": "LayoutView",
       "align_content": null,
       "align_items": null,
       "align_self": null,
       "border_bottom": null,
       "border_left": null,
       "border_right": null,
       "border_top": null,
       "bottom": null,
       "display": null,
       "flex": null,
       "flex_flow": null,
       "grid_area": null,
       "grid_auto_columns": null,
       "grid_auto_flow": null,
       "grid_auto_rows": null,
       "grid_column": null,
       "grid_gap": null,
       "grid_row": null,
       "grid_template_areas": null,
       "grid_template_columns": null,
       "grid_template_rows": null,
       "height": null,
       "justify_content": null,
       "justify_items": null,
       "left": null,
       "margin": null,
       "max_height": null,
       "max_width": null,
       "min_height": null,
       "min_width": null,
       "object_fit": null,
       "object_position": null,
       "order": null,
       "overflow": null,
       "padding": null,
       "right": null,
       "top": null,
       "visibility": null,
       "width": null
      }
     },
     "d406c8b861e24cf0b075140e80594a75": {
      "model_module": "@jupyter-widgets/controls",
      "model_module_version": "2.0.0",
      "model_name": "HTMLStyleModel",
      "state": {
       "_model_module": "@jupyter-widgets/controls",
       "_model_module_version": "2.0.0",
       "_model_name": "HTMLStyleModel",
       "_view_count": null,
       "_view_module": "@jupyter-widgets/base",
       "_view_module_version": "2.0.0",
       "_view_name": "StyleView",
       "background": null,
       "description_width": "",
       "font_size": null,
       "text_color": null
      }
     },
     "db9aca5bf6fa4b8bbe087a1f3be96e30": {
      "model_module": "@jupyter-widgets/controls",
      "model_module_version": "2.0.0",
      "model_name": "HTMLModel",
      "state": {
       "_dom_classes": [],
       "_model_module": "@jupyter-widgets/controls",
       "_model_module_version": "2.0.0",
       "_model_name": "HTMLModel",
       "_view_count": null,
       "_view_module": "@jupyter-widgets/controls",
       "_view_module_version": "2.0.0",
       "_view_name": "HTMLView",
       "description": "",
       "description_allow_html": false,
       "layout": "IPY_MODEL_dc5c0e4af5154d8da219fb0377584a66",
       "placeholder": "​",
       "style": "IPY_MODEL_d406c8b861e24cf0b075140e80594a75",
       "tabbable": null,
       "tooltip": null,
       "value": " 271/271 [00:00&lt;00:00, 40.8kB/s]"
      }
     },
     "dc5c0e4af5154d8da219fb0377584a66": {
      "model_module": "@jupyter-widgets/base",
      "model_module_version": "2.0.0",
      "model_name": "LayoutModel",
      "state": {
       "_model_module": "@jupyter-widgets/base",
       "_model_module_version": "2.0.0",
       "_model_name": "LayoutModel",
       "_view_count": null,
       "_view_module": "@jupyter-widgets/base",
       "_view_module_version": "2.0.0",
       "_view_name": "LayoutView",
       "align_content": null,
       "align_items": null,
       "align_self": null,
       "border_bottom": null,
       "border_left": null,
       "border_right": null,
       "border_top": null,
       "bottom": null,
       "display": null,
       "flex": null,
       "flex_flow": null,
       "grid_area": null,
       "grid_auto_columns": null,
       "grid_auto_flow": null,
       "grid_auto_rows": null,
       "grid_column": null,
       "grid_gap": null,
       "grid_row": null,
       "grid_template_areas": null,
       "grid_template_columns": null,
       "grid_template_rows": null,
       "height": null,
       "justify_content": null,
       "justify_items": null,
       "left": null,
       "margin": null,
       "max_height": null,
       "max_width": null,
       "min_height": null,
       "min_width": null,
       "object_fit": null,
       "object_position": null,
       "order": null,
       "overflow": null,
       "padding": null,
       "right": null,
       "top": null,
       "visibility": null,
       "width": null
      }
     },
     "dffe181540ab4cc9bf33d4d55f18eaab": {
      "model_module": "@jupyter-widgets/controls",
      "model_module_version": "2.0.0",
      "model_name": "HTMLModel",
      "state": {
       "_dom_classes": [],
       "_model_module": "@jupyter-widgets/controls",
       "_model_module_version": "2.0.0",
       "_model_name": "HTMLModel",
       "_view_count": null,
       "_view_module": "@jupyter-widgets/controls",
       "_view_module_version": "2.0.0",
       "_view_name": "HTMLView",
       "description": "",
       "description_allow_html": false,
       "layout": "IPY_MODEL_b8113cb8da0d48cc8ce9ce3bc8a1c5a2",
       "placeholder": "​",
       "style": "IPY_MODEL_e0b5a28789ae4ec8ac74813c2c77a1f3",
       "tabbable": null,
       "tooltip": null,
       "value": " 109M/109M [00:00&lt;00:00, 233MB/s]"
      }
     },
     "e0b5a28789ae4ec8ac74813c2c77a1f3": {
      "model_module": "@jupyter-widgets/controls",
      "model_module_version": "2.0.0",
      "model_name": "HTMLStyleModel",
      "state": {
       "_model_module": "@jupyter-widgets/controls",
       "_model_module_version": "2.0.0",
       "_model_name": "HTMLStyleModel",
       "_view_count": null,
       "_view_module": "@jupyter-widgets/base",
       "_view_module_version": "2.0.0",
       "_view_name": "StyleView",
       "background": null,
       "description_width": "",
       "font_size": null,
       "text_color": null
      }
     },
     "e226bac2924c4036b3d2f1a5662d8022": {
      "model_module": "@jupyter-widgets/base",
      "model_module_version": "2.0.0",
      "model_name": "LayoutModel",
      "state": {
       "_model_module": "@jupyter-widgets/base",
       "_model_module_version": "2.0.0",
       "_model_name": "LayoutModel",
       "_view_count": null,
       "_view_module": "@jupyter-widgets/base",
       "_view_module_version": "2.0.0",
       "_view_name": "LayoutView",
       "align_content": null,
       "align_items": null,
       "align_self": null,
       "border_bottom": null,
       "border_left": null,
       "border_right": null,
       "border_top": null,
       "bottom": null,
       "display": null,
       "flex": null,
       "flex_flow": null,
       "grid_area": null,
       "grid_auto_columns": null,
       "grid_auto_flow": null,
       "grid_auto_rows": null,
       "grid_column": null,
       "grid_gap": null,
       "grid_row": null,
       "grid_template_areas": null,
       "grid_template_columns": null,
       "grid_template_rows": null,
       "height": null,
       "justify_content": null,
       "justify_items": null,
       "left": null,
       "margin": null,
       "max_height": null,
       "max_width": null,
       "min_height": null,
       "min_width": null,
       "object_fit": null,
       "object_position": null,
       "order": null,
       "overflow": null,
       "padding": null,
       "right": null,
       "top": null,
       "visibility": null,
       "width": null
      }
     },
     "e6bc2d6d0e3e47a2861f63ac1a5e2da6": {
      "model_module": "@jupyter-widgets/controls",
      "model_module_version": "2.0.0",
      "model_name": "ProgressStyleModel",
      "state": {
       "_model_module": "@jupyter-widgets/controls",
       "_model_module_version": "2.0.0",
       "_model_name": "ProgressStyleModel",
       "_view_count": null,
       "_view_module": "@jupyter-widgets/base",
       "_view_module_version": "2.0.0",
       "_view_name": "StyleView",
       "bar_color": null,
       "description_width": ""
      }
     },
     "f037fae6dae3439ebe4a1374c699b6b3": {
      "model_module": "@jupyter-widgets/base",
      "model_module_version": "2.0.0",
      "model_name": "LayoutModel",
      "state": {
       "_model_module": "@jupyter-widgets/base",
       "_model_module_version": "2.0.0",
       "_model_name": "LayoutModel",
       "_view_count": null,
       "_view_module": "@jupyter-widgets/base",
       "_view_module_version": "2.0.0",
       "_view_name": "LayoutView",
       "align_content": null,
       "align_items": null,
       "align_self": null,
       "border_bottom": null,
       "border_left": null,
       "border_right": null,
       "border_top": null,
       "bottom": null,
       "display": null,
       "flex": null,
       "flex_flow": null,
       "grid_area": null,
       "grid_auto_columns": null,
       "grid_auto_flow": null,
       "grid_auto_rows": null,
       "grid_column": null,
       "grid_gap": null,
       "grid_row": null,
       "grid_template_areas": null,
       "grid_template_columns": null,
       "grid_template_rows": null,
       "height": null,
       "justify_content": null,
       "justify_items": null,
       "left": null,
       "margin": null,
       "max_height": null,
       "max_width": null,
       "min_height": null,
       "min_width": null,
       "object_fit": null,
       "object_position": null,
       "order": null,
       "overflow": null,
       "padding": null,
       "right": null,
       "top": null,
       "visibility": null,
       "width": null
      }
     },
     "f59e651d6a1f44229e9eb506830c252e": {
      "model_module": "@jupyter-widgets/base",
      "model_module_version": "2.0.0",
      "model_name": "LayoutModel",
      "state": {
       "_model_module": "@jupyter-widgets/base",
       "_model_module_version": "2.0.0",
       "_model_name": "LayoutModel",
       "_view_count": null,
       "_view_module": "@jupyter-widgets/base",
       "_view_module_version": "2.0.0",
       "_view_name": "LayoutView",
       "align_content": null,
       "align_items": null,
       "align_self": null,
       "border_bottom": null,
       "border_left": null,
       "border_right": null,
       "border_top": null,
       "bottom": null,
       "display": null,
       "flex": null,
       "flex_flow": null,
       "grid_area": null,
       "grid_auto_columns": null,
       "grid_auto_flow": null,
       "grid_auto_rows": null,
       "grid_column": null,
       "grid_gap": null,
       "grid_row": null,
       "grid_template_areas": null,
       "grid_template_columns": null,
       "grid_template_rows": null,
       "height": null,
       "justify_content": null,
       "justify_items": null,
       "left": null,
       "margin": null,
       "max_height": null,
       "max_width": null,
       "min_height": null,
       "min_width": null,
       "object_fit": null,
       "object_position": null,
       "order": null,
       "overflow": null,
       "padding": null,
       "right": null,
       "top": null,
       "visibility": null,
       "width": null
      }
     }
    },
    "version_major": 2,
    "version_minor": 0
   }
  }
 },
 "nbformat": 4,
 "nbformat_minor": 5
}
