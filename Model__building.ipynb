{
 "cells": [
  {
   "cell_type": "code",
   "execution_count": 1,
   "id": "1db22fde-6df6-4d41-b5c0-d7d35b457395",
   "metadata": {},
   "outputs": [],
   "source": [
    "from transformers import pipeline\n",
    "from PIL import Image\n",
    "import numpy as np\n",
    "import pandas as pd"
   ]
  },
  {
   "cell_type": "code",
   "execution_count": 2,
   "id": "d347f739-6fb4-4665-b051-f778d8663b80",
   "metadata": {},
   "outputs": [
    {
     "name": "stderr",
     "output_type": "stream",
     "text": [
      "Hardware accelerator e.g. GPU is available in the environment, but no `device` argument is passed to the `Pipeline` object. Model will be on CPU.\n"
     ]
    }
   ],
   "source": [
    "segmenter = pipeline(\"image-segmentation\", model=\"mattmdjaga/segformer_b2_clothes\")"
   ]
  },
  {
   "cell_type": "markdown",
   "id": "6d30487b-25ed-4b65-8688-13b9ecef45fa",
   "metadata": {},
   "source": [
    "# Set up functions to Segment Clothes"
   ]
  },
  {
   "cell_type": "code",
   "execution_count": 3,
   "id": "a295db4a-3daa-4cab-a91b-06893145131a",
   "metadata": {},
   "outputs": [],
   "source": [
    "# Initialize segmentation pipeline\n",
    "def segment_clothing(img, clothes= [\"Upper-clothes\", \"Pants\", \"Belt\"]):\n",
    "    # Segment image\n",
    "    segments = segmenter(img)\n",
    "\n",
    "    # Create list of masks\n",
    "    mask_list = []\n",
    "    for s in segments:\n",
    "        if(s['label'] in clothes):\n",
    "            mask_list.append(s['mask'])\n",
    "\n",
    "\n",
    "    # Paste all masks on top of eachother \n",
    "    final_mask = np.array(mask_list[0])\n",
    "    for mask in mask_list:\n",
    "        current_mask = np.array(mask)\n",
    "        final_mask = final_mask + current_mask\n",
    "            \n",
    "    # Convert final mask from np array to PIL image\n",
    "    final_mask = Image.fromarray(final_mask)\n",
    "\n",
    "    # Apply mask to original image\n",
    "    img.putalpha(final_mask)\n",
    "\n",
    "    # display the image\n",
    "    return img"
   ]
  },
  {
   "cell_type": "code",
   "execution_count": 4,
   "id": "9df19002-5f75-4426-82ec-f5561d25de64",
   "metadata": {},
   "outputs": [],
   "source": [
    "def batch_segment_clothing(img_dir, out_dir, clothes= [\"Hat\", \"Upper-clothes\", \"Skirt\", \"Pants\", \"Dress\", \"Belt\", \"Left-shoe\", \"Right-shoe\", \"Scarf\"]):\n",
    "    # Create output directory if it doesn't exist\n",
    "    if not os.path.exists(out_dir):\n",
    "        os.makedirs(out_dir)\n",
    "\n",
    "    # Iterate through each file in the input directory\n",
    "    for filename in os.listdir(img_dir):\n",
    "        if filename.endswith(\".jpg\") or filename.endswith(\".JPG\") or filename.endswith(\".png\") or filename.endswith(\".PNG\"):\n",
    "            try:\n",
    "                # Load image\n",
    "                img_path = os.path.join(img_dir, filename)\n",
    "                img = Image.open(img_path).convert(\"RGBA\")\n",
    "\n",
    "                # Segment clothing\n",
    "                segmented_img = segment_clothing(img, clothes)\n",
    "\n",
    "                # Save segmented image to output directory as PNG\n",
    "                out_path = os.path.join(out_dir, filename.split('.')[0] + \".png\")\n",
    "                segmented_img.save(out_path)\n",
    "\n",
    "                print(f\"Segmented {filename} successfully.\")\n",
    "\n",
    "            except Exception as e:\n",
    "                print(f\"Error processing {filename}: {e}\")\n",
    "\n",
    "        else:\n",
    "            print(f\"Skipping {filename} as it is not a supported image file.\")"
   ]
  },
  {
   "cell_type": "markdown",
   "id": "d505f3c1-2c48-4aa2-8b54-8d100c67a0e2",
   "metadata": {},
   "source": [
    "# scrape website and create csv file"
   ]
  },
  {
   "cell_type": "code",
   "execution_count": 5,
   "id": "d5347dc7-3acb-45a0-a660-1373d10d79e2",
   "metadata": {},
   "outputs": [],
   "source": [
    "from playwright.async_api import async_playwright\n",
    "\n",
    "playwright = await async_playwright().start()\n",
    "\n",
    "browser = await playwright.chromium.launch(headless=True)\n",
    "\n",
    "page = await browser.new_page()"
   ]
  },
  {
   "cell_type": "markdown",
   "id": "8a5d531e-9342-41b4-9927-2e27b2af12b3",
   "metadata": {},
   "source": [
    "##### Ralph_Lauren"
   ]
  },
  {
   "cell_type": "code",
   "execution_count": 6,
   "id": "764df06e-4ca1-4f75-9490-d4ab295ff89b",
   "metadata": {},
   "outputs": [],
   "source": [
    "RL_url = \"https://www.ralphlauren.com/women-clothing\" \n",
    "await page.goto(RL_url)\n",
    "rl= await page.eval_on_selector_all(\n",
    "    \"[srcset]\",\n",
    "    \"elements => elements.map(el => el.getAttribute('srcset'))\"\n",
    ")"
   ]
  },
  {
   "cell_type": "markdown",
   "id": "a5913728-3b4e-494b-a47a-d8892956a5b4",
   "metadata": {},
   "source": [
    "#### Uniqlo"
   ]
  },
  {
   "cell_type": "code",
   "execution_count": 7,
   "id": "e419f092-6a17-46d8-98e9-a2fe70496b72",
   "metadata": {},
   "outputs": [],
   "source": [
    "uniqlo='https://www.uniqlo.com/us/en/spl/ranking/women'\n",
    "await page.goto(uniqlo)\n",
    "unq= await page.eval_on_selector_all(\n",
    "    \"div.fr-ec-product-tile-resize-wrapper img.fr-ec-image__img\",\n",
    "    \"elements => elements.map(e => e.src)\"\n",
    ")"
   ]
  },
  {
   "cell_type": "markdown",
   "id": "94e8c223-d90c-4ea9-b829-adf5d5e9dfcd",
   "metadata": {},
   "source": [
    "### Zara"
   ]
  },
  {
   "cell_type": "code",
   "execution_count": 8,
   "id": "f7505e77-1036-4696-9db5-b6bb10d435ce",
   "metadata": {},
   "outputs": [],
   "source": [
    "Zara=\"https://www.zara.com/us/en/woman-best-sellers-l5912.html?v1=2491343&regionGroupId=41\"\n",
    "await page.goto(Zara)\n",
    "zara = await page.eval_on_selector_all(\n",
    "    'img[data-qa-qualifier=\"media-image\"]',\n",
    "    \"elements => elements.map(e => e.src)\"\n",
    ")\n",
    "zara = [e for e in zara if 'background' not in e]"
   ]
  },
  {
   "cell_type": "code",
   "execution_count": 9,
   "id": "65973174-d39f-44c0-a84c-ddaa295b7e80",
   "metadata": {},
   "outputs": [],
   "source": [
    "links=[]\n",
    "d = pd.DataFrame({'ExistingColumn': range(92)})\n",
    "rl_extended = rl + ['N/A'] * (len(d) - len(rl))\n",
    "unq_extended = unq + ['N/A'] * (len(d) - len(unq))\n",
    "zara_extended = zara + ['N/A'] * (len(d) - len(zara))\n",
    "d['Ralph_Lauren'] = rl_extended\n",
    "d['Uniqlo'] = unq_extended\n",
    "d['Zara'] = zara_extended\n",
    "links.append(d)"
   ]
  },
  {
   "cell_type": "code",
   "execution_count": 10,
   "id": "769088f5-5ac7-4580-987c-632dc47da2c0",
   "metadata": {},
   "outputs": [],
   "source": [
    "d.drop(columns='ExistingColumn', errors='ignore', inplace=True)\n",
    "d.to_csv('Image_Sources.csv',index=False)"
   ]
  },
  {
   "cell_type": "code",
   "execution_count": 11,
   "id": "24200ecf-d220-4309-8b16-5e894e614c91",
   "metadata": {},
   "outputs": [
    {
     "data": {
      "text/html": [
       "<div>\n",
       "<style scoped>\n",
       "    .dataframe tbody tr th:only-of-type {\n",
       "        vertical-align: middle;\n",
       "    }\n",
       "\n",
       "    .dataframe tbody tr th {\n",
       "        vertical-align: top;\n",
       "    }\n",
       "\n",
       "    .dataframe thead th {\n",
       "        text-align: right;\n",
       "    }\n",
       "</style>\n",
       "<table border=\"1\" class=\"dataframe\">\n",
       "  <thead>\n",
       "    <tr style=\"text-align: right;\">\n",
       "      <th></th>\n",
       "      <th>Ralph_Lauren</th>\n",
       "      <th>Uniqlo</th>\n",
       "      <th>Zara</th>\n",
       "    </tr>\n",
       "  </thead>\n",
       "  <tbody>\n",
       "    <tr>\n",
       "      <th>0</th>\n",
       "      <td>N/A</td>\n",
       "      <td>https://image.uniqlo.com/UQ/ST3/us/imagesgoods...</td>\n",
       "      <td>N/A</td>\n",
       "    </tr>\n",
       "    <tr>\n",
       "      <th>1</th>\n",
       "      <td>N/A</td>\n",
       "      <td>https://image.uniqlo.com/UQ/ST3/us/imagesgoods...</td>\n",
       "      <td>N/A</td>\n",
       "    </tr>\n",
       "    <tr>\n",
       "      <th>2</th>\n",
       "      <td>N/A</td>\n",
       "      <td>https://image.uniqlo.com/UQ/ST3/us/imagesgoods...</td>\n",
       "      <td>N/A</td>\n",
       "    </tr>\n",
       "    <tr>\n",
       "      <th>3</th>\n",
       "      <td>N/A</td>\n",
       "      <td>https://image.uniqlo.com/UQ/ST3/us/imagesgoods...</td>\n",
       "      <td>N/A</td>\n",
       "    </tr>\n",
       "    <tr>\n",
       "      <th>4</th>\n",
       "      <td>N/A</td>\n",
       "      <td>https://image.uniqlo.com/UQ/ST3/us/imagesgoods...</td>\n",
       "      <td>N/A</td>\n",
       "    </tr>\n",
       "  </tbody>\n",
       "</table>\n",
       "</div>"
      ],
      "text/plain": [
       "  Ralph_Lauren                                             Uniqlo Zara\n",
       "0          N/A  https://image.uniqlo.com/UQ/ST3/us/imagesgoods...  N/A\n",
       "1          N/A  https://image.uniqlo.com/UQ/ST3/us/imagesgoods...  N/A\n",
       "2          N/A  https://image.uniqlo.com/UQ/ST3/us/imagesgoods...  N/A\n",
       "3          N/A  https://image.uniqlo.com/UQ/ST3/us/imagesgoods...  N/A\n",
       "4          N/A  https://image.uniqlo.com/UQ/ST3/us/imagesgoods...  N/A"
      ]
     },
     "execution_count": 11,
     "metadata": {},
     "output_type": "execute_result"
    }
   ],
   "source": [
    "d.head()"
   ]
  },
  {
   "cell_type": "markdown",
   "id": "ba13ed4e-4dd4-49f3-bf7b-2b25227ecc65",
   "metadata": {},
   "source": [
    "# Read url from the csv file & Segmentation"
   ]
  },
  {
   "cell_type": "code",
   "execution_count": 41,
   "id": "dc47414f-5ad5-41a4-b727-cdaf188b8568",
   "metadata": {},
   "outputs": [],
   "source": [
    "import urllib.request\n",
    "from urllib.parse import unquote\n",
    "import re\n",
    "import os\n",
    "\n",
    "df=pd.read_csv('Image_Sources.csv')"
   ]
  },
  {
   "cell_type": "code",
   "execution_count": 43,
   "id": "b89dec02-a21d-4db5-afb1-e233361376f2",
   "metadata": {},
   "outputs": [
    {
     "name": "stdout",
     "output_type": "stream",
     "text": [
      "File downloaded and saved as: Ralph_Lauren/s7-1485490_alternate10?$plpDeskRFAlt$\n",
      "File downloaded and saved as: Ralph_Lauren/s7-1485490_alternate10?$plpDeskRFAlt$\n",
      "File downloaded and saved as: Ralph_Lauren/s7-1485490_lifestyle?$plpDeskRF$\n",
      "File downloaded and saved as: Ralph_Lauren/s7-1485490_lifestyle?$plpMob$\n",
      "File downloaded and saved as: Ralph_Lauren/s7-1474896_alternate10?$plpDeskRFAlt$\n",
      "File downloaded and saved as: Ralph_Lauren/s7-1474896_alternate10?$plpDeskRFAlt$\n",
      "File downloaded and saved as: Ralph_Lauren/s7-1474896_lifestyle?$plpDeskRF$\n",
      "File downloaded and saved as: Ralph_Lauren/s7-1474896_lifestyle?$plpMob$\n",
      "File downloaded and saved as: Ralph_Lauren/s7-1470151_alternate10?$plpDeskRFAlt$\n",
      "File downloaded and saved as: Ralph_Lauren/s7-1470151_alternate10?$plpDeskRFAlt$\n",
      "File downloaded and saved as: Ralph_Lauren/s7-1470151_lifestyle?$plpDeskRF$\n",
      "File downloaded and saved as: Ralph_Lauren/s7-1470151_lifestyle?$plpMob$\n",
      "File downloaded and saved as: Ralph_Lauren/s7-1446139_lifestyle?$plpDeskRF$\n",
      "File downloaded and saved as: Ralph_Lauren/s7-1446139_lifestyle?$plpMob$\n",
      "File downloaded and saved as: Ralph_Lauren/s7-1485510_lifestyle?$plpDeskRF$\n",
      "File downloaded and saved as: Ralph_Lauren/s7-1485510_lifestyle?$plpMob$\n",
      "File downloaded and saved as: Ralph_Lauren/s7-AI211941005002_lifestyle?$plpDeskRF$\n",
      "File downloaded and saved as: Ralph_Lauren/s7-AI211941005002_lifestyle?$plpMob$\n",
      "File downloaded and saved as: Ralph_Lauren/s7-AI211956146001_lifestyle?$plpDeskRF$\n",
      "File downloaded and saved as: Ralph_Lauren/s7-AI211956146001_lifestyle?$plpMob$\n",
      "File downloaded and saved as: Ralph_Lauren/s7-1125697_lifestyle?$plpDeskRF$\n",
      "File downloaded and saved as: Ralph_Lauren/s7-1125697_lifestyle?$plpMob$\n",
      "File downloaded and saved as: Ralph_Lauren/s7-AI211932183006_lifestyle?$plpDeskRF$\n",
      "File downloaded and saved as: Ralph_Lauren/s7-AI211932183006_lifestyle?$plpMob$\n",
      "File downloaded and saved as: Ralph_Lauren/s7-1474894_lifestyle?$plpDeskRF$\n",
      "File downloaded and saved as: Ralph_Lauren/s7-1474894_lifestyle?$plpMob$\n",
      "File downloaded and saved as: Ralph_Lauren/s7-1455313_lifestyle?$plpDeskRF$\n",
      "File downloaded and saved as: Ralph_Lauren/s7-1455313_lifestyle?$plpMob$\n",
      "File downloaded and saved as: Ralph_Lauren/s7-AI211910443018_lifestyle?$plpDeskRF$\n",
      "File downloaded and saved as: Ralph_Lauren/s7-AI211910443018_lifestyle?$plpMob$\n",
      "File downloaded and saved as: Ralph_Lauren/s7-1359902_alternate10?$plpDeskRFAlt$\n",
      "File downloaded and saved as: Ralph_Lauren/s7-1359902_alternate10?$plpDeskRFAlt$\n",
      "File downloaded and saved as: Ralph_Lauren/s7-1359902_lifestyle?$plpDeskRF$\n",
      "File downloaded and saved as: Ralph_Lauren/s7-1359902_lifestyle?$plpMob$\n",
      "File downloaded and saved as: Ralph_Lauren/s7-AI253855210030_alternate10?$plpDeskRFAlt$\n",
      "This image cound't be found: https://dtcralphlauren.scene7.com/is/image/PoloGSI/s7-AI253855210030_alternate10?$plpDeskRFAlt$\n",
      "File downloaded and saved as: Uniqlo/usgoods_09_469756_3x4.jpg?width=300\n",
      "File downloaded and saved as: Uniqlo/usgoods_67_469896_3x4.jpg?width=300\n",
      "File downloaded and saved as: Uniqlo/usgoods_00_465185_3x4.jpg?width=300\n",
      "File downloaded and saved as: Uniqlo/usgoods_03_469844_3x4.jpg?width=300\n",
      "File downloaded and saved as: Uniqlo/usgoods_34_449753_3x4.jpg?width=300\n",
      "File downloaded and saved as: Uniqlo/usgoods_09_465734_3x4.jpg?width=300\n",
      "File downloaded and saved as: Uniqlo/usgoods_52_469869_3x4.jpg?width=300\n",
      "File downloaded and saved as: Uniqlo/usgoods_31_424873_3x4.jpg?width=300\n",
      "File downloaded and saved as: Uniqlo/usgoods_52_470173_3x4.jpg?width=300\n",
      "File downloaded and saved as: Uniqlo/usgoods_59_469870_3x4.jpg?width=300\n",
      "File downloaded and saved as: Uniqlo/usgoods_57_470145_3x4.jpg?width=300\n",
      "File downloaded and saved as: Uniqlo/usgoods_03_459792_3x4.jpg?width=300\n",
      "File downloaded and saved as: Uniqlo/usgoods_05_444967_3x4.jpg?width=300\n",
      "File downloaded and saved as: Uniqlo/usgoods_18_469897_3x4.jpg?width=300\n",
      "File downloaded and saved as: Uniqlo/usgoods_69_469898_3x4.jpg?width=300\n",
      "File downloaded and saved as: Uniqlo/usgoods_10_470143_3x4.jpg?width=300\n",
      "File downloaded and saved as: Uniqlo/goods_25_470015_3x4.jpg?width=300\n",
      "File downloaded and saved as: Uniqlo/usgoods_31_469872_3x4.jpg?width=300\n",
      "File downloaded and saved as: Uniqlo/goods_15_470736_3x4.jpg?width=300\n",
      "File downloaded and saved as: Uniqlo/usgoods_54_450195_3x4.jpg?width=300\n",
      "File downloaded and saved as: Uniqlo/usgoods_32_442063_3x4.jpg?width=300\n",
      "File downloaded and saved as: Uniqlo/usgoods_73_469428_3x4.jpg?width=300\n",
      "File downloaded and saved as: Uniqlo/usgoods_30_469864_3x4.jpg?width=300\n",
      "File downloaded and saved as: Uniqlo/usgoods_30_471601_3x4.jpg?width=300\n",
      "File downloaded and saved as: Uniqlo/usgoods_57_469903_3x4.jpg?width=300\n",
      "File downloaded and saved as: Uniqlo/usgoods_09_460407_3x4.jpg?width=300\n",
      "File downloaded and saved as: Uniqlo/usgoods_53_444966_3x4.jpg?width=300\n",
      "File downloaded and saved as: Uniqlo/goods_58_461053_3x4.jpg?width=300\n",
      "File downloaded and saved as: Uniqlo/usgoods_32_469862_3x4.jpg?width=300\n",
      "File downloaded and saved as: Uniqlo/usgoods_35_471279_3x4.jpg?width=300\n",
      "This image cound't be found: nan\n"
     ]
    }
   ],
   "source": [
    "path_files=[]\n",
    "dic={}\n",
    "for col in df.columns:\n",
    "    links=df[col]\n",
    "    # Create a folder for the current column if needed\n",
    "    os.makedirs(col, exist_ok=True)\n",
    "    paths=[]\n",
    "    try: \n",
    "        for l in links:\n",
    "            # URL of the file to download\n",
    "            url = l\n",
    "\n",
    "            # Extract the filename from the URL\n",
    "            filename = url.split(\"/\")[-1]  # Default fallback if Content-Disposition is not available\n",
    "            filename = unquote(filename)  # Decode URL-encoded characters in the filename\n",
    "\n",
    "            # Combine column name folder path with filename\n",
    "            filepath = os.path.join(col, filename)\n",
    "            \n",
    "            # Download and save the file\n",
    "            urllib.request.urlretrieve(url, filepath)\n",
    "            \n",
    "            print(f\"File downloaded and saved as: {filepath}\")\n",
    "            \n",
    "            \n",
    "            # open the file\n",
    "            image=Image.open(filepath)\n",
    "\n",
    "            # segment the clothes\n",
    "            result = segment_clothing(img=image)\n",
    "            result.save(f'{filepath}.png')\n",
    "            paths.append(f'{filepath}.png')\n",
    "    \n",
    "    except:\n",
    "        print(\"This image cound't be found:\",l)\n",
    "\n",
    "    dic[col]=paths\n",
    "    path_files.append(dic)"
   ]
  },
  {
   "cell_type": "markdown",
   "id": "f55c89a5-4b97-48d2-82a2-bf82698140ff",
   "metadata": {},
   "source": [
    "# read the colors"
   ]
  },
  {
   "cell_type": "code",
   "execution_count": 30,
   "id": "d9064f7f-3e03-43ae-b2c0-806b76160eb5",
   "metadata": {},
   "outputs": [
    {
     "name": "stdout",
     "output_type": "stream",
     "text": [
      "Requirement already satisfied: Pillow in /Users/yirenlu/.pyenv/versions/3.12.7/lib/python3.12/site-packages (11.0.0)\n",
      "Collecting scikit-learn\n",
      "  Downloading scikit_learn-1.5.2-cp312-cp312-macosx_12_0_arm64.whl.metadata (13 kB)\n",
      "Requirement already satisfied: numpy>=1.19.5 in /Users/yirenlu/.pyenv/versions/3.12.7/lib/python3.12/site-packages (from scikit-learn) (2.0.2)\n",
      "Collecting scipy>=1.6.0 (from scikit-learn)\n",
      "  Downloading scipy-1.14.1-cp312-cp312-macosx_14_0_arm64.whl.metadata (60 kB)\n",
      "Collecting joblib>=1.2.0 (from scikit-learn)\n",
      "  Downloading joblib-1.4.2-py3-none-any.whl.metadata (5.4 kB)\n",
      "Collecting threadpoolctl>=3.1.0 (from scikit-learn)\n",
      "  Downloading threadpoolctl-3.5.0-py3-none-any.whl.metadata (13 kB)\n",
      "Downloading scikit_learn-1.5.2-cp312-cp312-macosx_12_0_arm64.whl (11.0 MB)\n",
      "\u001b[2K   \u001b[90m━━━━━━━━━━━━━━━━━━━━━━━━━━━━━━━━━━━━━━━━\u001b[0m \u001b[32m11.0/11.0 MB\u001b[0m \u001b[31m8.3 MB/s\u001b[0m eta \u001b[36m0:00:00\u001b[0ma \u001b[36m0:00:01\u001b[0m\n",
      "\u001b[?25hDownloading joblib-1.4.2-py3-none-any.whl (301 kB)\n",
      "Downloading scipy-1.14.1-cp312-cp312-macosx_14_0_arm64.whl (23.1 MB)\n",
      "\u001b[2K   \u001b[90m━━━━━━━━━━━━━━━━━━━━━━━━━━━━━━━━━━━━━━━━\u001b[0m \u001b[32m23.1/23.1 MB\u001b[0m \u001b[31m8.4 MB/s\u001b[0m eta \u001b[36m0:00:00\u001b[0ma \u001b[36m0:00:01\u001b[0m\n",
      "\u001b[?25hDownloading threadpoolctl-3.5.0-py3-none-any.whl (18 kB)\n",
      "Installing collected packages: threadpoolctl, scipy, joblib, scikit-learn\n",
      "Successfully installed joblib-1.4.2 scikit-learn-1.5.2 scipy-1.14.1 threadpoolctl-3.5.0\n",
      "Note: you may need to restart the kernel to use updated packages.\n"
     ]
    }
   ],
   "source": [
    "# pip install Pillow scikit-learn"
   ]
  },
  {
   "cell_type": "code",
   "execution_count": 47,
   "id": "0896bfc6-70e6-4f77-b12a-c3d024194192",
   "metadata": {},
   "outputs": [],
   "source": [
    "from sklearn.cluster import KMeans\n",
    "import matplotlib.pyplot as plt"
   ]
  },
  {
   "cell_type": "code",
   "execution_count": 48,
   "id": "cb35a93c-7918-4065-a6ae-0a095da5a9a4",
   "metadata": {},
   "outputs": [],
   "source": [
    "def extract_colors(image_path, num_colors=5):\n",
    "    img = Image.open(image_path)\n",
    "    # Ensure image is in RGB format\n",
    "    img = img.convert('RGB')\n",
    "    \n",
    "    img = img.resize((256, 256))  # Resize for faster processing\n",
    "    img_array = np.array(img)\n",
    "    img_array = img_array.reshape((-1, 3))\n",
    "\n",
    "    kmeans = KMeans(n_clusters=num_colors)\n",
    "    kmeans.fit(img_array)\n",
    "    colors = kmeans.cluster_centers_.astype(int)\n",
    "    return colors"
   ]
  },
  {
   "cell_type": "markdown",
   "id": "fff0896f-32f8-4f98-8850-f35f95b504a2",
   "metadata": {},
   "source": [
    "# Make a color palette"
   ]
  },
  {
   "cell_type": "code",
   "execution_count": 65,
   "id": "ec012743-2b69-4329-96e2-89539c954c4d",
   "metadata": {},
   "outputs": [
    {
     "data": {
      "image/png": "[encoded data removed]",
      "text/plain": [
       "<Figure size 640x480 with 1 Axes>"
      ]
     },
     "metadata": {},
     "output_type": "display_data"
    },
    {
     "data": {
      "image/png": "[encoded data removed]",
      "text/plain": [
       "<Figure size 640x480 with 1 Axes>"
      ]
     },
     "metadata": {},
     "output_type": "display_data"
    },
    {
     "data": {
      "text/plain": [
       "<Figure size 640x480 with 0 Axes>"
      ]
     },
     "metadata": {},
     "output_type": "display_data"
    }
   ],
   "source": [
    "palettes=[]\n",
    "for brand,paths in path_files.items():\n",
    "    image_paths = paths  # Add your image paths\n",
    "    all_colors = []\n",
    "        \n",
    "    for path in image_paths:\n",
    "        colors = extract_colors(path)\n",
    "        all_colors.extend(colors)\n",
    "        \n",
    "    final_palette = KMeans(n_clusters=10).fit(all_colors).cluster_centers_.astype(int)\n",
    "    palettes.append(final_palette)\n",
    "    \n",
    "    # Display the palette    \n",
    "    plt.imshow([final_palette])\n",
    "    plt.show()\n",
    "    plt.savefig(f'{brand}.png')"
   ]
  },
  {
   "cell_type": "markdown",
   "id": "e5ba21ad-ca7d-4164-b177-e51f3ca6995f",
   "metadata": {},
   "source": [
    "I consult google for this"
   ]
  },
  {
   "cell_type": "code",
   "execution_count": 67,
   "id": "4cbe3a14-e4aa-428d-93ae-005a031588a9",
   "metadata": {},
   "outputs": [
    {
     "data": {
      "image/png": "[encoded data removed]",
      "text/plain": [
       "<Figure size 600x600 with 1 Axes>"
      ]
     },
     "metadata": {},
     "output_type": "display_data"
    }
   ],
   "source": [
    "# Convert the final palette to a usable color format\n",
    "final_colors = [tuple(color / 255) for palette in palettes for color in palette]  # Normalize to [0, 1] range\n",
    "\n",
    "# Number of colors\n",
    "num_colors = len(final_colors)\n",
    "\n",
    "# Angles for the color wheel\n",
    "angles = np.linspace(0, 2 * np.pi, num_colors, endpoint=False)\n",
    "\n",
    "# Create a polar plot\n",
    "fig, ax = plt.subplots(subplot_kw={'projection': 'polar'}, figsize=(6, 6))\n",
    "bars = ax.bar(angles, np.ones(num_colors), color=final_colors, width=2 * np.pi / num_colors)\n",
    "\n",
    "# Remove radial and angular ticks\n",
    "ax.set_yticks([])\n",
    "ax.set_xticks([])\n",
    "ax.spines['polar'].set_visible(False)\n",
    "\n",
    "# Display the color wheel\n",
    "plt.show()\n"
   ]
  },
  {
   "cell_type": "code",
   "execution_count": null,
   "id": "9ee060f3-3ab7-49aa-9b91-225172f9bb70",
   "metadata": {},
   "outputs": [],
   "source": []
  }
 ],
 "metadata": {
  "kernelspec": {
   "display_name": "Python 3 (ipykernel)",
   "language": "python",
   "name": "python3"
  },
  "language_info": {
   "codemirror_mode": {
    "name": "ipython",
    "version": 3
   },
   "file_extension": ".py",
   "mimetype": "text/x-python",
   "name": "python",
   "nbconvert_exporter": "python",
   "pygments_lexer": "ipython3",
   "version": "3.12.7"
  }
 },
 "nbformat": 4,
 "nbformat_minor": 5
}
