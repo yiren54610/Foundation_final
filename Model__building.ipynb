{
 "cells": [
  {
   "cell_type": "code",
   "execution_count": 1,
   "id": "1db22fde-6df6-4d41-b5c0-d7d35b457395",
   "metadata": {},
   "outputs": [],
   "source": [
    "from transformers import pipeline\n",
    "from PIL import Image\n",
    "import numpy as np"
   ]
  },
  {
   "cell_type": "code",
   "execution_count": 2,
   "id": "d347f739-6fb4-4665-b051-f778d8663b80",
   "metadata": {},
   "outputs": [
    {
     "name": "stderr",
     "output_type": "stream",
     "text": [
      "Hardware accelerator e.g. GPU is available in the environment, but no `device` argument is passed to the `Pipeline` object. Model will be on CPU.\n"
     ]
    }
   ],
   "source": [
    "segmenter = pipeline(\"image-segmentation\", model=\"mattmdjaga/segformer_b2_clothes\")"
   ]
  },
  {
   "cell_type": "markdown",
   "id": "6d30487b-25ed-4b65-8688-13b9ecef45fa",
   "metadata": {},
   "source": [
    "# Set up functions to Segment Clothes"
   ]
  },
  {
   "cell_type": "code",
   "execution_count": 5,
   "id": "a295db4a-3daa-4cab-a91b-06893145131a",
   "metadata": {},
   "outputs": [],
   "source": [
    "# Initialize segmentation pipeline\n",
    "def segment_clothing(img, clothes= [\"Upper-clothes\", \"Pants\", \"Belt\"]):\n",
    "    # Segment image\n",
    "    segments = segmenter(img)\n",
    "\n",
    "    # Create list of masks\n",
    "    mask_list = []\n",
    "    for s in segments:\n",
    "        if(s['label'] in clothes):\n",
    "            mask_list.append(s['mask'])\n",
    "\n",
    "\n",
    "    # Paste all masks on top of eachother \n",
    "    final_mask = np.array(mask_list[0])\n",
    "    for mask in mask_list:\n",
    "        current_mask = np.array(mask)\n",
    "        final_mask = final_mask + current_mask\n",
    "            \n",
    "    # Convert final mask from np array to PIL image\n",
    "    final_mask = Image.fromarray(final_mask)\n",
    "\n",
    "    # Apply mask to original image\n",
    "    img.putalpha(final_mask)\n",
    "\n",
    "    # display the image\n",
    "    return img"
   ]
  },
  {
   "cell_type": "code",
   "execution_count": 6,
   "id": "9df19002-5f75-4426-82ec-f5561d25de64",
   "metadata": {},
   "outputs": [],
   "source": [
    "def batch_segment_clothing(img_dir, out_dir, clothes= [\"Hat\", \"Upper-clothes\", \"Skirt\", \"Pants\", \"Dress\", \"Belt\", \"Left-shoe\", \"Right-shoe\", \"Scarf\"]):\n",
    "    # Create output directory if it doesn't exist\n",
    "    if not os.path.exists(out_dir):\n",
    "        os.makedirs(out_dir)\n",
    "\n",
    "    # Iterate through each file in the input directory\n",
    "    for filename in os.listdir(img_dir):\n",
    "        if filename.endswith(\".jpg\") or filename.endswith(\".JPG\") or filename.endswith(\".png\") or filename.endswith(\".PNG\"):\n",
    "            try:\n",
    "                # Load image\n",
    "                img_path = os.path.join(img_dir, filename)\n",
    "                img = Image.open(img_path).convert(\"RGBA\")\n",
    "\n",
    "                # Segment clothing\n",
    "                segmented_img = segment_clothing(img, clothes)\n",
    "\n",
    "                # Save segmented image to output directory as PNG\n",
    "                out_path = os.path.join(out_dir, filename.split('.')[0] + \".png\")\n",
    "                segmented_img.save(out_path)\n",
    "\n",
    "                print(f\"Segmented {filename} successfully.\")\n",
    "\n",
    "            except Exception as e:\n",
    "                print(f\"Error processing {filename}: {e}\")\n",
    "\n",
    "        else:\n",
    "            print(f\"Skipping {filename} as it is not a supported image file.\")"
   ]
  },
  {
   "cell_type": "markdown",
   "id": "d505f3c1-2c48-4aa2-8b54-8d100c67a0e2",
   "metadata": {},
   "source": [
    "# scrape website and create csv file"
   ]
  },
  {
   "cell_type": "code",
   "execution_count": null,
   "id": "d5347dc7-3acb-45a0-a660-1373d10d79e2",
   "metadata": {},
   "outputs": [],
   "source": [
    "from playwright.async_api import async_playwright\n",
    "\n",
    "playwright = await async_playwright().start()\n",
    "\n",
    "browser = await playwright.chromium.launch(headless=False)\n",
    "\n",
    "page = await browser.new_page()"
   ]
  },
  {
   "cell_type": "code",
   "execution_count": null,
   "id": "764df06e-4ca1-4f75-9490-d4ab295ff89b",
   "metadata": {},
   "outputs": [],
   "source": [
    "RL_url = \"https://www.ralphlauren.com/women-clothing\" \n",
    "await page.goto(RL_url)\n",
    "rl= await page.eval_on_selector_all(\n",
    "    \"[srcset]\",\n",
    "    \"elements => elements.map(el => el.getAttribute('srcset'))\"\n",
    ")"
   ]
  },
  {
   "cell_type": "code",
   "execution_count": null,
   "id": "65973174-d39f-44c0-a84c-ddaa295b7e80",
   "metadata": {},
   "outputs": [],
   "source": [
    "Links=[]\n",
    "d={}\n",
    "d['Ralph_Lauren']=rl\n",
    "Links.append(d)\n",
    "df = pd.concat([pd.DataFrame(d) for l in Links], ignore_index=True)\n",
    "df.to_csv('Image_Sources.csv',index=False)"
   ]
  },
  {
   "cell_type": "markdown",
   "id": "ba13ed4e-4dd4-49f3-bf7b-2b25227ecc65",
   "metadata": {},
   "source": [
    "# Read url from the csv file & Segmentation"
   ]
  },
  {
   "cell_type": "code",
   "execution_count": 20,
   "id": "dc47414f-5ad5-41a4-b727-cdaf188b8568",
   "metadata": {},
   "outputs": [
    {
     "data": {
      "text/html": [
       "<div>\n",
       "<style scoped>\n",
       "    .dataframe tbody tr th:only-of-type {\n",
       "        vertical-align: middle;\n",
       "    }\n",
       "\n",
       "    .dataframe tbody tr th {\n",
       "        vertical-align: top;\n",
       "    }\n",
       "\n",
       "    .dataframe thead th {\n",
       "        text-align: right;\n",
       "    }\n",
       "</style>\n",
       "<table border=\"1\" class=\"dataframe\">\n",
       "  <thead>\n",
       "    <tr style=\"text-align: right;\">\n",
       "      <th></th>\n",
       "      <th>Ralph Lauren</th>\n",
       "    </tr>\n",
       "  </thead>\n",
       "  <tbody>\n",
       "    <tr>\n",
       "      <th>0</th>\n",
       "      <td>https://dtcralphlauren.scene7.com/is/image/Pol...</td>\n",
       "    </tr>\n",
       "    <tr>\n",
       "      <th>1</th>\n",
       "      <td>https://dtcralphlauren.scene7.com/is/image/Pol...</td>\n",
       "    </tr>\n",
       "    <tr>\n",
       "      <th>2</th>\n",
       "      <td>https://dtcralphlauren.scene7.com/is/image/Pol...</td>\n",
       "    </tr>\n",
       "    <tr>\n",
       "      <th>3</th>\n",
       "      <td>https://dtcralphlauren.scene7.com/is/image/Pol...</td>\n",
       "    </tr>\n",
       "    <tr>\n",
       "      <th>4</th>\n",
       "      <td>https://dtcralphlauren.scene7.com/is/image/Pol...</td>\n",
       "    </tr>\n",
       "  </tbody>\n",
       "</table>\n",
       "</div>"
      ],
      "text/plain": [
       "                                        Ralph Lauren\n",
       "0  https://dtcralphlauren.scene7.com/is/image/Pol...\n",
       "1  https://dtcralphlauren.scene7.com/is/image/Pol...\n",
       "2  https://dtcralphlauren.scene7.com/is/image/Pol...\n",
       "3  https://dtcralphlauren.scene7.com/is/image/Pol...\n",
       "4  https://dtcralphlauren.scene7.com/is/image/Pol..."
      ]
     },
     "execution_count": 20,
     "metadata": {},
     "output_type": "execute_result"
    }
   ],
   "source": [
    "import urllib.request\n",
    "from urllib.parse import unquote\n",
    "import re\n",
    "import pandas as pd\n",
    "import os\n",
    "\n",
    "df=pd.read_csv('Image_Sources.csv')"
   ]
  },
  {
   "cell_type": "code",
   "execution_count": 28,
   "id": "b89dec02-a21d-4db5-afb1-e233361376f2",
   "metadata": {},
   "outputs": [
    {
     "name": "stdout",
     "output_type": "stream",
     "text": [
      "File downloaded and saved as: Ralph_Lauren/s7-AI211910443018_alternate10?$plpDeskRFAlt$\n",
      "File downloaded and saved as: Ralph_Lauren/s7-AI211910443018_alternate10?$plpDeskRFAlt$\n",
      "File downloaded and saved as: Ralph_Lauren/s7-AI211910443018_lifestyle?$plpDeskRF$\n",
      "File downloaded and saved as: Ralph_Lauren/s7-AI211910443018_lifestyle?$plpMob$\n",
      "File downloaded and saved as: Ralph_Lauren/s7-1485489_alternate10?$plpDeskRFAlt$\n",
      "File downloaded and saved as: Ralph_Lauren/s7-1485489_alternate10?$plpDeskRFAlt$\n",
      "File downloaded and saved as: Ralph_Lauren/s7-1485489_lifestyle?$plpDeskRF$\n",
      "File downloaded and saved as: Ralph_Lauren/s7-1485489_lifestyle?$plpMob$\n",
      "File downloaded and saved as: Ralph_Lauren/s7-1331967_alternate10?$plpDeskRFAlt$\n",
      "File downloaded and saved as: Ralph_Lauren/s7-1331967_alternate10?$plpDeskRFAlt$\n",
      "File downloaded and saved as: Ralph_Lauren/s7-1474897_lifestyle?$plpDeskRF$\n",
      "File downloaded and saved as: Ralph_Lauren/s7-1474897_lifestyle?$plpMob$\n",
      "File downloaded and saved as: Ralph_Lauren/s7-1317221_lifestyle?$plpDeskRF$\n",
      "File downloaded and saved as: Ralph_Lauren/s7-1317221_lifestyle?$plpMob$\n",
      "File downloaded and saved as: Ralph_Lauren/s7-1446139_lifestyle?$plpDeskRF$\n",
      "File downloaded and saved as: Ralph_Lauren/s7-1446139_lifestyle?$plpMob$\n",
      "File downloaded and saved as: Ralph_Lauren/s7-AI211932183006_lifestyle?$plpDeskRF$\n",
      "File downloaded and saved as: Ralph_Lauren/s7-AI211932183006_lifestyle?$plpMob$\n",
      "File downloaded and saved as: Ralph_Lauren/s7-1485504_lifestyle?$plpDeskRF$\n",
      "File downloaded and saved as: Ralph_Lauren/s7-1485504_lifestyle?$plpMob$\n",
      "File downloaded and saved as: Ralph_Lauren/s7-1125697_lifestyle?$plpDeskRF$\n",
      "File downloaded and saved as: Ralph_Lauren/s7-1125697_lifestyle?$plpMob$\n",
      "File downloaded and saved as: Ralph_Lauren/s7-1474894_lifestyle?$plpDeskRF$\n",
      "File downloaded and saved as: Ralph_Lauren/s7-1474894_lifestyle?$plpMob$\n",
      "File downloaded and saved as: Ralph_Lauren/s7-1455313_lifestyle?$plpDeskRF$\n",
      "File downloaded and saved as: Ralph_Lauren/s7-1455313_lifestyle?$plpMob$\n",
      "File downloaded and saved as: Ralph_Lauren/s7-AI211941005001_lifestyle?$plpDeskRF$\n",
      "File downloaded and saved as: Ralph_Lauren/s7-AI211941005001_lifestyle?$plpMob$\n",
      "File downloaded and saved as: Ralph_Lauren/s7-AI211956146001_lifestyle?$plpDeskRF$\n",
      "File downloaded and saved as: Ralph_Lauren/s7-AI211956146001_lifestyle?$plpMob$\n",
      "File downloaded and saved as: Ralph_Lauren/s7-1404816_alternate10?$plpDeskRFAlt$\n",
      "File downloaded and saved as: Ralph_Lauren/s7-1404816_alternate10?$plpDeskRFAlt$\n",
      "File downloaded and saved as: Ralph_Lauren/s7-1404816_lifestyle?$plpDeskRF$\n",
      "File downloaded and saved as: Ralph_Lauren/s7-1404816_lifestyle?$plpMob$\n",
      "File downloaded and saved as: Ralph_Lauren/s7-1376530_alternate10?$plpDeskRFAlt$\n",
      "File downloaded and saved as: Ralph_Lauren/s7-1376530_alternate10?$plpDeskRFAlt$\n",
      "File downloaded and saved as: Ralph_Lauren/s7-1376530_lifestyle?$plpDeskRF$\n",
      "File downloaded and saved as: Ralph_Lauren/s7-1376530_lifestyle?$plpMob$\n",
      "File downloaded and saved as: Ralph_Lauren/s7-AI253855210030_alternate10?$plpDeskRFAlt$\n",
      "This image cound't be found: https://dtcralphlauren.scene7.com/is/image/PoloGSI/s7-AI253855210030_alternate10?$plpDeskRFAlt$\n"
     ]
    }
   ],
   "source": [
    "for col in df.columns:\n",
    "    links=df[col]\n",
    "    # Create a folder for the current column if needed\n",
    "    os.makedirs(col, exist_ok=True)\n",
    "    paths=[]\n",
    "    try: \n",
    "        for l in links:\n",
    "            # URL of the file to download\n",
    "            url = l\n",
    "\n",
    "            # Extract the filename from the URL\n",
    "            filename = url.split(\"/\")[-1]  # Default fallback if Content-Disposition is not available\n",
    "            filename = unquote(filename)  # Decode URL-encoded characters in the filename\n",
    "\n",
    "            # Combine column name folder path with filename\n",
    "            filepath = os.path.join(col, filename)\n",
    "            \n",
    "            # Download and save the file\n",
    "            urllib.request.urlretrieve(url, filepath)\n",
    "            \n",
    "            print(f\"File downloaded and saved as: {filepath}\")\n",
    "            \n",
    "            \n",
    "            # open the file\n",
    "            image=Image.open(filepath)\n",
    "\n",
    "            # segment the clothes\n",
    "            result = segment_clothing(img=image)\n",
    "            result.save(f'{filepath}.png')\n",
    "            paths.append(f'{filepath}.png')\n",
    "    except:\n",
    "        print(\"This image cound't be found:\",l)"
   ]
  },
  {
   "cell_type": "code",
   "execution_count": 29,
   "id": "80c1f25a-60cf-4dc0-998a-add61e33eff9",
   "metadata": {},
   "outputs": [
    {
     "data": {
      "text/plain": [
       "['Ralph_Lauren/s7-AI211910443018_alternate10?$plpDeskRFAlt$.png',\n",
       " 'Ralph_Lauren/s7-AI211910443018_alternate10?$plpDeskRFAlt$.png',\n",
       " 'Ralph_Lauren/s7-AI211910443018_lifestyle?$plpDeskRF$.png',\n",
       " 'Ralph_Lauren/s7-AI211910443018_lifestyle?$plpMob$.png',\n",
       " 'Ralph_Lauren/s7-1485489_alternate10?$plpDeskRFAlt$.png',\n",
       " 'Ralph_Lauren/s7-1485489_alternate10?$plpDeskRFAlt$.png',\n",
       " 'Ralph_Lauren/s7-1485489_lifestyle?$plpDeskRF$.png',\n",
       " 'Ralph_Lauren/s7-1485489_lifestyle?$plpMob$.png',\n",
       " 'Ralph_Lauren/s7-1331967_alternate10?$plpDeskRFAlt$.png',\n",
       " 'Ralph_Lauren/s7-1331967_alternate10?$plpDeskRFAlt$.png',\n",
       " 'Ralph_Lauren/s7-1474897_lifestyle?$plpDeskRF$.png',\n",
       " 'Ralph_Lauren/s7-1474897_lifestyle?$plpMob$.png',\n",
       " 'Ralph_Lauren/s7-1317221_lifestyle?$plpDeskRF$.png',\n",
       " 'Ralph_Lauren/s7-1317221_lifestyle?$plpMob$.png',\n",
       " 'Ralph_Lauren/s7-1446139_lifestyle?$plpDeskRF$.png',\n",
       " 'Ralph_Lauren/s7-1446139_lifestyle?$plpMob$.png',\n",
       " 'Ralph_Lauren/s7-AI211932183006_lifestyle?$plpDeskRF$.png',\n",
       " 'Ralph_Lauren/s7-AI211932183006_lifestyle?$plpMob$.png',\n",
       " 'Ralph_Lauren/s7-1485504_lifestyle?$plpDeskRF$.png',\n",
       " 'Ralph_Lauren/s7-1485504_lifestyle?$plpMob$.png',\n",
       " 'Ralph_Lauren/s7-1125697_lifestyle?$plpDeskRF$.png',\n",
       " 'Ralph_Lauren/s7-1125697_lifestyle?$plpMob$.png',\n",
       " 'Ralph_Lauren/s7-1474894_lifestyle?$plpDeskRF$.png',\n",
       " 'Ralph_Lauren/s7-1474894_lifestyle?$plpMob$.png',\n",
       " 'Ralph_Lauren/s7-1455313_lifestyle?$plpDeskRF$.png',\n",
       " 'Ralph_Lauren/s7-1455313_lifestyle?$plpMob$.png',\n",
       " 'Ralph_Lauren/s7-AI211941005001_lifestyle?$plpDeskRF$.png',\n",
       " 'Ralph_Lauren/s7-AI211941005001_lifestyle?$plpMob$.png',\n",
       " 'Ralph_Lauren/s7-AI211956146001_lifestyle?$plpDeskRF$.png',\n",
       " 'Ralph_Lauren/s7-AI211956146001_lifestyle?$plpMob$.png',\n",
       " 'Ralph_Lauren/s7-1404816_alternate10?$plpDeskRFAlt$.png',\n",
       " 'Ralph_Lauren/s7-1404816_alternate10?$plpDeskRFAlt$.png',\n",
       " 'Ralph_Lauren/s7-1404816_lifestyle?$plpDeskRF$.png',\n",
       " 'Ralph_Lauren/s7-1404816_lifestyle?$plpMob$.png',\n",
       " 'Ralph_Lauren/s7-1376530_alternate10?$plpDeskRFAlt$.png',\n",
       " 'Ralph_Lauren/s7-1376530_alternate10?$plpDeskRFAlt$.png',\n",
       " 'Ralph_Lauren/s7-1376530_lifestyle?$plpDeskRF$.png',\n",
       " 'Ralph_Lauren/s7-1376530_lifestyle?$plpMob$.png']"
      ]
     },
     "execution_count": 29,
     "metadata": {},
     "output_type": "execute_result"
    }
   ],
   "source": [
    "paths"
   ]
  },
  {
   "cell_type": "markdown",
   "id": "f55c89a5-4b97-48d2-82a2-bf82698140ff",
   "metadata": {},
   "source": [
    "# read the colors"
   ]
  },
  {
   "cell_type": "code",
   "execution_count": 30,
   "id": "d9064f7f-3e03-43ae-b2c0-806b76160eb5",
   "metadata": {},
   "outputs": [
    {
     "name": "stdout",
     "output_type": "stream",
     "text": [
      "Requirement already satisfied: Pillow in /Users/yirenlu/.pyenv/versions/3.12.7/lib/python3.12/site-packages (11.0.0)\n",
      "Collecting scikit-learn\n",
      "  Downloading scikit_learn-1.5.2-cp312-cp312-macosx_12_0_arm64.whl.metadata (13 kB)\n",
      "Requirement already satisfied: numpy>=1.19.5 in /Users/yirenlu/.pyenv/versions/3.12.7/lib/python3.12/site-packages (from scikit-learn) (2.0.2)\n",
      "Collecting scipy>=1.6.0 (from scikit-learn)\n",
      "  Downloading scipy-1.14.1-cp312-cp312-macosx_14_0_arm64.whl.metadata (60 kB)\n",
      "Collecting joblib>=1.2.0 (from scikit-learn)\n",
      "  Downloading joblib-1.4.2-py3-none-any.whl.metadata (5.4 kB)\n",
      "Collecting threadpoolctl>=3.1.0 (from scikit-learn)\n",
      "  Downloading threadpoolctl-3.5.0-py3-none-any.whl.metadata (13 kB)\n",
      "Downloading scikit_learn-1.5.2-cp312-cp312-macosx_12_0_arm64.whl (11.0 MB)\n",
      "\u001b[2K   \u001b[90m━━━━━━━━━━━━━━━━━━━━━━━━━━━━━━━━━━━━━━━━\u001b[0m \u001b[32m11.0/11.0 MB\u001b[0m \u001b[31m8.3 MB/s\u001b[0m eta \u001b[36m0:00:00\u001b[0ma \u001b[36m0:00:01\u001b[0m\n",
      "\u001b[?25hDownloading joblib-1.4.2-py3-none-any.whl (301 kB)\n",
      "Downloading scipy-1.14.1-cp312-cp312-macosx_14_0_arm64.whl (23.1 MB)\n",
      "\u001b[2K   \u001b[90m━━━━━━━━━━━━━━━━━━━━━━━━━━━━━━━━━━━━━━━━\u001b[0m \u001b[32m23.1/23.1 MB\u001b[0m \u001b[31m8.4 MB/s\u001b[0m eta \u001b[36m0:00:00\u001b[0ma \u001b[36m0:00:01\u001b[0m\n",
      "\u001b[?25hDownloading threadpoolctl-3.5.0-py3-none-any.whl (18 kB)\n",
      "Installing collected packages: threadpoolctl, scipy, joblib, scikit-learn\n",
      "Successfully installed joblib-1.4.2 scikit-learn-1.5.2 scipy-1.14.1 threadpoolctl-3.5.0\n",
      "Note: you may need to restart the kernel to use updated packages.\n"
     ]
    }
   ],
   "source": [
    "# pip install Pillow scikit-learn"
   ]
  },
  {
   "cell_type": "code",
   "execution_count": 31,
   "id": "0896bfc6-70e6-4f77-b12a-c3d024194192",
   "metadata": {},
   "outputs": [],
   "source": [
    "from sklearn.cluster import KMeans"
   ]
  },
  {
   "cell_type": "code",
   "execution_count": 38,
   "id": "cb35a93c-7918-4065-a6ae-0a095da5a9a4",
   "metadata": {},
   "outputs": [],
   "source": [
    "def extract_colors(image_path, num_colors=5):\n",
    "    img = Image.open(image_path)\n",
    "    # Ensure image is in RGB format\n",
    "    img = img.convert('RGB')\n",
    "    \n",
    "    img = img.resize((256, 256))  # Resize for faster processing\n",
    "    img_array = np.array(img)\n",
    "    img_array = img_array.reshape((-1, 3))\n",
    "\n",
    "    kmeans = KMeans(n_clusters=num_colors)\n",
    "    kmeans.fit(img_array)\n",
    "    colors = kmeans.cluster_centers_.astype(int)\n",
    "    return colors"
   ]
  },
  {
   "cell_type": "code",
   "execution_count": 39,
   "id": "ec012743-2b69-4329-96e2-89539c954c4d",
   "metadata": {},
   "outputs": [],
   "source": [
    "image_paths = paths  # Add your image paths\n",
    "all_colors = []\n",
    "\n",
    "for path in image_paths:\n",
    "    colors = extract_colors(path)\n",
    "    all_colors.extend(colors)"
   ]
  },
  {
   "cell_type": "code",
   "execution_count": 40,
   "id": "a2c524b8-2504-4d46-a344-b8aefc092304",
   "metadata": {},
   "outputs": [
    {
     "data": {
      "image/png": "[encoded data removed]",
      "text/plain": [
       "<Figure size 640x480 with 1 Axes>"
      ]
     },
     "metadata": {},
     "output_type": "display_data"
    }
   ],
   "source": [
    "final_palette = KMeans(n_clusters=10).fit(all_colors).cluster_centers_.astype(int)\n",
    "\n",
    "# Display the palette\n",
    "import matplotlib.pyplot as plt\n",
    "plt.imshow([final_palette])\n",
    "plt.show()"
   ]
  },
  {
   "cell_type": "code",
   "execution_count": null,
   "id": "4cbe3a14-e4aa-428d-93ae-005a031588a9",
   "metadata": {},
   "outputs": [],
   "source": []
  }
 ],
 "metadata": {
  "kernelspec": {
   "display_name": "Python 3 (ipykernel)",
   "language": "python",
   "name": "python3"
  },
  "language_info": {
   "codemirror_mode": {
    "name": "ipython",
    "version": 3
   },
   "file_extension": ".py",
   "mimetype": "text/x-python",
   "name": "python",
   "nbconvert_exporter": "python",
   "pygments_lexer": "ipython3",
   "version": "3.12.7"
  }
 },
 "nbformat": 4,
 "nbformat_minor": 5
}
